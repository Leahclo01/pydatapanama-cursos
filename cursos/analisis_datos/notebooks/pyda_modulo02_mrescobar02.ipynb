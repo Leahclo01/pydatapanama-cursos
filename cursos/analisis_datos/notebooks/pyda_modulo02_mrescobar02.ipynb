{
 "cells": [
  {
   "cell_type": "markdown",
   "id": "dbf2748c",
   "metadata": {},
   "source": [
    "# Módulo 2 – Limpieza y Transformación de Datos\n",
    "\n",
    "En esta sesión aprenderás a preparar tus datos antes de un análisis profundo. Trabajaremos con los datasets **`salarios.csv`** y **`paises.csv`** ubicados en `data/raw/`.\n"
   ]
  },
  {
   "cell_type": "markdown",
   "id": "49402359",
   "metadata": {},
   "source": [
    "##  Objetivos de la sesión\n",
    "- Detectar y manejar **valores nulos** y **duplicados**.\n",
    "- Limpiar columnas monetarias y convertir tipos de datos.\n",
    "- **Unir** (merge) datasets por claves comunes.\n",
    "- Crear **nuevas columnas** útiles para el análisis.\n",
    "- Exportar los datos limpios a `data/processed/`.\n"
   ]
  },
  {
   "cell_type": "markdown",
   "id": "95a4554a",
   "metadata": {},
   "source": [
    "## Recuerden la Estructura de un proyecto\n",
    "\n",
    "Una estructura recomendada puede ser:\n",
    "```\n",
    "project-name/\n",
    "├── assest/           # Imagenes, graficos (generalmente no se sube a github)\n",
    "├── data/             # Datos crudos y procesados\n",
    "    ├──── raw/   \n",
    "    ├──── processed/   --> Crear esta carpeta si no la tienen\n",
    "├── notebooks/        # Notebooks del proyecto\n",
    "├── utils/            # Funciones auxiliares\n",
    "├── docs/             # Documentación\n",
    "├── README.md         # Descripción general\n",
    "├── environment.yml   # Dependencias usando conda\n",
    "└── requirements.txt  # Dependencias usando pip"
   ]
  },
  {
   "cell_type": "markdown",
   "id": "18b480a0",
   "metadata": {},
   "source": [
    "---\n",
    "## 1 · Importar librerías y cargar datasets\n",
    "Comenzamos cargando Pandas y leyendo los archivos CSV desde la carpeta `data/raw/`.\n"
   ]
  },
  {
   "cell_type": "markdown",
   "id": "c8301873",
   "metadata": {},
   "source": [
    "### 📦 Librerías que usaremos\n",
    "Importamos módulos clave para:\n",
    "\n",
    "* **pandas / numpy** → manipulación numérica y tabular  \n",
    "* **matplotlib / seaborn** → gráficos rápidos (los usaremos más adelante)  \n",
    "* **pathlib** → manejar rutas de forma independiente del sistema operativo"
   ]
  },
  {
   "cell_type": "code",
   "execution_count": 1,
   "id": "7eb3ef0d",
   "metadata": {},
   "outputs": [],
   "source": [
    "import pandas as pd\n",
    "import numpy as np\n",
    "import matplotlib.pyplot as plt\n",
    "import seaborn as sns"
   ]
  },
  {
   "cell_type": "code",
   "execution_count": 2,
   "id": "e2643569",
   "metadata": {},
   "outputs": [],
   "source": [
    "import sys\n",
    "from pathlib import Path\n",
    "\n",
    "# Subir 3 niveles desde el notebook actual para llegar al root del proyecto\n",
    "PROJECT_ROOT = Path().resolve().parents[2]\n",
    "sys.path.append(str(PROJECT_ROOT))"
   ]
  },
  {
   "cell_type": "markdown",
   "id": "3e6dfcf2",
   "metadata": {},
   "source": [
    "### 🔍 Ubicar el archivo de salarios\n",
    "Utilizamos la constante `DATA_RAW_DIR` (definida en `utils.paths`) para construir\n",
    "la ruta absoluta a **salarios.csv**.  \n",
    "Esto evita escribir paths “hard-codeados” y hace el notebook portable."
   ]
  },
  {
   "cell_type": "code",
   "execution_count": 3,
   "id": "51a1b8d2",
   "metadata": {},
   "outputs": [
    {
     "name": "stdout",
     "output_type": "stream",
     "text": [
      "Ruta del archivo salarios: D:\\Isaac Escobar\\Documents\\Dev\\pydatapanama-cursos\\cursos\\analisis_datos\\data\\raw\n",
      "existe archivo salarios: True\n"
     ]
    }
   ],
   "source": [
    "\n",
    "\n",
    "#Importar la carpeta de datos raw desde paths\n",
    "from cursos.analisis_datos.utils.paths import DATA_RAW_DIR\n",
    "\n",
    "#definir un path o ruta con Path\n",
    "path_salarios = DATA_RAW_DIR\n",
    "path_salarios = str(path_salarios)\n",
    "\n",
    "print(f\"Ruta del archivo salarios: {path_salarios}\")\n",
    "print(f\"existe archivo salarios: {Path(path_salarios).exists()}\")"
   ]
  },
  {
   "cell_type": "markdown",
   "id": "80053dfe",
   "metadata": {},
   "source": [
    "### 📥 Carga del dataset de salarios\n",
    "Leemos el archivo con `pd.read_csv()`.  \n",
    "* `sep=','` porque es un CSV estándar.  \n",
    "* `encoding='utf-8'` asegura que caracteres latinos/acentos se lean bien."
   ]
  },
  {
   "cell_type": "code",
   "execution_count": 5,
   "id": "0dedb189",
   "metadata": {},
   "outputs": [],
   "source": [
    "df_salarios = pd.read_csv(\n",
    "\tfilepath_or_buffer=str(Path(path_salarios) / \"salarios.csv\"),\n",
    "\tsep=',',\n",
    "\tencoding='utf-8'\n",
    ")"
   ]
  },
  {
   "cell_type": "code",
   "execution_count": 6,
   "id": "03330506",
   "metadata": {},
   "outputs": [
    {
     "data": {
      "text/html": [
       "<div>\n",
       "<style scoped>\n",
       "    .dataframe tbody tr th:only-of-type {\n",
       "        vertical-align: middle;\n",
       "    }\n",
       "\n",
       "    .dataframe tbody tr th {\n",
       "        vertical-align: top;\n",
       "    }\n",
       "\n",
       "    .dataframe thead th {\n",
       "        text-align: right;\n",
       "    }\n",
       "</style>\n",
       "<table border=\"1\" class=\"dataframe\">\n",
       "  <thead>\n",
       "    <tr style=\"text-align: right;\">\n",
       "      <th></th>\n",
       "      <th>nombre</th>\n",
       "      <th>apellido</th>\n",
       "      <th>edad</th>\n",
       "      <th>pais</th>\n",
       "      <th>educacion_universitaria</th>\n",
       "      <th>nombre_de_la_empresa</th>\n",
       "      <th>cargo</th>\n",
       "      <th>anos_en_la_empresa</th>\n",
       "      <th>sueldo_anual</th>\n",
       "      <th>bono_anual</th>\n",
       "    </tr>\n",
       "  </thead>\n",
       "  <tbody>\n",
       "    <tr>\n",
       "      <th>0</th>\n",
       "      <td>José</td>\n",
       "      <td>López</td>\n",
       "      <td>36</td>\n",
       "      <td>Chile</td>\n",
       "      <td>Sí</td>\n",
       "      <td>Mercado Libre</td>\n",
       "      <td>Python Developer</td>\n",
       "      <td>2</td>\n",
       "      <td>$71841</td>\n",
       "      <td>€4981</td>\n",
       "    </tr>\n",
       "    <tr>\n",
       "      <th>1</th>\n",
       "      <td>Fernanda</td>\n",
       "      <td>Vargas</td>\n",
       "      <td>39</td>\n",
       "      <td>Chile</td>\n",
       "      <td>Sí</td>\n",
       "      <td>Amazon</td>\n",
       "      <td>AI Software Engineer</td>\n",
       "      <td>2</td>\n",
       "      <td>$142115</td>\n",
       "      <td>€1252</td>\n",
       "    </tr>\n",
       "    <tr>\n",
       "      <th>2</th>\n",
       "      <td>Fernanda</td>\n",
       "      <td>Ramírez</td>\n",
       "      <td>30</td>\n",
       "      <td>Colombia</td>\n",
       "      <td>No</td>\n",
       "      <td>Facebook</td>\n",
       "      <td>Machine Learning Engineer</td>\n",
       "      <td>2</td>\n",
       "      <td>$92278</td>\n",
       "      <td>€5262</td>\n",
       "    </tr>\n",
       "    <tr>\n",
       "      <th>3</th>\n",
       "      <td>José</td>\n",
       "      <td>Gómez</td>\n",
       "      <td>35</td>\n",
       "      <td>Chile</td>\n",
       "      <td>Sí</td>\n",
       "      <td>Mercado Libre</td>\n",
       "      <td>Python Developer</td>\n",
       "      <td>12</td>\n",
       "      <td>$97130</td>\n",
       "      <td>€3671</td>\n",
       "    </tr>\n",
       "    <tr>\n",
       "      <th>4</th>\n",
       "      <td>Ana</td>\n",
       "      <td>Pérez</td>\n",
       "      <td>32</td>\n",
       "      <td>Panamá</td>\n",
       "      <td>No</td>\n",
       "      <td>Amazon</td>\n",
       "      <td>Project Manager</td>\n",
       "      <td>2</td>\n",
       "      <td>$61413</td>\n",
       "      <td>€10190</td>\n",
       "    </tr>\n",
       "    <tr>\n",
       "      <th>5</th>\n",
       "      <td>Andrea</td>\n",
       "      <td>Torres</td>\n",
       "      <td>45</td>\n",
       "      <td>Costa Rica</td>\n",
       "      <td>No</td>\n",
       "      <td>Mercado Libre</td>\n",
       "      <td>Data Engineer</td>\n",
       "      <td>8</td>\n",
       "      <td>$84987</td>\n",
       "      <td>€5493</td>\n",
       "    </tr>\n",
       "    <tr>\n",
       "      <th>6</th>\n",
       "      <td>Andrea</td>\n",
       "      <td>Vargas</td>\n",
       "      <td>58</td>\n",
       "      <td>Chile</td>\n",
       "      <td>No</td>\n",
       "      <td>Mercado Libre</td>\n",
       "      <td>Data Scientist</td>\n",
       "      <td>9</td>\n",
       "      <td>$96936</td>\n",
       "      <td>€4911</td>\n",
       "    </tr>\n",
       "  </tbody>\n",
       "</table>\n",
       "</div>"
      ],
      "text/plain": [
       "     nombre apellido  edad        pais educacion_universitaria  \\\n",
       "0      José    López    36       Chile                      Sí   \n",
       "1  Fernanda   Vargas    39       Chile                      Sí   \n",
       "2  Fernanda  Ramírez    30    Colombia                      No   \n",
       "3      José    Gómez    35       Chile                      Sí   \n",
       "4       Ana    Pérez    32      Panamá                      No   \n",
       "5    Andrea   Torres    45  Costa Rica                      No   \n",
       "6    Andrea   Vargas    58       Chile                      No   \n",
       "\n",
       "  nombre_de_la_empresa                      cargo  anos_en_la_empresa  \\\n",
       "0        Mercado Libre           Python Developer                   2   \n",
       "1               Amazon       AI Software Engineer                   2   \n",
       "2             Facebook  Machine Learning Engineer                   2   \n",
       "3        Mercado Libre           Python Developer                  12   \n",
       "4               Amazon            Project Manager                   2   \n",
       "5        Mercado Libre              Data Engineer                   8   \n",
       "6        Mercado Libre             Data Scientist                   9   \n",
       "\n",
       "  sueldo_anual bono_anual  \n",
       "0       $71841      €4981  \n",
       "1      $142115      €1252  \n",
       "2       $92278      €5262  \n",
       "3       $97130      €3671  \n",
       "4       $61413     €10190  \n",
       "5       $84987      €5493  \n",
       "6       $96936      €4911  "
      ]
     },
     "execution_count": 6,
     "metadata": {},
     "output_type": "execute_result"
    }
   ],
   "source": [
    "df_salarios.head(7)"
   ]
  },
  {
   "cell_type": "code",
   "execution_count": 8,
   "id": "c3ddbba7",
   "metadata": {},
   "outputs": [
    {
     "data": {
      "text/html": [
       "<div>\n",
       "<style scoped>\n",
       "    .dataframe tbody tr th:only-of-type {\n",
       "        vertical-align: middle;\n",
       "    }\n",
       "\n",
       "    .dataframe tbody tr th {\n",
       "        vertical-align: top;\n",
       "    }\n",
       "\n",
       "    .dataframe thead th {\n",
       "        text-align: right;\n",
       "    }\n",
       "</style>\n",
       "<table border=\"1\" class=\"dataframe\">\n",
       "  <thead>\n",
       "    <tr style=\"text-align: right;\">\n",
       "      <th></th>\n",
       "      <th>nombre</th>\n",
       "      <th>apellido</th>\n",
       "      <th>edad</th>\n",
       "      <th>pais</th>\n",
       "      <th>educacion_universitaria</th>\n",
       "      <th>nombre_de_la_empresa</th>\n",
       "      <th>cargo</th>\n",
       "      <th>anos_en_la_empresa</th>\n",
       "      <th>sueldo_anual</th>\n",
       "      <th>bono_anual</th>\n",
       "    </tr>\n",
       "  </thead>\n",
       "  <tbody>\n",
       "    <tr>\n",
       "      <th>320</th>\n",
       "      <td>José</td>\n",
       "      <td>Martínez</td>\n",
       "      <td>35</td>\n",
       "      <td>Chile</td>\n",
       "      <td>Sí</td>\n",
       "      <td>Globant</td>\n",
       "      <td>Data Engineer</td>\n",
       "      <td>3</td>\n",
       "      <td>$97114</td>\n",
       "      <td>€1684</td>\n",
       "    </tr>\n",
       "    <tr>\n",
       "      <th>321</th>\n",
       "      <td>Carlos</td>\n",
       "      <td>Flores</td>\n",
       "      <td>55</td>\n",
       "      <td>Uruguay</td>\n",
       "      <td>Sí</td>\n",
       "      <td>Globant</td>\n",
       "      <td>Machine Learning Engineer</td>\n",
       "      <td>1</td>\n",
       "      <td>$104541</td>\n",
       "      <td>€3128</td>\n",
       "    </tr>\n",
       "    <tr>\n",
       "      <th>322</th>\n",
       "      <td>Lucía</td>\n",
       "      <td>Torres</td>\n",
       "      <td>36</td>\n",
       "      <td>Costa Rica</td>\n",
       "      <td>No</td>\n",
       "      <td>Oracle</td>\n",
       "      <td>Software Engineer</td>\n",
       "      <td>0</td>\n",
       "      <td>$86042</td>\n",
       "      <td>€8746</td>\n",
       "    </tr>\n",
       "    <tr>\n",
       "      <th>323</th>\n",
       "      <td>Lucía</td>\n",
       "      <td>González</td>\n",
       "      <td>56</td>\n",
       "      <td>Uruguay</td>\n",
       "      <td>No</td>\n",
       "      <td>Nubank</td>\n",
       "      <td>Data Scientist</td>\n",
       "      <td>7</td>\n",
       "      <td>$96078</td>\n",
       "      <td>€11419</td>\n",
       "    </tr>\n",
       "    <tr>\n",
       "      <th>324</th>\n",
       "      <td>Andrea</td>\n",
       "      <td>Pérez</td>\n",
       "      <td>26</td>\n",
       "      <td>Perú</td>\n",
       "      <td>Sí</td>\n",
       "      <td>Meta</td>\n",
       "      <td>Data Engineer</td>\n",
       "      <td>11</td>\n",
       "      <td>$93115</td>\n",
       "      <td>€3426</td>\n",
       "    </tr>\n",
       "  </tbody>\n",
       "</table>\n",
       "</div>"
      ],
      "text/plain": [
       "     nombre  apellido  edad        pais educacion_universitaria  \\\n",
       "320    José  Martínez    35       Chile                      Sí   \n",
       "321  Carlos    Flores    55     Uruguay                      Sí   \n",
       "322   Lucía    Torres    36  Costa Rica                      No   \n",
       "323   Lucía  González    56     Uruguay                      No   \n",
       "324  Andrea     Pérez    26        Perú                      Sí   \n",
       "\n",
       "    nombre_de_la_empresa                      cargo  anos_en_la_empresa  \\\n",
       "320              Globant              Data Engineer                   3   \n",
       "321              Globant  Machine Learning Engineer                   1   \n",
       "322               Oracle          Software Engineer                   0   \n",
       "323               Nubank             Data Scientist                   7   \n",
       "324                 Meta              Data Engineer                  11   \n",
       "\n",
       "    sueldo_anual bono_anual  \n",
       "320       $97114      €1684  \n",
       "321      $104541      €3128  \n",
       "322       $86042      €8746  \n",
       "323       $96078     €11419  \n",
       "324       $93115      €3426  "
      ]
     },
     "execution_count": 8,
     "metadata": {},
     "output_type": "execute_result"
    }
   ],
   "source": [
    "df_salarios.tail(5)"
   ]
  },
  {
   "cell_type": "code",
   "execution_count": 9,
   "id": "377a3dab",
   "metadata": {},
   "outputs": [
    {
     "data": {
      "text/html": [
       "<div>\n",
       "<style scoped>\n",
       "    .dataframe tbody tr th:only-of-type {\n",
       "        vertical-align: middle;\n",
       "    }\n",
       "\n",
       "    .dataframe tbody tr th {\n",
       "        vertical-align: top;\n",
       "    }\n",
       "\n",
       "    .dataframe thead th {\n",
       "        text-align: right;\n",
       "    }\n",
       "</style>\n",
       "<table border=\"1\" class=\"dataframe\">\n",
       "  <thead>\n",
       "    <tr style=\"text-align: right;\">\n",
       "      <th></th>\n",
       "      <th>nombre</th>\n",
       "      <th>apellido</th>\n",
       "      <th>edad</th>\n",
       "      <th>pais</th>\n",
       "      <th>educacion_universitaria</th>\n",
       "      <th>nombre_de_la_empresa</th>\n",
       "      <th>cargo</th>\n",
       "      <th>anos_en_la_empresa</th>\n",
       "      <th>sueldo_anual</th>\n",
       "      <th>bono_anual</th>\n",
       "    </tr>\n",
       "  </thead>\n",
       "  <tbody>\n",
       "    <tr>\n",
       "      <th>234</th>\n",
       "      <td>Pedro</td>\n",
       "      <td>Ramírez</td>\n",
       "      <td>35</td>\n",
       "      <td>Perú</td>\n",
       "      <td>Sí</td>\n",
       "      <td>Rappi</td>\n",
       "      <td>Data Scientist</td>\n",
       "      <td>13</td>\n",
       "      <td>$114272</td>\n",
       "      <td>€2901</td>\n",
       "    </tr>\n",
       "    <tr>\n",
       "      <th>110</th>\n",
       "      <td>Diego</td>\n",
       "      <td>Morales</td>\n",
       "      <td>43</td>\n",
       "      <td>Colombia</td>\n",
       "      <td>Sí</td>\n",
       "      <td>Google</td>\n",
       "      <td>AI Software Engineer</td>\n",
       "      <td>7</td>\n",
       "      <td>$118594</td>\n",
       "      <td>€3275</td>\n",
       "    </tr>\n",
       "    <tr>\n",
       "      <th>248</th>\n",
       "      <td>Carlos</td>\n",
       "      <td>Rodríguez</td>\n",
       "      <td>25</td>\n",
       "      <td>Argentina</td>\n",
       "      <td>No</td>\n",
       "      <td>Rappi</td>\n",
       "      <td>AI Software Engineer</td>\n",
       "      <td>1</td>\n",
       "      <td>$86584</td>\n",
       "      <td>€1849</td>\n",
       "    </tr>\n",
       "    <tr>\n",
       "      <th>9</th>\n",
       "      <td>María</td>\n",
       "      <td>Vargas</td>\n",
       "      <td>50</td>\n",
       "      <td>Colombia</td>\n",
       "      <td>No</td>\n",
       "      <td>Oracle</td>\n",
       "      <td>Machine Learning Engineer</td>\n",
       "      <td>13</td>\n",
       "      <td>$105123</td>\n",
       "      <td>€12154</td>\n",
       "    </tr>\n",
       "    <tr>\n",
       "      <th>93</th>\n",
       "      <td>Camila</td>\n",
       "      <td>Ríos</td>\n",
       "      <td>32</td>\n",
       "      <td>Uruguay</td>\n",
       "      <td>No</td>\n",
       "      <td>Nubank</td>\n",
       "      <td>AI Software Engineer</td>\n",
       "      <td>8</td>\n",
       "      <td>$141274</td>\n",
       "      <td>€12409</td>\n",
       "    </tr>\n",
       "  </tbody>\n",
       "</table>\n",
       "</div>"
      ],
      "text/plain": [
       "     nombre   apellido  edad       pais educacion_universitaria  \\\n",
       "234   Pedro    Ramírez    35       Perú                      Sí   \n",
       "110   Diego    Morales    43   Colombia                      Sí   \n",
       "248  Carlos  Rodríguez    25  Argentina                      No   \n",
       "9     María     Vargas    50   Colombia                      No   \n",
       "93   Camila       Ríos    32    Uruguay                      No   \n",
       "\n",
       "    nombre_de_la_empresa                      cargo  anos_en_la_empresa  \\\n",
       "234                Rappi             Data Scientist                  13   \n",
       "110               Google       AI Software Engineer                   7   \n",
       "248                Rappi       AI Software Engineer                   1   \n",
       "9                 Oracle  Machine Learning Engineer                  13   \n",
       "93                Nubank       AI Software Engineer                   8   \n",
       "\n",
       "    sueldo_anual bono_anual  \n",
       "234      $114272      €2901  \n",
       "110      $118594      €3275  \n",
       "248       $86584      €1849  \n",
       "9        $105123     €12154  \n",
       "93       $141274     €12409  "
      ]
     },
     "execution_count": 9,
     "metadata": {},
     "output_type": "execute_result"
    }
   ],
   "source": [
    "df_salarios.sample(5, random_state=42)"
   ]
  },
  {
   "cell_type": "markdown",
   "id": "4000e935",
   "metadata": {},
   "source": [
    "---\n",
    "## 2 · Explorar la estructura del dataset\n",
    "### 2.1 Información general\n",
    "Revisamos tipos de datos, cantidad de filas/columnas y valores nulos.\n"
   ]
  },
  {
   "cell_type": "markdown",
   "id": "578d1755",
   "metadata": {},
   "source": [
    "### 🏷️ Inspección rápida del DataFrame\n",
    "`df.info()` resume:\n",
    "* Columnas y tipos (`object`, `int64`, etc.)  \n",
    "* Filas no-nulas por columna → detectamos valores faltantes (`pais`, `empresa`)  \n",
    "* Memoria ocupada"
   ]
  },
  {
   "cell_type": "code",
   "execution_count": 7,
   "id": "4f8b17fb",
   "metadata": {},
   "outputs": [
    {
     "name": "stdout",
     "output_type": "stream",
     "text": [
      "<class 'pandas.core.frame.DataFrame'>\n",
      "RangeIndex: 325 entries, 0 to 324\n",
      "Data columns (total 10 columns):\n",
      " #   Column                   Non-Null Count  Dtype \n",
      "---  ------                   --------------  ----- \n",
      " 0   nombre                   325 non-null    object\n",
      " 1   apellido                 325 non-null    object\n",
      " 2   edad                     325 non-null    int64 \n",
      " 3   pais                     324 non-null    object\n",
      " 4   educacion_universitaria  325 non-null    object\n",
      " 5   nombre_de_la_empresa     317 non-null    object\n",
      " 6   cargo                    325 non-null    object\n",
      " 7   anos_en_la_empresa       325 non-null    int64 \n",
      " 8   sueldo_anual             325 non-null    object\n",
      " 9   bono_anual               325 non-null    object\n",
      "dtypes: int64(2), object(8)\n",
      "memory usage: 25.5+ KB\n"
     ]
    }
   ],
   "source": [
    "df_salarios.info()"
   ]
  },
  {
   "cell_type": "markdown",
   "id": "ddf6c9af",
   "metadata": {},
   "source": [
    "### 2.2 Estadísticas descriptivas rápidas\n"
   ]
  },
  {
   "cell_type": "markdown",
   "id": "5f75b2c2",
   "metadata": {},
   "source": [
    "### 📊 Estadísticas descriptivas\n",
    "`df.describe()` genera medidas (count, mean, std…) solo para columnas\n",
    "numéricas. Aquí vemos *edad* y *años en la empresa*.  \n",
    "Esto ayuda a detectar outliers y entender la dispersión."
   ]
  },
  {
   "cell_type": "code",
   "execution_count": 10,
   "id": "cf91ba26",
   "metadata": {},
   "outputs": [
    {
     "data": {
      "text/html": [
       "<div>\n",
       "<style scoped>\n",
       "    .dataframe tbody tr th:only-of-type {\n",
       "        vertical-align: middle;\n",
       "    }\n",
       "\n",
       "    .dataframe tbody tr th {\n",
       "        vertical-align: top;\n",
       "    }\n",
       "\n",
       "    .dataframe thead th {\n",
       "        text-align: right;\n",
       "    }\n",
       "</style>\n",
       "<table border=\"1\" class=\"dataframe\">\n",
       "  <thead>\n",
       "    <tr style=\"text-align: right;\">\n",
       "      <th></th>\n",
       "      <th>edad</th>\n",
       "      <th>anos_en_la_empresa</th>\n",
       "    </tr>\n",
       "  </thead>\n",
       "  <tbody>\n",
       "    <tr>\n",
       "      <th>count</th>\n",
       "      <td>325.000000</td>\n",
       "      <td>325.000000</td>\n",
       "    </tr>\n",
       "    <tr>\n",
       "      <th>mean</th>\n",
       "      <td>40.889231</td>\n",
       "      <td>6.353846</td>\n",
       "    </tr>\n",
       "    <tr>\n",
       "      <th>std</th>\n",
       "      <td>11.582769</td>\n",
       "      <td>3.997803</td>\n",
       "    </tr>\n",
       "    <tr>\n",
       "      <th>min</th>\n",
       "      <td>22.000000</td>\n",
       "      <td>0.000000</td>\n",
       "    </tr>\n",
       "    <tr>\n",
       "      <th>25%</th>\n",
       "      <td>30.000000</td>\n",
       "      <td>3.000000</td>\n",
       "    </tr>\n",
       "    <tr>\n",
       "      <th>50%</th>\n",
       "      <td>41.000000</td>\n",
       "      <td>6.000000</td>\n",
       "    </tr>\n",
       "    <tr>\n",
       "      <th>75%</th>\n",
       "      <td>51.000000</td>\n",
       "      <td>10.000000</td>\n",
       "    </tr>\n",
       "    <tr>\n",
       "      <th>max</th>\n",
       "      <td>60.000000</td>\n",
       "      <td>13.000000</td>\n",
       "    </tr>\n",
       "  </tbody>\n",
       "</table>\n",
       "</div>"
      ],
      "text/plain": [
       "             edad  anos_en_la_empresa\n",
       "count  325.000000          325.000000\n",
       "mean    40.889231            6.353846\n",
       "std     11.582769            3.997803\n",
       "min     22.000000            0.000000\n",
       "25%     30.000000            3.000000\n",
       "50%     41.000000            6.000000\n",
       "75%     51.000000           10.000000\n",
       "max     60.000000           13.000000"
      ]
     },
     "execution_count": 10,
     "metadata": {},
     "output_type": "execute_result"
    }
   ],
   "source": [
    "df_salarios.describe()"
   ]
  },
  {
   "cell_type": "markdown",
   "id": "b7493791",
   "metadata": {},
   "source": [
    "---\n",
    "## 3 · Limpiar columnas monetarias\n",
    "Las columnas `sueldo_anual` y `bono_anual` tienen símbolos de moneda. Eliminamos `$` y `€` y convertimos a `float`.\n"
   ]
  },
  {
   "cell_type": "code",
   "execution_count": null,
   "id": "7a25c892",
   "metadata": {},
   "outputs": [],
   "source": [
    "df_salarios.head()"
   ]
  },
  {
   "cell_type": "markdown",
   "id": "a057efbf",
   "metadata": {},
   "source": [
    "Revisar las columnas `sueldo_anual` y `bono_anual` pues tienen los simbolos de moneda"
   ]
  },
  {
   "cell_type": "markdown",
   "id": "e71b5d58",
   "metadata": {},
   "source": [
    "### 💲 Columnas monetarias originales\n",
    "Previsualizamos `sueldo_anual` y `bono_anual` antes de limpiarlas.\n",
    "Observa que contienen símbolos (`$`, `€`) "
   ]
  },
  {
   "cell_type": "code",
   "execution_count": 11,
   "id": "15ffed8e",
   "metadata": {},
   "outputs": [
    {
     "data": {
      "text/html": [
       "<div>\n",
       "<style scoped>\n",
       "    .dataframe tbody tr th:only-of-type {\n",
       "        vertical-align: middle;\n",
       "    }\n",
       "\n",
       "    .dataframe tbody tr th {\n",
       "        vertical-align: top;\n",
       "    }\n",
       "\n",
       "    .dataframe thead th {\n",
       "        text-align: right;\n",
       "    }\n",
       "</style>\n",
       "<table border=\"1\" class=\"dataframe\">\n",
       "  <thead>\n",
       "    <tr style=\"text-align: right;\">\n",
       "      <th></th>\n",
       "      <th>sueldo_anual</th>\n",
       "      <th>bono_anual</th>\n",
       "    </tr>\n",
       "  </thead>\n",
       "  <tbody>\n",
       "    <tr>\n",
       "      <th>0</th>\n",
       "      <td>$71841</td>\n",
       "      <td>€4981</td>\n",
       "    </tr>\n",
       "    <tr>\n",
       "      <th>1</th>\n",
       "      <td>$142115</td>\n",
       "      <td>€1252</td>\n",
       "    </tr>\n",
       "    <tr>\n",
       "      <th>2</th>\n",
       "      <td>$92278</td>\n",
       "      <td>€5262</td>\n",
       "    </tr>\n",
       "    <tr>\n",
       "      <th>3</th>\n",
       "      <td>$97130</td>\n",
       "      <td>€3671</td>\n",
       "    </tr>\n",
       "    <tr>\n",
       "      <th>4</th>\n",
       "      <td>$61413</td>\n",
       "      <td>€10190</td>\n",
       "    </tr>\n",
       "    <tr>\n",
       "      <th>...</th>\n",
       "      <td>...</td>\n",
       "      <td>...</td>\n",
       "    </tr>\n",
       "    <tr>\n",
       "      <th>320</th>\n",
       "      <td>$97114</td>\n",
       "      <td>€1684</td>\n",
       "    </tr>\n",
       "    <tr>\n",
       "      <th>321</th>\n",
       "      <td>$104541</td>\n",
       "      <td>€3128</td>\n",
       "    </tr>\n",
       "    <tr>\n",
       "      <th>322</th>\n",
       "      <td>$86042</td>\n",
       "      <td>€8746</td>\n",
       "    </tr>\n",
       "    <tr>\n",
       "      <th>323</th>\n",
       "      <td>$96078</td>\n",
       "      <td>€11419</td>\n",
       "    </tr>\n",
       "    <tr>\n",
       "      <th>324</th>\n",
       "      <td>$93115</td>\n",
       "      <td>€3426</td>\n",
       "    </tr>\n",
       "  </tbody>\n",
       "</table>\n",
       "<p>325 rows × 2 columns</p>\n",
       "</div>"
      ],
      "text/plain": [
       "    sueldo_anual bono_anual\n",
       "0         $71841      €4981\n",
       "1        $142115      €1252\n",
       "2         $92278      €5262\n",
       "3         $97130      €3671\n",
       "4         $61413     €10190\n",
       "..           ...        ...\n",
       "320       $97114      €1684\n",
       "321      $104541      €3128\n",
       "322       $86042      €8746\n",
       "323       $96078     €11419\n",
       "324       $93115      €3426\n",
       "\n",
       "[325 rows x 2 columns]"
      ]
     },
     "execution_count": 11,
     "metadata": {},
     "output_type": "execute_result"
    }
   ],
   "source": [
    "# escribe tu codigo aqui\n",
    "df_salarios[['sueldo_anual', 'bono_anual']]"
   ]
  },
  {
   "cell_type": "markdown",
   "id": "b550d1b8",
   "metadata": {},
   "source": [
    "Renombrar las columnas usando `.rename`\n",
    "\n",
    "```python\n",
    "columns={\n",
    "        \"sueldo_anual\": \"sueldo_anual_dolares\",\n",
    "        \"bono_anual\": \"bono_anual_euros\"\n",
    "    }\n",
    "```"
   ]
  },
  {
   "cell_type": "code",
   "execution_count": 12,
   "id": "06435a86",
   "metadata": {},
   "outputs": [],
   "source": [
    "# escribe tu codigo aqui\n",
    "#renombrar columnas\n",
    "df_salarios.rename(\n",
    "    columns={\n",
    "        'sueldo_anual': 'sueldo_anual_dolares',\n",
    "        'bono_anual': 'bono_anual_euros'\n",
    "    },\n",
    "    inplace=True\n",
    ")"
   ]
  },
  {
   "cell_type": "markdown",
   "id": "25c9dd43",
   "metadata": {},
   "source": [
    "Revisar si las columnas cambiaron de nombre con `.columns`"
   ]
  },
  {
   "cell_type": "code",
   "execution_count": 16,
   "id": "c2456622",
   "metadata": {},
   "outputs": [
    {
     "data": {
      "text/plain": [
       "Index(['nombre', 'apellido', 'edad', 'pais', 'educacion_universitaria',\n",
       "       'nombre_de_la_empresa', 'cargo', 'anos_en_la_empresa',\n",
       "       'sueldo_anual_dolares', 'bono_anual_euros'],\n",
       "      dtype='object')"
      ]
     },
     "execution_count": 16,
     "metadata": {},
     "output_type": "execute_result"
    }
   ],
   "source": [
    "# escribe tu codigo aqui\n",
    "# revisar si las columnas cambiaron con .columns\n",
    "df_salarios.columns"
   ]
  },
  {
   "cell_type": "markdown",
   "id": "ad6be8c2",
   "metadata": {},
   "source": [
    "Reemplazar el simbolo de dólar `$` por  `''` utilizando el método `.replace()` "
   ]
  },
  {
   "cell_type": "markdown",
   "id": "0d8b55fe",
   "metadata": {},
   "source": [
    "### ✂️ Eliminar símbolo de dólar\n",
    "`str.replace('$','')` quita el carácter pero **deja las comas**.\n",
    "Aún es tipo `object` (string); falta:\n",
    "1. eliminar comas,\n",
    "2. convertir a `float`."
   ]
  },
  {
   "cell_type": "code",
   "execution_count": null,
   "id": "b2f4927c",
   "metadata": {},
   "outputs": [],
   "source": [
    "# escribe tu codigo aqui\n",
    "# Eliminar simbolo de dolar de la columna sueldo_anual_dolares, reemplazar vacíos por np.nan y convertir a float\n",
    "df_salarios['sueldo_anual_dolares'] = (\n",
    "\tdf_salarios['sueldo_anual_dolares']\n",
    "\t\t.str.replace('$', '', regex=False)\n",
    ")"
   ]
  },
  {
   "cell_type": "markdown",
   "id": "1571b3b1",
   "metadata": {},
   "source": [
    "Cambiar el tipo de dato de sueldo_anual_dolares con `.astype(float)`"
   ]
  },
  {
   "cell_type": "markdown",
   "id": "799305d9",
   "metadata": {},
   "source": [
    "> **Nota:** se produce un `ValueError` porque todavía hay **celdas vacías**\n",
    "  (`''`) o valores con comas que impiden la conversión directa a `float`."
   ]
  },
  {
   "cell_type": "code",
   "execution_count": 19,
   "id": "9fcd67f0",
   "metadata": {},
   "outputs": [],
   "source": [
    "\n",
    "df_salarios['sueldo_anual_dolares'] = df_salarios['sueldo_anual_dolares'].astype(float)"
   ]
  },
  {
   "cell_type": "code",
   "execution_count": 21,
   "id": "7cb0519f",
   "metadata": {},
   "outputs": [
    {
     "name": "stdout",
     "output_type": "stream",
     "text": [
      "<class 'pandas.core.frame.DataFrame'>\n",
      "RangeIndex: 325 entries, 0 to 324\n",
      "Data columns (total 10 columns):\n",
      " #   Column                   Non-Null Count  Dtype  \n",
      "---  ------                   --------------  -----  \n",
      " 0   nombre                   325 non-null    object \n",
      " 1   apellido                 325 non-null    object \n",
      " 2   edad                     325 non-null    int64  \n",
      " 3   pais                     324 non-null    object \n",
      " 4   educacion_universitaria  325 non-null    object \n",
      " 5   nombre_de_la_empresa     317 non-null    object \n",
      " 6   cargo                    325 non-null    object \n",
      " 7   anos_en_la_empresa       325 non-null    int64  \n",
      " 8   sueldo_anual_dolares     318 non-null    float64\n",
      " 9   bono_anual_euros         325 non-null    object \n",
      "dtypes: float64(1), int64(2), object(7)\n",
      "memory usage: 25.5+ KB\n"
     ]
    }
   ],
   "source": [
    "df_salarios.info()"
   ]
  },
  {
   "cell_type": "markdown",
   "id": "aeb9629f",
   "metadata": {},
   "source": [
    "### Funcionó? o Cuál es el error?"
   ]
  },
  {
   "cell_type": "markdown",
   "id": "7d539374",
   "metadata": {},
   "source": [
    "##### Tu respuesta aqui"
   ]
  },
  {
   "cell_type": "markdown",
   "id": "2f59bc01",
   "metadata": {},
   "source": [
    "reemplazar las celdas vacias `''`"
   ]
  },
  {
   "cell_type": "markdown",
   "id": "20b274dc",
   "metadata": {},
   "source": [
    "### 🛠️ Reemplazar strings vacíos por `NaN`\n",
    "Usamos `.replace('', np.nan)` para que pandas los reconozca como faltantes\n",
    "y permita la conversión numérica en el siguiente paso."
   ]
  },
  {
   "cell_type": "code",
   "execution_count": 22,
   "id": "45485a55",
   "metadata": {},
   "outputs": [],
   "source": [
    "# escribe tu codigo aqui\n",
    "df_salarios[\"sueldo_anual_dolares\"] = df_salarios[\"sueldo_anual_dolares\"].replace('', np.nan)"
   ]
  },
  {
   "cell_type": "markdown",
   "id": "f7968fdd",
   "metadata": {},
   "source": [
    "Cambiar el tipo de datos con `.astype(float)`"
   ]
  },
  {
   "cell_type": "markdown",
   "id": "a1426fda",
   "metadata": {},
   "source": [
    "### 🔄 Convertir a numérico\n",
    "Ahora que no hay símbolos ni strings vacíos, `astype(float)` funciona.\n",
    "El resultado es una columna `float64` lista para cálculos."
   ]
  },
  {
   "cell_type": "code",
   "execution_count": 23,
   "id": "550641f0",
   "metadata": {},
   "outputs": [],
   "source": [
    "# escribe tu codigo aqui\n",
    "df_salarios[\"sueldo_anual_dolares\"] = df_salarios[\"sueldo_anual_dolares\"].astype(float)"
   ]
  },
  {
   "cell_type": "markdown",
   "id": "27760cc0",
   "metadata": {},
   "source": [
    "Revisar que valores de `sueldo_anual_dolares` tienen el valor `np.nan`"
   ]
  },
  {
   "cell_type": "markdown",
   "id": "eb705b2c",
   "metadata": {},
   "source": [
    "### 📌 Ver cuántos salarios quedaron como `NaN`\n",
    "Esto nos indica cuántos registros tendrán que imputarse\n",
    "o eliminarse en el siguiente bloque de limpieza."
   ]
  },
  {
   "cell_type": "code",
   "execution_count": 26,
   "id": "ff8bf05e",
   "metadata": {},
   "outputs": [
    {
     "data": {
      "text/plain": [
       "np.int64(7)"
      ]
     },
     "execution_count": 26,
     "metadata": {},
     "output_type": "execute_result"
    }
   ],
   "source": [
    "# escribe tu codigo aqui\n",
    "#cuantos salarios quedaron como nan\n",
    "df_salarios[\"sueldo_anual_dolares\"].isna().sum()"
   ]
  },
  {
   "cell_type": "markdown",
   "id": "05c076b1",
   "metadata": {},
   "source": [
    "### 🔍 Inspeccionar filas con salario faltante\n",
    "Listamos las 7 filas donde `sueldo_anual_dolares` es `NaN`.\n",
    "Podremos decidir si:\n",
    "* imputar con la mediana por cargo/país,  \n",
    "* o eliminar si los valores son críticos."
   ]
  },
  {
   "cell_type": "code",
   "execution_count": 27,
   "id": "e8ed96e2",
   "metadata": {},
   "outputs": [
    {
     "data": {
      "text/html": [
       "<div>\n",
       "<style scoped>\n",
       "    .dataframe tbody tr th:only-of-type {\n",
       "        vertical-align: middle;\n",
       "    }\n",
       "\n",
       "    .dataframe tbody tr th {\n",
       "        vertical-align: top;\n",
       "    }\n",
       "\n",
       "    .dataframe thead th {\n",
       "        text-align: right;\n",
       "    }\n",
       "</style>\n",
       "<table border=\"1\" class=\"dataframe\">\n",
       "  <thead>\n",
       "    <tr style=\"text-align: right;\">\n",
       "      <th></th>\n",
       "      <th>nombre</th>\n",
       "      <th>apellido</th>\n",
       "      <th>edad</th>\n",
       "      <th>pais</th>\n",
       "      <th>educacion_universitaria</th>\n",
       "      <th>nombre_de_la_empresa</th>\n",
       "      <th>cargo</th>\n",
       "      <th>anos_en_la_empresa</th>\n",
       "      <th>sueldo_anual_dolares</th>\n",
       "      <th>bono_anual_euros</th>\n",
       "    </tr>\n",
       "  </thead>\n",
       "  <tbody>\n",
       "    <tr>\n",
       "      <th>302</th>\n",
       "      <td>María</td>\n",
       "      <td>Ríos</td>\n",
       "      <td>27</td>\n",
       "      <td>Argentina</td>\n",
       "      <td>Sí</td>\n",
       "      <td>Globant</td>\n",
       "      <td>Python Developer</td>\n",
       "      <td>4</td>\n",
       "      <td>NaN</td>\n",
       "      <td>€11287</td>\n",
       "    </tr>\n",
       "    <tr>\n",
       "      <th>305</th>\n",
       "      <td>Paula</td>\n",
       "      <td>Díaz</td>\n",
       "      <td>53</td>\n",
       "      <td>Costa Rica</td>\n",
       "      <td>No</td>\n",
       "      <td>NaN</td>\n",
       "      <td>Machine Learning Engineer</td>\n",
       "      <td>10</td>\n",
       "      <td>NaN</td>\n",
       "      <td>€9874</td>\n",
       "    </tr>\n",
       "    <tr>\n",
       "      <th>306</th>\n",
       "      <td>Luis</td>\n",
       "      <td>Pérez</td>\n",
       "      <td>27</td>\n",
       "      <td>Chile</td>\n",
       "      <td>No</td>\n",
       "      <td>Facebook</td>\n",
       "      <td>AI Software Engineer</td>\n",
       "      <td>10</td>\n",
       "      <td>NaN</td>\n",
       "      <td>€10379</td>\n",
       "    </tr>\n",
       "    <tr>\n",
       "      <th>307</th>\n",
       "      <td>Andrea</td>\n",
       "      <td>Rodríguez</td>\n",
       "      <td>36</td>\n",
       "      <td>Panamá</td>\n",
       "      <td>Sí</td>\n",
       "      <td>Facebook</td>\n",
       "      <td>Project Manager</td>\n",
       "      <td>1</td>\n",
       "      <td>NaN</td>\n",
       "      <td>€3878</td>\n",
       "    </tr>\n",
       "    <tr>\n",
       "      <th>308</th>\n",
       "      <td>Juan</td>\n",
       "      <td>Morales</td>\n",
       "      <td>49</td>\n",
       "      <td>Costa Rica</td>\n",
       "      <td>No</td>\n",
       "      <td>Amazon</td>\n",
       "      <td>Software Engineer</td>\n",
       "      <td>2</td>\n",
       "      <td>NaN</td>\n",
       "      <td>€12223</td>\n",
       "    </tr>\n",
       "    <tr>\n",
       "      <th>309</th>\n",
       "      <td>Camila</td>\n",
       "      <td>Torres</td>\n",
       "      <td>45</td>\n",
       "      <td>México</td>\n",
       "      <td>No</td>\n",
       "      <td>Facebook</td>\n",
       "      <td>Data Engineer</td>\n",
       "      <td>3</td>\n",
       "      <td>NaN</td>\n",
       "      <td>€2816</td>\n",
       "    </tr>\n",
       "    <tr>\n",
       "      <th>310</th>\n",
       "      <td>Diego</td>\n",
       "      <td>Díaz</td>\n",
       "      <td>41</td>\n",
       "      <td>México</td>\n",
       "      <td>No</td>\n",
       "      <td>Google</td>\n",
       "      <td>Data Analyst</td>\n",
       "      <td>0</td>\n",
       "      <td>NaN</td>\n",
       "      <td>€5934</td>\n",
       "    </tr>\n",
       "  </tbody>\n",
       "</table>\n",
       "</div>"
      ],
      "text/plain": [
       "     nombre   apellido  edad        pais educacion_universitaria  \\\n",
       "302   María       Ríos    27   Argentina                      Sí   \n",
       "305   Paula       Díaz    53  Costa Rica                      No   \n",
       "306    Luis      Pérez    27       Chile                      No   \n",
       "307  Andrea  Rodríguez    36      Panamá                      Sí   \n",
       "308    Juan    Morales    49  Costa Rica                      No   \n",
       "309  Camila     Torres    45      México                      No   \n",
       "310   Diego       Díaz    41      México                      No   \n",
       "\n",
       "    nombre_de_la_empresa                      cargo  anos_en_la_empresa  \\\n",
       "302              Globant           Python Developer                   4   \n",
       "305                  NaN  Machine Learning Engineer                  10   \n",
       "306             Facebook       AI Software Engineer                  10   \n",
       "307             Facebook            Project Manager                   1   \n",
       "308               Amazon          Software Engineer                   2   \n",
       "309             Facebook              Data Engineer                   3   \n",
       "310               Google               Data Analyst                   0   \n",
       "\n",
       "     sueldo_anual_dolares bono_anual_euros  \n",
       "302                   NaN           €11287  \n",
       "305                   NaN            €9874  \n",
       "306                   NaN           €10379  \n",
       "307                   NaN            €3878  \n",
       "308                   NaN           €12223  \n",
       "309                   NaN            €2816  \n",
       "310                   NaN            €5934  "
      ]
     },
     "execution_count": 27,
     "metadata": {},
     "output_type": "execute_result"
    }
   ],
   "source": [
    "df_salarios[df_salarios['sueldo_anual_dolares'].isna()]"
   ]
  },
  {
   "cell_type": "markdown",
   "id": "7e5d655e",
   "metadata": {},
   "source": [
    "Ahora el mismo proceso con el símbolo de euros `€`"
   ]
  },
  {
   "cell_type": "code",
   "execution_count": 28,
   "id": "ebc172ea",
   "metadata": {},
   "outputs": [],
   "source": [
    "df_salarios['bono_anual_euros'] = (df_salarios['bono_anual_euros'].str.replace('€', ''))"
   ]
  },
  {
   "cell_type": "code",
   "execution_count": 29,
   "id": "61870172",
   "metadata": {},
   "outputs": [],
   "source": [
    "df_salarios['bono_anual_euros'] = (df_salarios['bono_anual_euros'].astype(float))"
   ]
  },
  {
   "cell_type": "code",
   "execution_count": 30,
   "id": "54e11cb8",
   "metadata": {},
   "outputs": [
    {
     "data": {
      "text/html": [
       "<div>\n",
       "<style scoped>\n",
       "    .dataframe tbody tr th:only-of-type {\n",
       "        vertical-align: middle;\n",
       "    }\n",
       "\n",
       "    .dataframe tbody tr th {\n",
       "        vertical-align: top;\n",
       "    }\n",
       "\n",
       "    .dataframe thead th {\n",
       "        text-align: right;\n",
       "    }\n",
       "</style>\n",
       "<table border=\"1\" class=\"dataframe\">\n",
       "  <thead>\n",
       "    <tr style=\"text-align: right;\">\n",
       "      <th></th>\n",
       "      <th>nombre</th>\n",
       "      <th>apellido</th>\n",
       "      <th>edad</th>\n",
       "      <th>pais</th>\n",
       "      <th>educacion_universitaria</th>\n",
       "      <th>nombre_de_la_empresa</th>\n",
       "      <th>cargo</th>\n",
       "      <th>anos_en_la_empresa</th>\n",
       "      <th>sueldo_anual_dolares</th>\n",
       "      <th>bono_anual_euros</th>\n",
       "    </tr>\n",
       "  </thead>\n",
       "  <tbody>\n",
       "  </tbody>\n",
       "</table>\n",
       "</div>"
      ],
      "text/plain": [
       "Empty DataFrame\n",
       "Columns: [nombre, apellido, edad, pais, educacion_universitaria, nombre_de_la_empresa, cargo, anos_en_la_empresa, sueldo_anual_dolares, bono_anual_euros]\n",
       "Index: []"
      ]
     },
     "execution_count": 30,
     "metadata": {},
     "output_type": "execute_result"
    }
   ],
   "source": [
    "df_salarios[df_salarios['bono_anual_euros'].isna()]"
   ]
  },
  {
   "cell_type": "code",
   "execution_count": 31,
   "id": "8ebbd601",
   "metadata": {},
   "outputs": [
    {
     "data": {
      "text/html": [
       "<div>\n",
       "<style scoped>\n",
       "    .dataframe tbody tr th:only-of-type {\n",
       "        vertical-align: middle;\n",
       "    }\n",
       "\n",
       "    .dataframe tbody tr th {\n",
       "        vertical-align: top;\n",
       "    }\n",
       "\n",
       "    .dataframe thead th {\n",
       "        text-align: right;\n",
       "    }\n",
       "</style>\n",
       "<table border=\"1\" class=\"dataframe\">\n",
       "  <thead>\n",
       "    <tr style=\"text-align: right;\">\n",
       "      <th></th>\n",
       "      <th>sueldo_anual_dolares</th>\n",
       "      <th>bono_anual_euros</th>\n",
       "    </tr>\n",
       "  </thead>\n",
       "  <tbody>\n",
       "    <tr>\n",
       "      <th>0</th>\n",
       "      <td>71841.0</td>\n",
       "      <td>4981.0</td>\n",
       "    </tr>\n",
       "    <tr>\n",
       "      <th>1</th>\n",
       "      <td>142115.0</td>\n",
       "      <td>1252.0</td>\n",
       "    </tr>\n",
       "    <tr>\n",
       "      <th>2</th>\n",
       "      <td>92278.0</td>\n",
       "      <td>5262.0</td>\n",
       "    </tr>\n",
       "    <tr>\n",
       "      <th>3</th>\n",
       "      <td>97130.0</td>\n",
       "      <td>3671.0</td>\n",
       "    </tr>\n",
       "    <tr>\n",
       "      <th>4</th>\n",
       "      <td>61413.0</td>\n",
       "      <td>10190.0</td>\n",
       "    </tr>\n",
       "  </tbody>\n",
       "</table>\n",
       "</div>"
      ],
      "text/plain": [
       "   sueldo_anual_dolares  bono_anual_euros\n",
       "0               71841.0            4981.0\n",
       "1              142115.0            1252.0\n",
       "2               92278.0            5262.0\n",
       "3               97130.0            3671.0\n",
       "4               61413.0           10190.0"
      ]
     },
     "execution_count": 31,
     "metadata": {},
     "output_type": "execute_result"
    }
   ],
   "source": [
    "df_salarios[['sueldo_anual_dolares', 'bono_anual_euros']].head()"
   ]
  },
  {
   "cell_type": "markdown",
   "id": "e927e970",
   "metadata": {},
   "source": [
    "---\n",
    "## 4 · Detección y manejo de valores nulos\n",
    "### 4.1 Contar nulos por columna\n"
   ]
  },
  {
   "cell_type": "code",
   "execution_count": 32,
   "id": "6865a9e7",
   "metadata": {},
   "outputs": [
    {
     "data": {
      "text/plain": [
       "nombre                     0\n",
       "apellido                   0\n",
       "edad                       0\n",
       "pais                       1\n",
       "educacion_universitaria    0\n",
       "nombre_de_la_empresa       8\n",
       "cargo                      0\n",
       "anos_en_la_empresa         0\n",
       "sueldo_anual_dolares       7\n",
       "bono_anual_euros           0\n",
       "dtype: int64"
      ]
     },
     "execution_count": 32,
     "metadata": {},
     "output_type": "execute_result"
    }
   ],
   "source": [
    "df_salarios.isnull().sum()"
   ]
  },
  {
   "cell_type": "markdown",
   "id": "2cb30319",
   "metadata": {},
   "source": [
    "> **Estrategias comunes:**\n",
    "- **Eliminar** filas/columnas con muchos nulos (`dropna`).\n",
    "- **Imputar** con media/mediana/moda (`fillna`).\n",
    "- **Revisar** si los nulos tienen significado en tu análisis.\n"
   ]
  },
  {
   "cell_type": "markdown",
   "id": "6b277aed",
   "metadata": {},
   "source": [
    "Revisemos el caso de la columna `['pais']`"
   ]
  },
  {
   "cell_type": "code",
   "execution_count": 34,
   "id": "66b5a10c",
   "metadata": {},
   "outputs": [
    {
     "data": {
      "text/plain": [
       "np.int64(1)"
      ]
     },
     "execution_count": 34,
     "metadata": {},
     "output_type": "execute_result"
    }
   ],
   "source": [
    "# Evaluar columna pais\n",
    "df_salarios['pais'].isna().sum()"
   ]
  },
  {
   "cell_type": "code",
   "execution_count": 35,
   "id": "e2a8ffc1",
   "metadata": {},
   "outputs": [],
   "source": [
    "df_salarios = df_salarios.dropna(subset=[\"pais\"])"
   ]
  },
  {
   "cell_type": "code",
   "execution_count": 36,
   "id": "bce85e28",
   "metadata": {},
   "outputs": [
    {
     "data": {
      "text/plain": [
       "nombre                     0\n",
       "apellido                   0\n",
       "edad                       0\n",
       "pais                       0\n",
       "educacion_universitaria    0\n",
       "nombre_de_la_empresa       8\n",
       "cargo                      0\n",
       "anos_en_la_empresa         0\n",
       "sueldo_anual_dolares       7\n",
       "bono_anual_euros           0\n",
       "dtype: int64"
      ]
     },
     "execution_count": 36,
     "metadata": {},
     "output_type": "execute_result"
    }
   ],
   "source": [
    "df_salarios.isnull().sum()"
   ]
  },
  {
   "cell_type": "markdown",
   "id": "9cc5bb58",
   "metadata": {},
   "source": [
    "Ahora revisemos el caso de la columna `[\"nombre_de_la_empresa\"]`"
   ]
  },
  {
   "cell_type": "code",
   "execution_count": 37,
   "id": "563811d0",
   "metadata": {},
   "outputs": [
    {
     "data": {
      "text/html": [
       "<div>\n",
       "<style scoped>\n",
       "    .dataframe tbody tr th:only-of-type {\n",
       "        vertical-align: middle;\n",
       "    }\n",
       "\n",
       "    .dataframe tbody tr th {\n",
       "        vertical-align: top;\n",
       "    }\n",
       "\n",
       "    .dataframe thead th {\n",
       "        text-align: right;\n",
       "    }\n",
       "</style>\n",
       "<table border=\"1\" class=\"dataframe\">\n",
       "  <thead>\n",
       "    <tr style=\"text-align: right;\">\n",
       "      <th></th>\n",
       "      <th>nombre</th>\n",
       "      <th>apellido</th>\n",
       "      <th>edad</th>\n",
       "      <th>pais</th>\n",
       "      <th>educacion_universitaria</th>\n",
       "      <th>nombre_de_la_empresa</th>\n",
       "      <th>cargo</th>\n",
       "      <th>anos_en_la_empresa</th>\n",
       "      <th>sueldo_anual_dolares</th>\n",
       "      <th>bono_anual_euros</th>\n",
       "    </tr>\n",
       "  </thead>\n",
       "  <tbody>\n",
       "    <tr>\n",
       "      <th>303</th>\n",
       "      <td>Valentina</td>\n",
       "      <td>Ríos</td>\n",
       "      <td>50</td>\n",
       "      <td>Chile</td>\n",
       "      <td>No</td>\n",
       "      <td>NaN</td>\n",
       "      <td>Python Developer</td>\n",
       "      <td>8</td>\n",
       "      <td>50138.0</td>\n",
       "      <td>3937.0</td>\n",
       "    </tr>\n",
       "    <tr>\n",
       "      <th>304</th>\n",
       "      <td>Pedro</td>\n",
       "      <td>Díaz</td>\n",
       "      <td>59</td>\n",
       "      <td>Colombia</td>\n",
       "      <td>Sí</td>\n",
       "      <td>NaN</td>\n",
       "      <td>AI Software Engineer</td>\n",
       "      <td>9</td>\n",
       "      <td>133052.0</td>\n",
       "      <td>5600.0</td>\n",
       "    </tr>\n",
       "    <tr>\n",
       "      <th>305</th>\n",
       "      <td>Paula</td>\n",
       "      <td>Díaz</td>\n",
       "      <td>53</td>\n",
       "      <td>Costa Rica</td>\n",
       "      <td>No</td>\n",
       "      <td>NaN</td>\n",
       "      <td>Machine Learning Engineer</td>\n",
       "      <td>10</td>\n",
       "      <td>NaN</td>\n",
       "      <td>9874.0</td>\n",
       "    </tr>\n",
       "    <tr>\n",
       "      <th>314</th>\n",
       "      <td>Luis</td>\n",
       "      <td>Ramírez</td>\n",
       "      <td>60</td>\n",
       "      <td>Argentina</td>\n",
       "      <td>No</td>\n",
       "      <td>NaN</td>\n",
       "      <td>Data Scientist</td>\n",
       "      <td>4</td>\n",
       "      <td>72011.0</td>\n",
       "      <td>6723.0</td>\n",
       "    </tr>\n",
       "    <tr>\n",
       "      <th>315</th>\n",
       "      <td>José</td>\n",
       "      <td>Martínez</td>\n",
       "      <td>35</td>\n",
       "      <td>Chile</td>\n",
       "      <td>Sí</td>\n",
       "      <td>NaN</td>\n",
       "      <td>Data Engineer</td>\n",
       "      <td>3</td>\n",
       "      <td>97114.0</td>\n",
       "      <td>1684.0</td>\n",
       "    </tr>\n",
       "    <tr>\n",
       "      <th>316</th>\n",
       "      <td>Carlos</td>\n",
       "      <td>Flores</td>\n",
       "      <td>55</td>\n",
       "      <td>Uruguay</td>\n",
       "      <td>Sí</td>\n",
       "      <td>NaN</td>\n",
       "      <td>Machine Learning Engineer</td>\n",
       "      <td>1</td>\n",
       "      <td>104541.0</td>\n",
       "      <td>3128.0</td>\n",
       "    </tr>\n",
       "    <tr>\n",
       "      <th>317</th>\n",
       "      <td>Lucía</td>\n",
       "      <td>Torres</td>\n",
       "      <td>36</td>\n",
       "      <td>Costa Rica</td>\n",
       "      <td>No</td>\n",
       "      <td>NaN</td>\n",
       "      <td>Software Engineer</td>\n",
       "      <td>0</td>\n",
       "      <td>86042.0</td>\n",
       "      <td>8746.0</td>\n",
       "    </tr>\n",
       "    <tr>\n",
       "      <th>318</th>\n",
       "      <td>Lucía</td>\n",
       "      <td>González</td>\n",
       "      <td>56</td>\n",
       "      <td>Uruguay</td>\n",
       "      <td>No</td>\n",
       "      <td>NaN</td>\n",
       "      <td>Data Scientist</td>\n",
       "      <td>7</td>\n",
       "      <td>96078.0</td>\n",
       "      <td>11419.0</td>\n",
       "    </tr>\n",
       "  </tbody>\n",
       "</table>\n",
       "</div>"
      ],
      "text/plain": [
       "        nombre  apellido  edad        pais educacion_universitaria  \\\n",
       "303  Valentina      Ríos    50       Chile                      No   \n",
       "304      Pedro      Díaz    59    Colombia                      Sí   \n",
       "305      Paula      Díaz    53  Costa Rica                      No   \n",
       "314       Luis   Ramírez    60   Argentina                      No   \n",
       "315       José  Martínez    35       Chile                      Sí   \n",
       "316     Carlos    Flores    55     Uruguay                      Sí   \n",
       "317      Lucía    Torres    36  Costa Rica                      No   \n",
       "318      Lucía  González    56     Uruguay                      No   \n",
       "\n",
       "    nombre_de_la_empresa                      cargo  anos_en_la_empresa  \\\n",
       "303                  NaN           Python Developer                   8   \n",
       "304                  NaN       AI Software Engineer                   9   \n",
       "305                  NaN  Machine Learning Engineer                  10   \n",
       "314                  NaN             Data Scientist                   4   \n",
       "315                  NaN              Data Engineer                   3   \n",
       "316                  NaN  Machine Learning Engineer                   1   \n",
       "317                  NaN          Software Engineer                   0   \n",
       "318                  NaN             Data Scientist                   7   \n",
       "\n",
       "     sueldo_anual_dolares  bono_anual_euros  \n",
       "303               50138.0            3937.0  \n",
       "304              133052.0            5600.0  \n",
       "305                   NaN            9874.0  \n",
       "314               72011.0            6723.0  \n",
       "315               97114.0            1684.0  \n",
       "316              104541.0            3128.0  \n",
       "317               86042.0            8746.0  \n",
       "318               96078.0           11419.0  "
      ]
     },
     "execution_count": 37,
     "metadata": {},
     "output_type": "execute_result"
    }
   ],
   "source": [
    "df_salarios[df_salarios[\"nombre_de_la_empresa\"].isna()]"
   ]
  },
  {
   "cell_type": "markdown",
   "id": "673e081b",
   "metadata": {},
   "source": [
    "No es necesario eliminar esos datos, pues podemos clasificarlos como `\"Empresa Desconocida\"`"
   ]
  },
  {
   "cell_type": "code",
   "execution_count": 38,
   "id": "f408e2d3",
   "metadata": {},
   "outputs": [],
   "source": [
    "df_salarios[\"nombre_de_la_empresa\"] = df_salarios[\"nombre_de_la_empresa\"].fillna(\"Empresa Desconocida\")"
   ]
  },
  {
   "cell_type": "code",
   "execution_count": 39,
   "id": "35e7dfe6",
   "metadata": {},
   "outputs": [
    {
     "data": {
      "text/html": [
       "<div>\n",
       "<style scoped>\n",
       "    .dataframe tbody tr th:only-of-type {\n",
       "        vertical-align: middle;\n",
       "    }\n",
       "\n",
       "    .dataframe tbody tr th {\n",
       "        vertical-align: top;\n",
       "    }\n",
       "\n",
       "    .dataframe thead th {\n",
       "        text-align: right;\n",
       "    }\n",
       "</style>\n",
       "<table border=\"1\" class=\"dataframe\">\n",
       "  <thead>\n",
       "    <tr style=\"text-align: right;\">\n",
       "      <th></th>\n",
       "      <th>nombre</th>\n",
       "      <th>apellido</th>\n",
       "      <th>edad</th>\n",
       "      <th>pais</th>\n",
       "      <th>educacion_universitaria</th>\n",
       "      <th>nombre_de_la_empresa</th>\n",
       "      <th>cargo</th>\n",
       "      <th>anos_en_la_empresa</th>\n",
       "      <th>sueldo_anual_dolares</th>\n",
       "      <th>bono_anual_euros</th>\n",
       "    </tr>\n",
       "  </thead>\n",
       "  <tbody>\n",
       "  </tbody>\n",
       "</table>\n",
       "</div>"
      ],
      "text/plain": [
       "Empty DataFrame\n",
       "Columns: [nombre, apellido, edad, pais, educacion_universitaria, nombre_de_la_empresa, cargo, anos_en_la_empresa, sueldo_anual_dolares, bono_anual_euros]\n",
       "Index: []"
      ]
     },
     "execution_count": 39,
     "metadata": {},
     "output_type": "execute_result"
    }
   ],
   "source": [
    "df_salarios[df_salarios[\"nombre_de_la_empresa\"].isna()]"
   ]
  },
  {
   "cell_type": "code",
   "execution_count": 40,
   "id": "fb90b04f",
   "metadata": {},
   "outputs": [
    {
     "data": {
      "text/plain": [
       "nombre                     0\n",
       "apellido                   0\n",
       "edad                       0\n",
       "pais                       0\n",
       "educacion_universitaria    0\n",
       "nombre_de_la_empresa       0\n",
       "cargo                      0\n",
       "anos_en_la_empresa         0\n",
       "sueldo_anual_dolares       7\n",
       "bono_anual_euros           0\n",
       "dtype: int64"
      ]
     },
     "execution_count": 40,
     "metadata": {},
     "output_type": "execute_result"
    }
   ],
   "source": [
    "df_salarios.isnull().sum()"
   ]
  },
  {
   "cell_type": "markdown",
   "id": "ae410494",
   "metadata": {},
   "source": [
    "Revisemos el caso de `[\"sueldo_anual_dolares\"]`"
   ]
  },
  {
   "cell_type": "code",
   "execution_count": 41,
   "id": "7dd41090",
   "metadata": {},
   "outputs": [
    {
     "data": {
      "text/html": [
       "<div>\n",
       "<style scoped>\n",
       "    .dataframe tbody tr th:only-of-type {\n",
       "        vertical-align: middle;\n",
       "    }\n",
       "\n",
       "    .dataframe tbody tr th {\n",
       "        vertical-align: top;\n",
       "    }\n",
       "\n",
       "    .dataframe thead th {\n",
       "        text-align: right;\n",
       "    }\n",
       "</style>\n",
       "<table border=\"1\" class=\"dataframe\">\n",
       "  <thead>\n",
       "    <tr style=\"text-align: right;\">\n",
       "      <th></th>\n",
       "      <th>nombre</th>\n",
       "      <th>apellido</th>\n",
       "      <th>edad</th>\n",
       "      <th>pais</th>\n",
       "      <th>educacion_universitaria</th>\n",
       "      <th>nombre_de_la_empresa</th>\n",
       "      <th>cargo</th>\n",
       "      <th>anos_en_la_empresa</th>\n",
       "      <th>sueldo_anual_dolares</th>\n",
       "      <th>bono_anual_euros</th>\n",
       "    </tr>\n",
       "  </thead>\n",
       "  <tbody>\n",
       "    <tr>\n",
       "      <th>302</th>\n",
       "      <td>María</td>\n",
       "      <td>Ríos</td>\n",
       "      <td>27</td>\n",
       "      <td>Argentina</td>\n",
       "      <td>Sí</td>\n",
       "      <td>Globant</td>\n",
       "      <td>Python Developer</td>\n",
       "      <td>4</td>\n",
       "      <td>NaN</td>\n",
       "      <td>11287.0</td>\n",
       "    </tr>\n",
       "    <tr>\n",
       "      <th>305</th>\n",
       "      <td>Paula</td>\n",
       "      <td>Díaz</td>\n",
       "      <td>53</td>\n",
       "      <td>Costa Rica</td>\n",
       "      <td>No</td>\n",
       "      <td>Empresa Desconocida</td>\n",
       "      <td>Machine Learning Engineer</td>\n",
       "      <td>10</td>\n",
       "      <td>NaN</td>\n",
       "      <td>9874.0</td>\n",
       "    </tr>\n",
       "    <tr>\n",
       "      <th>306</th>\n",
       "      <td>Luis</td>\n",
       "      <td>Pérez</td>\n",
       "      <td>27</td>\n",
       "      <td>Chile</td>\n",
       "      <td>No</td>\n",
       "      <td>Facebook</td>\n",
       "      <td>AI Software Engineer</td>\n",
       "      <td>10</td>\n",
       "      <td>NaN</td>\n",
       "      <td>10379.0</td>\n",
       "    </tr>\n",
       "    <tr>\n",
       "      <th>307</th>\n",
       "      <td>Andrea</td>\n",
       "      <td>Rodríguez</td>\n",
       "      <td>36</td>\n",
       "      <td>Panamá</td>\n",
       "      <td>Sí</td>\n",
       "      <td>Facebook</td>\n",
       "      <td>Project Manager</td>\n",
       "      <td>1</td>\n",
       "      <td>NaN</td>\n",
       "      <td>3878.0</td>\n",
       "    </tr>\n",
       "    <tr>\n",
       "      <th>308</th>\n",
       "      <td>Juan</td>\n",
       "      <td>Morales</td>\n",
       "      <td>49</td>\n",
       "      <td>Costa Rica</td>\n",
       "      <td>No</td>\n",
       "      <td>Amazon</td>\n",
       "      <td>Software Engineer</td>\n",
       "      <td>2</td>\n",
       "      <td>NaN</td>\n",
       "      <td>12223.0</td>\n",
       "    </tr>\n",
       "    <tr>\n",
       "      <th>309</th>\n",
       "      <td>Camila</td>\n",
       "      <td>Torres</td>\n",
       "      <td>45</td>\n",
       "      <td>México</td>\n",
       "      <td>No</td>\n",
       "      <td>Facebook</td>\n",
       "      <td>Data Engineer</td>\n",
       "      <td>3</td>\n",
       "      <td>NaN</td>\n",
       "      <td>2816.0</td>\n",
       "    </tr>\n",
       "    <tr>\n",
       "      <th>310</th>\n",
       "      <td>Diego</td>\n",
       "      <td>Díaz</td>\n",
       "      <td>41</td>\n",
       "      <td>México</td>\n",
       "      <td>No</td>\n",
       "      <td>Google</td>\n",
       "      <td>Data Analyst</td>\n",
       "      <td>0</td>\n",
       "      <td>NaN</td>\n",
       "      <td>5934.0</td>\n",
       "    </tr>\n",
       "  </tbody>\n",
       "</table>\n",
       "</div>"
      ],
      "text/plain": [
       "     nombre   apellido  edad        pais educacion_universitaria  \\\n",
       "302   María       Ríos    27   Argentina                      Sí   \n",
       "305   Paula       Díaz    53  Costa Rica                      No   \n",
       "306    Luis      Pérez    27       Chile                      No   \n",
       "307  Andrea  Rodríguez    36      Panamá                      Sí   \n",
       "308    Juan    Morales    49  Costa Rica                      No   \n",
       "309  Camila     Torres    45      México                      No   \n",
       "310   Diego       Díaz    41      México                      No   \n",
       "\n",
       "    nombre_de_la_empresa                      cargo  anos_en_la_empresa  \\\n",
       "302              Globant           Python Developer                   4   \n",
       "305  Empresa Desconocida  Machine Learning Engineer                  10   \n",
       "306             Facebook       AI Software Engineer                  10   \n",
       "307             Facebook            Project Manager                   1   \n",
       "308               Amazon          Software Engineer                   2   \n",
       "309             Facebook              Data Engineer                   3   \n",
       "310               Google               Data Analyst                   0   \n",
       "\n",
       "     sueldo_anual_dolares  bono_anual_euros  \n",
       "302                   NaN           11287.0  \n",
       "305                   NaN            9874.0  \n",
       "306                   NaN           10379.0  \n",
       "307                   NaN            3878.0  \n",
       "308                   NaN           12223.0  \n",
       "309                   NaN            2816.0  \n",
       "310                   NaN            5934.0  "
      ]
     },
     "execution_count": 41,
     "metadata": {},
     "output_type": "execute_result"
    }
   ],
   "source": [
    "df_salarios[df_salarios[\"sueldo_anual_dolares\"].isna()]"
   ]
  },
  {
   "cell_type": "markdown",
   "id": "7ef745c4",
   "metadata": {},
   "source": [
    "Al no existir el registro de sueldos, la decision que tomamos fue eliminar esas filas con `dropna()`"
   ]
  },
  {
   "cell_type": "code",
   "execution_count": 42,
   "id": "dbb6de2e",
   "metadata": {},
   "outputs": [],
   "source": [
    "df_salarios = df_salarios.dropna(subset=[\"sueldo_anual_dolares\"])"
   ]
  },
  {
   "cell_type": "code",
   "execution_count": 43,
   "id": "6cee4921",
   "metadata": {},
   "outputs": [
    {
     "data": {
      "text/plain": [
       "nombre                     0\n",
       "apellido                   0\n",
       "edad                       0\n",
       "pais                       0\n",
       "educacion_universitaria    0\n",
       "nombre_de_la_empresa       0\n",
       "cargo                      0\n",
       "anos_en_la_empresa         0\n",
       "sueldo_anual_dolares       0\n",
       "bono_anual_euros           0\n",
       "dtype: int64"
      ]
     },
     "execution_count": 43,
     "metadata": {},
     "output_type": "execute_result"
    }
   ],
   "source": [
    "df_salarios.isnull().sum()"
   ]
  },
  {
   "cell_type": "markdown",
   "id": "8fec42e8",
   "metadata": {},
   "source": [
    "Ahora no tenemos valores nulos"
   ]
  },
  {
   "cell_type": "markdown",
   "id": "63263061",
   "metadata": {},
   "source": [
    "---\n",
    "## 5 · Detección y manejo de duplicados\n",
    "Buscamos registros exactos repetidos.\n"
   ]
  },
  {
   "cell_type": "code",
   "execution_count": 44,
   "id": "5951e137",
   "metadata": {},
   "outputs": [
    {
     "name": "stdout",
     "output_type": "stream",
     "text": [
      "Duplicados encontrados: 10\n"
     ]
    }
   ],
   "source": [
    "duplicados = df_salarios.duplicated()\n",
    "print(f'Duplicados encontrados: {duplicados.sum()}')"
   ]
  },
  {
   "cell_type": "code",
   "execution_count": 45,
   "id": "dcd5bfa4",
   "metadata": {},
   "outputs": [],
   "source": [
    "df_salarios = df_salarios.drop_duplicates()"
   ]
  },
  {
   "cell_type": "code",
   "execution_count": 46,
   "id": "56dd4365",
   "metadata": {},
   "outputs": [
    {
     "name": "stdout",
     "output_type": "stream",
     "text": [
      "Duplicados encontrados: 0\n"
     ]
    }
   ],
   "source": [
    "duplicados = df_salarios.duplicated()\n",
    "print(f'Duplicados encontrados: {duplicados.sum()}')"
   ]
  },
  {
   "cell_type": "code",
   "execution_count": 47,
   "id": "3fcbb19d",
   "metadata": {},
   "outputs": [
    {
     "name": "stdout",
     "output_type": "stream",
     "text": [
      "<class 'pandas.core.frame.DataFrame'>\n",
      "Index: 307 entries, 0 to 318\n",
      "Data columns (total 10 columns):\n",
      " #   Column                   Non-Null Count  Dtype  \n",
      "---  ------                   --------------  -----  \n",
      " 0   nombre                   307 non-null    object \n",
      " 1   apellido                 307 non-null    object \n",
      " 2   edad                     307 non-null    int64  \n",
      " 3   pais                     307 non-null    object \n",
      " 4   educacion_universitaria  307 non-null    object \n",
      " 5   nombre_de_la_empresa     307 non-null    object \n",
      " 6   cargo                    307 non-null    object \n",
      " 7   anos_en_la_empresa       307 non-null    int64  \n",
      " 8   sueldo_anual_dolares     307 non-null    float64\n",
      " 9   bono_anual_euros         307 non-null    float64\n",
      "dtypes: float64(2), int64(2), object(6)\n",
      "memory usage: 26.4+ KB\n"
     ]
    }
   ],
   "source": [
    "df_salarios.info()"
   ]
  },
  {
   "cell_type": "markdown",
   "id": "9759498d",
   "metadata": {},
   "source": [
    "### 🔢 Reiniciar índices\n",
    "`reset_index(drop=True)` crea un nuevo índice consecutivo (0 → n-1) y descarta el índice anterior.  \n",
    "Útil después de eliminar filas o reordenar el DataFrame para evitar huecos o duplicados en la numeración."
   ]
  },
  {
   "cell_type": "code",
   "execution_count": 48,
   "id": "81e8e379",
   "metadata": {},
   "outputs": [],
   "source": [
    "df_salarios = df_salarios.reset_index(drop=True)"
   ]
  },
  {
   "cell_type": "code",
   "execution_count": 49,
   "id": "bb2ec14f",
   "metadata": {},
   "outputs": [
    {
     "name": "stdout",
     "output_type": "stream",
     "text": [
      "<class 'pandas.core.frame.DataFrame'>\n",
      "RangeIndex: 307 entries, 0 to 306\n",
      "Data columns (total 10 columns):\n",
      " #   Column                   Non-Null Count  Dtype  \n",
      "---  ------                   --------------  -----  \n",
      " 0   nombre                   307 non-null    object \n",
      " 1   apellido                 307 non-null    object \n",
      " 2   edad                     307 non-null    int64  \n",
      " 3   pais                     307 non-null    object \n",
      " 4   educacion_universitaria  307 non-null    object \n",
      " 5   nombre_de_la_empresa     307 non-null    object \n",
      " 6   cargo                    307 non-null    object \n",
      " 7   anos_en_la_empresa       307 non-null    int64  \n",
      " 8   sueldo_anual_dolares     307 non-null    float64\n",
      " 9   bono_anual_euros         307 non-null    float64\n",
      "dtypes: float64(2), int64(2), object(6)\n",
      "memory usage: 24.1+ KB\n"
     ]
    }
   ],
   "source": [
    "df_salarios.info()"
   ]
  },
  {
   "cell_type": "markdown",
   "id": "d9861486",
   "metadata": {},
   "source": [
    "### 💱 Conversión de Euros a Dólares  \n",
    "Definimos una **tasa de cambio fija** `TASA_EUR_USD = 1.10` (1 € → 1.10 US$)  \n",
    "y creamos la columna `bono_anual_dolares` multiplicando cada valor en  \n",
    "`bono_anual_euros` por esa tasa. Esta operación es vectorizada: se aplica  \n",
    "a toda la columna sin necesidad de bucles y deja ambos montos disponibles  \n",
    "para comparaciones o visualizaciones futuras."
   ]
  },
  {
   "cell_type": "code",
   "execution_count": 50,
   "id": "26fb6eec",
   "metadata": {},
   "outputs": [
    {
     "data": {
      "text/html": [
       "<div>\n",
       "<style scoped>\n",
       "    .dataframe tbody tr th:only-of-type {\n",
       "        vertical-align: middle;\n",
       "    }\n",
       "\n",
       "    .dataframe tbody tr th {\n",
       "        vertical-align: top;\n",
       "    }\n",
       "\n",
       "    .dataframe thead th {\n",
       "        text-align: right;\n",
       "    }\n",
       "</style>\n",
       "<table border=\"1\" class=\"dataframe\">\n",
       "  <thead>\n",
       "    <tr style=\"text-align: right;\">\n",
       "      <th></th>\n",
       "      <th>nombre</th>\n",
       "      <th>apellido</th>\n",
       "      <th>edad</th>\n",
       "      <th>pais</th>\n",
       "      <th>educacion_universitaria</th>\n",
       "      <th>nombre_de_la_empresa</th>\n",
       "      <th>cargo</th>\n",
       "      <th>anos_en_la_empresa</th>\n",
       "      <th>sueldo_anual_dolares</th>\n",
       "      <th>bono_anual_euros</th>\n",
       "    </tr>\n",
       "  </thead>\n",
       "  <tbody>\n",
       "    <tr>\n",
       "      <th>0</th>\n",
       "      <td>José</td>\n",
       "      <td>López</td>\n",
       "      <td>36</td>\n",
       "      <td>Chile</td>\n",
       "      <td>Sí</td>\n",
       "      <td>Mercado Libre</td>\n",
       "      <td>Python Developer</td>\n",
       "      <td>2</td>\n",
       "      <td>71841.0</td>\n",
       "      <td>4981.0</td>\n",
       "    </tr>\n",
       "    <tr>\n",
       "      <th>1</th>\n",
       "      <td>Fernanda</td>\n",
       "      <td>Vargas</td>\n",
       "      <td>39</td>\n",
       "      <td>Chile</td>\n",
       "      <td>Sí</td>\n",
       "      <td>Amazon</td>\n",
       "      <td>AI Software Engineer</td>\n",
       "      <td>2</td>\n",
       "      <td>142115.0</td>\n",
       "      <td>1252.0</td>\n",
       "    </tr>\n",
       "    <tr>\n",
       "      <th>2</th>\n",
       "      <td>Fernanda</td>\n",
       "      <td>Ramírez</td>\n",
       "      <td>30</td>\n",
       "      <td>Colombia</td>\n",
       "      <td>No</td>\n",
       "      <td>Facebook</td>\n",
       "      <td>Machine Learning Engineer</td>\n",
       "      <td>2</td>\n",
       "      <td>92278.0</td>\n",
       "      <td>5262.0</td>\n",
       "    </tr>\n",
       "    <tr>\n",
       "      <th>3</th>\n",
       "      <td>José</td>\n",
       "      <td>Gómez</td>\n",
       "      <td>35</td>\n",
       "      <td>Chile</td>\n",
       "      <td>Sí</td>\n",
       "      <td>Mercado Libre</td>\n",
       "      <td>Python Developer</td>\n",
       "      <td>12</td>\n",
       "      <td>97130.0</td>\n",
       "      <td>3671.0</td>\n",
       "    </tr>\n",
       "    <tr>\n",
       "      <th>4</th>\n",
       "      <td>Ana</td>\n",
       "      <td>Pérez</td>\n",
       "      <td>32</td>\n",
       "      <td>Panamá</td>\n",
       "      <td>No</td>\n",
       "      <td>Amazon</td>\n",
       "      <td>Project Manager</td>\n",
       "      <td>2</td>\n",
       "      <td>61413.0</td>\n",
       "      <td>10190.0</td>\n",
       "    </tr>\n",
       "  </tbody>\n",
       "</table>\n",
       "</div>"
      ],
      "text/plain": [
       "     nombre apellido  edad      pais educacion_universitaria  \\\n",
       "0      José    López    36     Chile                      Sí   \n",
       "1  Fernanda   Vargas    39     Chile                      Sí   \n",
       "2  Fernanda  Ramírez    30  Colombia                      No   \n",
       "3      José    Gómez    35     Chile                      Sí   \n",
       "4       Ana    Pérez    32    Panamá                      No   \n",
       "\n",
       "  nombre_de_la_empresa                      cargo  anos_en_la_empresa  \\\n",
       "0        Mercado Libre           Python Developer                   2   \n",
       "1               Amazon       AI Software Engineer                   2   \n",
       "2             Facebook  Machine Learning Engineer                   2   \n",
       "3        Mercado Libre           Python Developer                  12   \n",
       "4               Amazon            Project Manager                   2   \n",
       "\n",
       "   sueldo_anual_dolares  bono_anual_euros  \n",
       "0               71841.0            4981.0  \n",
       "1              142115.0            1252.0  \n",
       "2               92278.0            5262.0  \n",
       "3               97130.0            3671.0  \n",
       "4               61413.0           10190.0  "
      ]
     },
     "execution_count": 50,
     "metadata": {},
     "output_type": "execute_result"
    }
   ],
   "source": [
    "df_salarios.head()"
   ]
  },
  {
   "cell_type": "code",
   "execution_count": 51,
   "id": "671daeaa",
   "metadata": {},
   "outputs": [],
   "source": [
    "# 1 € ≈ 1.10 USD\n",
    "TASA_EUR_USD = 1.10"
   ]
  },
  {
   "cell_type": "code",
   "execution_count": 52,
   "id": "cc15cf0a",
   "metadata": {},
   "outputs": [],
   "source": [
    "df_salarios[\"bono_anual_dolares\"] = (\n",
    "    df_salarios[\"bono_anual_euros\"] * TASA_EUR_USD\n",
    ")"
   ]
  },
  {
   "cell_type": "code",
   "execution_count": 53,
   "id": "005a064e",
   "metadata": {},
   "outputs": [
    {
     "data": {
      "text/html": [
       "<div>\n",
       "<style scoped>\n",
       "    .dataframe tbody tr th:only-of-type {\n",
       "        vertical-align: middle;\n",
       "    }\n",
       "\n",
       "    .dataframe tbody tr th {\n",
       "        vertical-align: top;\n",
       "    }\n",
       "\n",
       "    .dataframe thead th {\n",
       "        text-align: right;\n",
       "    }\n",
       "</style>\n",
       "<table border=\"1\" class=\"dataframe\">\n",
       "  <thead>\n",
       "    <tr style=\"text-align: right;\">\n",
       "      <th></th>\n",
       "      <th>bono_anual_euros</th>\n",
       "      <th>bono_anual_dolares</th>\n",
       "    </tr>\n",
       "  </thead>\n",
       "  <tbody>\n",
       "    <tr>\n",
       "      <th>0</th>\n",
       "      <td>4981.0</td>\n",
       "      <td>5479.1</td>\n",
       "    </tr>\n",
       "    <tr>\n",
       "      <th>1</th>\n",
       "      <td>1252.0</td>\n",
       "      <td>1377.2</td>\n",
       "    </tr>\n",
       "    <tr>\n",
       "      <th>2</th>\n",
       "      <td>5262.0</td>\n",
       "      <td>5788.2</td>\n",
       "    </tr>\n",
       "    <tr>\n",
       "      <th>3</th>\n",
       "      <td>3671.0</td>\n",
       "      <td>4038.1</td>\n",
       "    </tr>\n",
       "    <tr>\n",
       "      <th>4</th>\n",
       "      <td>10190.0</td>\n",
       "      <td>11209.0</td>\n",
       "    </tr>\n",
       "    <tr>\n",
       "      <th>...</th>\n",
       "      <td>...</td>\n",
       "      <td>...</td>\n",
       "    </tr>\n",
       "    <tr>\n",
       "      <th>302</th>\n",
       "      <td>6723.0</td>\n",
       "      <td>7395.3</td>\n",
       "    </tr>\n",
       "    <tr>\n",
       "      <th>303</th>\n",
       "      <td>1684.0</td>\n",
       "      <td>1852.4</td>\n",
       "    </tr>\n",
       "    <tr>\n",
       "      <th>304</th>\n",
       "      <td>3128.0</td>\n",
       "      <td>3440.8</td>\n",
       "    </tr>\n",
       "    <tr>\n",
       "      <th>305</th>\n",
       "      <td>8746.0</td>\n",
       "      <td>9620.6</td>\n",
       "    </tr>\n",
       "    <tr>\n",
       "      <th>306</th>\n",
       "      <td>11419.0</td>\n",
       "      <td>12560.9</td>\n",
       "    </tr>\n",
       "  </tbody>\n",
       "</table>\n",
       "<p>307 rows × 2 columns</p>\n",
       "</div>"
      ],
      "text/plain": [
       "     bono_anual_euros  bono_anual_dolares\n",
       "0              4981.0              5479.1\n",
       "1              1252.0              1377.2\n",
       "2              5262.0              5788.2\n",
       "3              3671.0              4038.1\n",
       "4             10190.0             11209.0\n",
       "..                ...                 ...\n",
       "302            6723.0              7395.3\n",
       "303            1684.0              1852.4\n",
       "304            3128.0              3440.8\n",
       "305            8746.0              9620.6\n",
       "306           11419.0             12560.9\n",
       "\n",
       "[307 rows x 2 columns]"
      ]
     },
     "execution_count": 53,
     "metadata": {},
     "output_type": "execute_result"
    }
   ],
   "source": [
    "df_salarios[[\"bono_anual_euros\", \"bono_anual_dolares\"]]"
   ]
  },
  {
   "cell_type": "markdown",
   "id": "b6825b71",
   "metadata": {},
   "source": [
    "### 📏 Ajuste de precisión  \n",
    "Redondeamos `bono_anual_dolares` a **una cifra decimal** (`round(1)`) para  \n",
    "homogeneizar el formato de los valores monetarios y evitar “ruido” de  \n",
    "centavos insignificantes al presentar o agrupar los datos."
   ]
  },
  {
   "cell_type": "code",
   "execution_count": 54,
   "id": "1dc1c07a",
   "metadata": {},
   "outputs": [],
   "source": [
    "# Redondear bono anual dolares a una cifra decimal\n",
    "df_salarios[\"bono_anual_dolares\"] = df_salarios[\"bono_anual_dolares\"].round(1)"
   ]
  },
  {
   "cell_type": "code",
   "execution_count": 55,
   "id": "1f23b51b",
   "metadata": {},
   "outputs": [
    {
     "data": {
      "text/html": [
       "<div>\n",
       "<style scoped>\n",
       "    .dataframe tbody tr th:only-of-type {\n",
       "        vertical-align: middle;\n",
       "    }\n",
       "\n",
       "    .dataframe tbody tr th {\n",
       "        vertical-align: top;\n",
       "    }\n",
       "\n",
       "    .dataframe thead th {\n",
       "        text-align: right;\n",
       "    }\n",
       "</style>\n",
       "<table border=\"1\" class=\"dataframe\">\n",
       "  <thead>\n",
       "    <tr style=\"text-align: right;\">\n",
       "      <th></th>\n",
       "      <th>bono_anual_euros</th>\n",
       "      <th>bono_anual_dolares</th>\n",
       "    </tr>\n",
       "  </thead>\n",
       "  <tbody>\n",
       "    <tr>\n",
       "      <th>0</th>\n",
       "      <td>4981.0</td>\n",
       "      <td>5479.1</td>\n",
       "    </tr>\n",
       "    <tr>\n",
       "      <th>1</th>\n",
       "      <td>1252.0</td>\n",
       "      <td>1377.2</td>\n",
       "    </tr>\n",
       "    <tr>\n",
       "      <th>2</th>\n",
       "      <td>5262.0</td>\n",
       "      <td>5788.2</td>\n",
       "    </tr>\n",
       "    <tr>\n",
       "      <th>3</th>\n",
       "      <td>3671.0</td>\n",
       "      <td>4038.1</td>\n",
       "    </tr>\n",
       "    <tr>\n",
       "      <th>4</th>\n",
       "      <td>10190.0</td>\n",
       "      <td>11209.0</td>\n",
       "    </tr>\n",
       "    <tr>\n",
       "      <th>...</th>\n",
       "      <td>...</td>\n",
       "      <td>...</td>\n",
       "    </tr>\n",
       "    <tr>\n",
       "      <th>302</th>\n",
       "      <td>6723.0</td>\n",
       "      <td>7395.3</td>\n",
       "    </tr>\n",
       "    <tr>\n",
       "      <th>303</th>\n",
       "      <td>1684.0</td>\n",
       "      <td>1852.4</td>\n",
       "    </tr>\n",
       "    <tr>\n",
       "      <th>304</th>\n",
       "      <td>3128.0</td>\n",
       "      <td>3440.8</td>\n",
       "    </tr>\n",
       "    <tr>\n",
       "      <th>305</th>\n",
       "      <td>8746.0</td>\n",
       "      <td>9620.6</td>\n",
       "    </tr>\n",
       "    <tr>\n",
       "      <th>306</th>\n",
       "      <td>11419.0</td>\n",
       "      <td>12560.9</td>\n",
       "    </tr>\n",
       "  </tbody>\n",
       "</table>\n",
       "<p>307 rows × 2 columns</p>\n",
       "</div>"
      ],
      "text/plain": [
       "     bono_anual_euros  bono_anual_dolares\n",
       "0              4981.0              5479.1\n",
       "1              1252.0              1377.2\n",
       "2              5262.0              5788.2\n",
       "3              3671.0              4038.1\n",
       "4             10190.0             11209.0\n",
       "..                ...                 ...\n",
       "302            6723.0              7395.3\n",
       "303            1684.0              1852.4\n",
       "304            3128.0              3440.8\n",
       "305            8746.0              9620.6\n",
       "306           11419.0             12560.9\n",
       "\n",
       "[307 rows x 2 columns]"
      ]
     },
     "execution_count": 55,
     "metadata": {},
     "output_type": "execute_result"
    }
   ],
   "source": [
    "df_salarios[[\"bono_anual_euros\", \"bono_anual_dolares\"]]"
   ]
  },
  {
   "cell_type": "code",
   "execution_count": 56,
   "id": "8e692779",
   "metadata": {},
   "outputs": [
    {
     "name": "stdout",
     "output_type": "stream",
     "text": [
      "<class 'pandas.core.frame.DataFrame'>\n",
      "RangeIndex: 307 entries, 0 to 306\n",
      "Data columns (total 11 columns):\n",
      " #   Column                   Non-Null Count  Dtype  \n",
      "---  ------                   --------------  -----  \n",
      " 0   nombre                   307 non-null    object \n",
      " 1   apellido                 307 non-null    object \n",
      " 2   edad                     307 non-null    int64  \n",
      " 3   pais                     307 non-null    object \n",
      " 4   educacion_universitaria  307 non-null    object \n",
      " 5   nombre_de_la_empresa     307 non-null    object \n",
      " 6   cargo                    307 non-null    object \n",
      " 7   anos_en_la_empresa       307 non-null    int64  \n",
      " 8   sueldo_anual_dolares     307 non-null    float64\n",
      " 9   bono_anual_euros         307 non-null    float64\n",
      " 10  bono_anual_dolares       307 non-null    float64\n",
      "dtypes: float64(3), int64(2), object(6)\n",
      "memory usage: 26.5+ KB\n"
     ]
    }
   ],
   "source": [
    "df_salarios.info()"
   ]
  },
  {
   "cell_type": "markdown",
   "id": "97be8f12",
   "metadata": {},
   "source": [
    "## 6 · Cargar el dataframe de países\n"
   ]
  },
  {
   "cell_type": "code",
   "execution_count": 57,
   "id": "34d3cb2b",
   "metadata": {},
   "outputs": [
    {
     "name": "stdout",
     "output_type": "stream",
     "text": [
      "Ruta del archivo paises: D:\\Isaac Escobar\\Documents\\Dev\\pydatapanama-cursos\\cursos\\analisis_datos\\data\\raw\\paises.csv\n",
      "existe archivo paises: True\n"
     ]
    }
   ],
   "source": [
    "#definir un path o ruta con Path\n",
    "path_paises = DATA_RAW_DIR / \"paises.csv\"\n",
    "path_paises = str(path_paises)\n",
    "\n",
    "print(f\"Ruta del archivo paises: {path_paises}\")\n",
    "print(f\"existe archivo paises: {Path(path_paises).exists()}\")"
   ]
  },
  {
   "cell_type": "code",
   "execution_count": 58,
   "id": "6afd91a3",
   "metadata": {},
   "outputs": [],
   "source": [
    "df_paises = pd.read_csv(filepath_or_buffer=path_paises, sep=',', encoding='utf-8')"
   ]
  },
  {
   "cell_type": "code",
   "execution_count": 59,
   "id": "d584713b",
   "metadata": {},
   "outputs": [
    {
     "data": {
      "text/html": [
       "<div>\n",
       "<style scoped>\n",
       "    .dataframe tbody tr th:only-of-type {\n",
       "        vertical-align: middle;\n",
       "    }\n",
       "\n",
       "    .dataframe tbody tr th {\n",
       "        vertical-align: top;\n",
       "    }\n",
       "\n",
       "    .dataframe thead th {\n",
       "        text-align: right;\n",
       "    }\n",
       "</style>\n",
       "<table border=\"1\" class=\"dataframe\">\n",
       "  <thead>\n",
       "    <tr style=\"text-align: right;\">\n",
       "      <th></th>\n",
       "      <th>pais</th>\n",
       "      <th>capital</th>\n",
       "      <th>cantidad_de_habitantes</th>\n",
       "      <th>PIB</th>\n",
       "      <th>ingreso_per_capita</th>\n",
       "    </tr>\n",
       "  </thead>\n",
       "  <tbody>\n",
       "    <tr>\n",
       "      <th>0</th>\n",
       "      <td>Argentina</td>\n",
       "      <td>Buenos Aires</td>\n",
       "      <td>45376763</td>\n",
       "      <td>$641,000,000,000</td>\n",
       "      <td>$14,120</td>\n",
       "    </tr>\n",
       "    <tr>\n",
       "      <th>1</th>\n",
       "      <td>Brasil</td>\n",
       "      <td>Brasilia</td>\n",
       "      <td>214326223</td>\n",
       "      <td>$2,000,000,000,000</td>\n",
       "      <td>$9,334</td>\n",
       "    </tr>\n",
       "    <tr>\n",
       "      <th>2</th>\n",
       "      <td>Chile</td>\n",
       "      <td>Santiago</td>\n",
       "      <td>19116209</td>\n",
       "      <td>$317,000,000,000</td>\n",
       "      <td>$16,580</td>\n",
       "    </tr>\n",
       "    <tr>\n",
       "      <th>3</th>\n",
       "      <td>Colombia</td>\n",
       "      <td>Bogotá</td>\n",
       "      <td>51874024</td>\n",
       "      <td>$343,000,000,000</td>\n",
       "      <td>$6,611</td>\n",
       "    </tr>\n",
       "    <tr>\n",
       "      <th>4</th>\n",
       "      <td>México</td>\n",
       "      <td>Ciudad de México</td>\n",
       "      <td>126014024</td>\n",
       "      <td>$1,410,000,000,000</td>\n",
       "      <td>$11,190</td>\n",
       "    </tr>\n",
       "  </tbody>\n",
       "</table>\n",
       "</div>"
      ],
      "text/plain": [
       "        pais           capital  cantidad_de_habitantes                 PIB  \\\n",
       "0  Argentina      Buenos Aires                45376763    $641,000,000,000   \n",
       "1     Brasil          Brasilia               214326223  $2,000,000,000,000   \n",
       "2      Chile          Santiago                19116209    $317,000,000,000   \n",
       "3   Colombia            Bogotá                51874024    $343,000,000,000   \n",
       "4     México  Ciudad de México               126014024  $1,410,000,000,000   \n",
       "\n",
       "  ingreso_per_capita  \n",
       "0            $14,120  \n",
       "1             $9,334  \n",
       "2            $16,580  \n",
       "3             $6,611  \n",
       "4            $11,190  "
      ]
     },
     "execution_count": 59,
     "metadata": {},
     "output_type": "execute_result"
    }
   ],
   "source": [
    "df_paises.head()"
   ]
  },
  {
   "cell_type": "code",
   "execution_count": 60,
   "id": "8490de83",
   "metadata": {},
   "outputs": [
    {
     "data": {
      "text/plain": [
       "array(['Argentina', 'Brasil', 'Chile', 'Colombia', 'México', 'Perú',\n",
       "       'Uruguay', 'Panamá', 'Ecuador', 'Bolivia'], dtype=object)"
      ]
     },
     "execution_count": 60,
     "metadata": {},
     "output_type": "execute_result"
    }
   ],
   "source": [
    "df_paises['pais'].unique()"
   ]
  },
  {
   "cell_type": "code",
   "execution_count": 61,
   "id": "3f440449",
   "metadata": {},
   "outputs": [
    {
     "data": {
      "text/plain": [
       "10"
      ]
     },
     "execution_count": 61,
     "metadata": {},
     "output_type": "execute_result"
    }
   ],
   "source": [
    "df_paises['pais'].nunique()"
   ]
  },
  {
   "cell_type": "code",
   "execution_count": 62,
   "id": "86b1f8e9",
   "metadata": {},
   "outputs": [
    {
     "data": {
      "text/plain": [
       "array(['Chile', 'Colombia', 'Panamá', 'Costa Rica', 'México', 'Uruguay',\n",
       "       'Argentina', 'Perú'], dtype=object)"
      ]
     },
     "execution_count": 62,
     "metadata": {},
     "output_type": "execute_result"
    }
   ],
   "source": [
    "df_salarios['pais'].unique()"
   ]
  },
  {
   "cell_type": "code",
   "execution_count": 63,
   "id": "a1904267",
   "metadata": {},
   "outputs": [
    {
     "data": {
      "text/plain": [
       "8"
      ]
     },
     "execution_count": 63,
     "metadata": {},
     "output_type": "execute_result"
    }
   ],
   "source": [
    "df_salarios['pais'].nunique()"
   ]
  },
  {
   "cell_type": "code",
   "execution_count": 64,
   "id": "a6248682",
   "metadata": {},
   "outputs": [
    {
     "data": {
      "text/plain": [
       "{'Argentina',\n",
       " 'Bolivia',\n",
       " 'Brasil',\n",
       " 'Chile',\n",
       " 'Colombia',\n",
       " 'Ecuador',\n",
       " 'México',\n",
       " 'Panamá',\n",
       " 'Perú',\n",
       " 'Uruguay'}"
      ]
     },
     "execution_count": 64,
     "metadata": {},
     "output_type": "execute_result"
    }
   ],
   "source": [
    "paises_en_df_paises = set(df_paises[\"pais\"])\n",
    "paises_en_df_paises"
   ]
  },
  {
   "cell_type": "code",
   "execution_count": 65,
   "id": "72824395",
   "metadata": {},
   "outputs": [
    {
     "data": {
      "text/plain": [
       "{'Argentina',\n",
       " 'Chile',\n",
       " 'Colombia',\n",
       " 'Costa Rica',\n",
       " 'México',\n",
       " 'Panamá',\n",
       " 'Perú',\n",
       " 'Uruguay'}"
      ]
     },
     "execution_count": 65,
     "metadata": {},
     "output_type": "execute_result"
    }
   ],
   "source": [
    "paises_en_df_salarios = set(df_salarios[\"pais\"])\n",
    "paises_en_df_salarios"
   ]
  },
  {
   "cell_type": "markdown",
   "id": "a9c25afa",
   "metadata": {},
   "source": [
    "### 🔍 Identificar discrepancias entre DataFrames\n",
    "\n",
    "1. **`paises_faltantes_en_df_paises`**  \n",
    "   Conjunto de países que **están en `df_paises` pero no aparecen** en `df_salarios`.\n",
    "\n",
    "2. **`paises_faltantes_en_df_salarios`**  \n",
    "   Conjunto inverso: países presentes en `df_salarios`, ausentes en `df_paises`.\n",
    "\n",
    "3. **`paises_faltantes`**  \n",
    "   Unión (`|`) de ambos conjuntos → lista global de **todos los países que no coinciden** entre los dos DataFrames.  \n",
    "   Útil para decidir si imputar, descartar o investigar la fuente de datos."
   ]
  },
  {
   "cell_type": "code",
   "execution_count": 66,
   "id": "2514706f",
   "metadata": {},
   "outputs": [
    {
     "data": {
      "text/plain": [
       "{'Bolivia', 'Brasil', 'Ecuador'}"
      ]
     },
     "execution_count": 66,
     "metadata": {},
     "output_type": "execute_result"
    }
   ],
   "source": [
    "paises_faltantes_en_df_paises = paises_en_df_paises - paises_en_df_salarios\n",
    "paises_faltantes_en_df_paises"
   ]
  },
  {
   "cell_type": "code",
   "execution_count": 67,
   "id": "82f9dae1",
   "metadata": {},
   "outputs": [
    {
     "data": {
      "text/plain": [
       "{'Costa Rica'}"
      ]
     },
     "execution_count": 67,
     "metadata": {},
     "output_type": "execute_result"
    }
   ],
   "source": [
    "paises_faltantes_en_df_salarios =  paises_en_df_salarios - paises_en_df_paises\n",
    "paises_faltantes_en_df_salarios"
   ]
  },
  {
   "cell_type": "code",
   "execution_count": 68,
   "id": "7b46c41a",
   "metadata": {},
   "outputs": [
    {
     "data": {
      "text/plain": [
       "{'Bolivia', 'Brasil', 'Costa Rica', 'Ecuador'}"
      ]
     },
     "execution_count": 68,
     "metadata": {},
     "output_type": "execute_result"
    }
   ],
   "source": [
    "paises_faltantes = paises_faltantes_en_df_paises | paises_faltantes_en_df_salarios\n",
    "paises_faltantes"
   ]
  },
  {
   "cell_type": "code",
   "execution_count": 69,
   "id": "4bb70a9f",
   "metadata": {},
   "outputs": [
    {
     "data": {
      "text/html": [
       "<div>\n",
       "<style scoped>\n",
       "    .dataframe tbody tr th:only-of-type {\n",
       "        vertical-align: middle;\n",
       "    }\n",
       "\n",
       "    .dataframe tbody tr th {\n",
       "        vertical-align: top;\n",
       "    }\n",
       "\n",
       "    .dataframe thead th {\n",
       "        text-align: right;\n",
       "    }\n",
       "</style>\n",
       "<table border=\"1\" class=\"dataframe\">\n",
       "  <thead>\n",
       "    <tr style=\"text-align: right;\">\n",
       "      <th></th>\n",
       "      <th>pais</th>\n",
       "      <th>capital</th>\n",
       "      <th>cantidad_de_habitantes</th>\n",
       "      <th>PIB</th>\n",
       "      <th>ingreso_per_capita</th>\n",
       "    </tr>\n",
       "  </thead>\n",
       "  <tbody>\n",
       "    <tr>\n",
       "      <th>1</th>\n",
       "      <td>Brasil</td>\n",
       "      <td>Brasilia</td>\n",
       "      <td>214326223</td>\n",
       "      <td>$2,000,000,000,000</td>\n",
       "      <td>$9,334</td>\n",
       "    </tr>\n",
       "    <tr>\n",
       "      <th>8</th>\n",
       "      <td>Ecuador</td>\n",
       "      <td>Quito</td>\n",
       "      <td>18001000</td>\n",
       "      <td>$118,000,000,000</td>\n",
       "      <td>$6,556</td>\n",
       "    </tr>\n",
       "    <tr>\n",
       "      <th>9</th>\n",
       "      <td>Bolivia</td>\n",
       "      <td>La Paz</td>\n",
       "      <td>12456000</td>\n",
       "      <td>$44,000,000,000</td>\n",
       "      <td>$3,530</td>\n",
       "    </tr>\n",
       "  </tbody>\n",
       "</table>\n",
       "</div>"
      ],
      "text/plain": [
       "      pais   capital  cantidad_de_habitantes                 PIB  \\\n",
       "1   Brasil  Brasilia               214326223  $2,000,000,000,000   \n",
       "8  Ecuador     Quito                18001000    $118,000,000,000   \n",
       "9  Bolivia    La Paz                12456000     $44,000,000,000   \n",
       "\n",
       "  ingreso_per_capita  \n",
       "1             $9,334  \n",
       "8             $6,556  \n",
       "9             $3,530  "
      ]
     },
     "execution_count": 69,
     "metadata": {},
     "output_type": "execute_result"
    }
   ],
   "source": [
    "df_paises[df_paises['pais'].isin(paises_faltantes)]"
   ]
  },
  {
   "cell_type": "markdown",
   "id": "c3532bfc",
   "metadata": {},
   "source": [
    "### 🗑️ Eliminar registros específicos  \n",
    "Usamos `drop(index=[1, 8, 9])` para remover las filas cuyo índice es 1, 8 y 9  \n",
    "(Brasil, Ecuador y Bolivia en este caso). Esto excluye esos países del  \n",
    "DataFrame `df_paises` antes de realizar uniones o análisis posteriores."
   ]
  },
  {
   "cell_type": "code",
   "execution_count": null,
   "id": "0d93f4a8",
   "metadata": {},
   "outputs": [],
   "source": [
    "df_paises = df_paises.drop(index=[1, 8, 9])"
   ]
  },
  {
   "cell_type": "code",
   "execution_count": 71,
   "id": "b1ece248",
   "metadata": {},
   "outputs": [],
   "source": [
    "df_paises.reset_index(drop=True, inplace=True)"
   ]
  },
  {
   "cell_type": "code",
   "execution_count": 72,
   "id": "560ca9f2",
   "metadata": {},
   "outputs": [
    {
     "data": {
      "text/html": [
       "<div>\n",
       "<style scoped>\n",
       "    .dataframe tbody tr th:only-of-type {\n",
       "        vertical-align: middle;\n",
       "    }\n",
       "\n",
       "    .dataframe tbody tr th {\n",
       "        vertical-align: top;\n",
       "    }\n",
       "\n",
       "    .dataframe thead th {\n",
       "        text-align: right;\n",
       "    }\n",
       "</style>\n",
       "<table border=\"1\" class=\"dataframe\">\n",
       "  <thead>\n",
       "    <tr style=\"text-align: right;\">\n",
       "      <th></th>\n",
       "      <th>pais</th>\n",
       "      <th>capital</th>\n",
       "      <th>cantidad_de_habitantes</th>\n",
       "      <th>PIB</th>\n",
       "      <th>ingreso_per_capita</th>\n",
       "    </tr>\n",
       "  </thead>\n",
       "  <tbody>\n",
       "    <tr>\n",
       "      <th>0</th>\n",
       "      <td>Argentina</td>\n",
       "      <td>Buenos Aires</td>\n",
       "      <td>45376763</td>\n",
       "      <td>$641,000,000,000</td>\n",
       "      <td>$14,120</td>\n",
       "    </tr>\n",
       "    <tr>\n",
       "      <th>1</th>\n",
       "      <td>Chile</td>\n",
       "      <td>Santiago</td>\n",
       "      <td>19116209</td>\n",
       "      <td>$317,000,000,000</td>\n",
       "      <td>$16,580</td>\n",
       "    </tr>\n",
       "    <tr>\n",
       "      <th>2</th>\n",
       "      <td>Colombia</td>\n",
       "      <td>Bogotá</td>\n",
       "      <td>51874024</td>\n",
       "      <td>$343,000,000,000</td>\n",
       "      <td>$6,611</td>\n",
       "    </tr>\n",
       "    <tr>\n",
       "      <th>3</th>\n",
       "      <td>México</td>\n",
       "      <td>Ciudad de México</td>\n",
       "      <td>126014024</td>\n",
       "      <td>$1,410,000,000,000</td>\n",
       "      <td>$11,190</td>\n",
       "    </tr>\n",
       "    <tr>\n",
       "      <th>4</th>\n",
       "      <td>Perú</td>\n",
       "      <td>Lima</td>\n",
       "      <td>33925854</td>\n",
       "      <td>$268,000,000,000</td>\n",
       "      <td>$7,900</td>\n",
       "    </tr>\n",
       "    <tr>\n",
       "      <th>5</th>\n",
       "      <td>Uruguay</td>\n",
       "      <td>Montevideo</td>\n",
       "      <td>3518552</td>\n",
       "      <td>$71,000,000,000</td>\n",
       "      <td>$20,300</td>\n",
       "    </tr>\n",
       "    <tr>\n",
       "      <th>6</th>\n",
       "      <td>Panamá</td>\n",
       "      <td>Ciudad de Panamá</td>\n",
       "      <td>4468000</td>\n",
       "      <td>$76,000,000,000</td>\n",
       "      <td>$16,995</td>\n",
       "    </tr>\n",
       "  </tbody>\n",
       "</table>\n",
       "</div>"
      ],
      "text/plain": [
       "        pais           capital  cantidad_de_habitantes                 PIB  \\\n",
       "0  Argentina      Buenos Aires                45376763    $641,000,000,000   \n",
       "1      Chile          Santiago                19116209    $317,000,000,000   \n",
       "2   Colombia            Bogotá                51874024    $343,000,000,000   \n",
       "3     México  Ciudad de México               126014024  $1,410,000,000,000   \n",
       "4       Perú              Lima                33925854    $268,000,000,000   \n",
       "5    Uruguay        Montevideo                 3518552     $71,000,000,000   \n",
       "6     Panamá  Ciudad de Panamá                 4468000     $76,000,000,000   \n",
       "\n",
       "  ingreso_per_capita  \n",
       "0            $14,120  \n",
       "1            $16,580  \n",
       "2             $6,611  \n",
       "3            $11,190  \n",
       "4             $7,900  \n",
       "5            $20,300  \n",
       "6            $16,995  "
      ]
     },
     "execution_count": 72,
     "metadata": {},
     "output_type": "execute_result"
    }
   ],
   "source": [
    "df_paises"
   ]
  },
  {
   "cell_type": "markdown",
   "id": "8e281fe3",
   "metadata": {},
   "source": [
    "### 💲 Limpieza y conversión de columnas monetarias  \n",
    "Seleccionamos las columnas `PIB` e `ingreso_per_capita` y:\n",
    "\n",
    "1. **`replace({'\\\\$': '', ',': ''}, regex=True)`**  \n",
    "   - Elimina el símbolo de dólar (`$`) y las comas de miles (`,`).  \n",
    "   - `regex=True` permite usar patrones de expresión regular.\n",
    "\n",
    "2. **`astype(float)`**  \n",
    "   - Convierte las cadenas ya limpias a valores numéricos (`float64`).\n",
    "\n",
    "Resultado: ambas columnas quedan listas para cálculos y comparaciones\n",
    "estadísticas sin símbolos ni separadores."
   ]
  },
  {
   "cell_type": "code",
   "execution_count": 73,
   "id": "0bbd29b3",
   "metadata": {},
   "outputs": [],
   "source": [
    "df_paises[[\"PIB\", \"ingreso_per_capita\"]] = (df_paises[[\"PIB\", \"ingreso_per_capita\"]].replace({'\\\\$': '', ',': ''}, regex=True).astype(float))"
   ]
  },
  {
   "cell_type": "code",
   "execution_count": 74,
   "id": "c44dd838",
   "metadata": {},
   "outputs": [
    {
     "data": {
      "text/html": [
       "<div>\n",
       "<style scoped>\n",
       "    .dataframe tbody tr th:only-of-type {\n",
       "        vertical-align: middle;\n",
       "    }\n",
       "\n",
       "    .dataframe tbody tr th {\n",
       "        vertical-align: top;\n",
       "    }\n",
       "\n",
       "    .dataframe thead th {\n",
       "        text-align: right;\n",
       "    }\n",
       "</style>\n",
       "<table border=\"1\" class=\"dataframe\">\n",
       "  <thead>\n",
       "    <tr style=\"text-align: right;\">\n",
       "      <th></th>\n",
       "      <th>pais</th>\n",
       "      <th>capital</th>\n",
       "      <th>cantidad_de_habitantes</th>\n",
       "      <th>PIB</th>\n",
       "      <th>ingreso_per_capita</th>\n",
       "    </tr>\n",
       "  </thead>\n",
       "  <tbody>\n",
       "    <tr>\n",
       "      <th>0</th>\n",
       "      <td>Argentina</td>\n",
       "      <td>Buenos Aires</td>\n",
       "      <td>45376763</td>\n",
       "      <td>6.410000e+11</td>\n",
       "      <td>14120.0</td>\n",
       "    </tr>\n",
       "    <tr>\n",
       "      <th>1</th>\n",
       "      <td>Chile</td>\n",
       "      <td>Santiago</td>\n",
       "      <td>19116209</td>\n",
       "      <td>3.170000e+11</td>\n",
       "      <td>16580.0</td>\n",
       "    </tr>\n",
       "    <tr>\n",
       "      <th>2</th>\n",
       "      <td>Colombia</td>\n",
       "      <td>Bogotá</td>\n",
       "      <td>51874024</td>\n",
       "      <td>3.430000e+11</td>\n",
       "      <td>6611.0</td>\n",
       "    </tr>\n",
       "    <tr>\n",
       "      <th>3</th>\n",
       "      <td>México</td>\n",
       "      <td>Ciudad de México</td>\n",
       "      <td>126014024</td>\n",
       "      <td>1.410000e+12</td>\n",
       "      <td>11190.0</td>\n",
       "    </tr>\n",
       "    <tr>\n",
       "      <th>4</th>\n",
       "      <td>Perú</td>\n",
       "      <td>Lima</td>\n",
       "      <td>33925854</td>\n",
       "      <td>2.680000e+11</td>\n",
       "      <td>7900.0</td>\n",
       "    </tr>\n",
       "  </tbody>\n",
       "</table>\n",
       "</div>"
      ],
      "text/plain": [
       "        pais           capital  cantidad_de_habitantes           PIB  \\\n",
       "0  Argentina      Buenos Aires                45376763  6.410000e+11   \n",
       "1      Chile          Santiago                19116209  3.170000e+11   \n",
       "2   Colombia            Bogotá                51874024  3.430000e+11   \n",
       "3     México  Ciudad de México               126014024  1.410000e+12   \n",
       "4       Perú              Lima                33925854  2.680000e+11   \n",
       "\n",
       "   ingreso_per_capita  \n",
       "0             14120.0  \n",
       "1             16580.0  \n",
       "2              6611.0  \n",
       "3             11190.0  \n",
       "4              7900.0  "
      ]
     },
     "execution_count": 74,
     "metadata": {},
     "output_type": "execute_result"
    }
   ],
   "source": [
    "df_paises.head()"
   ]
  },
  {
   "cell_type": "code",
   "execution_count": 75,
   "id": "157a3ff0",
   "metadata": {},
   "outputs": [
    {
     "data": {
      "text/plain": [
       "pais                      0\n",
       "capital                   0\n",
       "cantidad_de_habitantes    0\n",
       "PIB                       0\n",
       "ingreso_per_capita        0\n",
       "dtype: int64"
      ]
     },
     "execution_count": 75,
     "metadata": {},
     "output_type": "execute_result"
    }
   ],
   "source": [
    "df_paises.isnull().sum()"
   ]
  },
  {
   "cell_type": "markdown",
   "id": "ade95137",
   "metadata": {},
   "source": [
    "---\n",
    "## 7 · Unir datasets (`merge`)\n",
    "Unimos `df_salarios` con `df_paises` por la columna `pais` para enriquecer la información.\n"
   ]
  },
  {
   "cell_type": "code",
   "execution_count": 76,
   "id": "a56915d4",
   "metadata": {},
   "outputs": [],
   "source": [
    "df_salarios_pais = df_salarios.merge(\n",
    "    right=df_paises,\n",
    "    how='left',\n",
    "    left_on='pais',\n",
    "    right_on='pais'\n",
    ").head()"
   ]
  },
  {
   "cell_type": "code",
   "execution_count": 77,
   "id": "242c81e7",
   "metadata": {},
   "outputs": [
    {
     "data": {
      "text/html": [
       "<div>\n",
       "<style scoped>\n",
       "    .dataframe tbody tr th:only-of-type {\n",
       "        vertical-align: middle;\n",
       "    }\n",
       "\n",
       "    .dataframe tbody tr th {\n",
       "        vertical-align: top;\n",
       "    }\n",
       "\n",
       "    .dataframe thead th {\n",
       "        text-align: right;\n",
       "    }\n",
       "</style>\n",
       "<table border=\"1\" class=\"dataframe\">\n",
       "  <thead>\n",
       "    <tr style=\"text-align: right;\">\n",
       "      <th></th>\n",
       "      <th>nombre</th>\n",
       "      <th>apellido</th>\n",
       "      <th>edad</th>\n",
       "      <th>pais</th>\n",
       "      <th>educacion_universitaria</th>\n",
       "      <th>nombre_de_la_empresa</th>\n",
       "      <th>cargo</th>\n",
       "      <th>anos_en_la_empresa</th>\n",
       "      <th>sueldo_anual_dolares</th>\n",
       "      <th>bono_anual_euros</th>\n",
       "      <th>bono_anual_dolares</th>\n",
       "      <th>capital</th>\n",
       "      <th>cantidad_de_habitantes</th>\n",
       "      <th>PIB</th>\n",
       "      <th>ingreso_per_capita</th>\n",
       "    </tr>\n",
       "  </thead>\n",
       "  <tbody>\n",
       "    <tr>\n",
       "      <th>0</th>\n",
       "      <td>José</td>\n",
       "      <td>López</td>\n",
       "      <td>36</td>\n",
       "      <td>Chile</td>\n",
       "      <td>Sí</td>\n",
       "      <td>Mercado Libre</td>\n",
       "      <td>Python Developer</td>\n",
       "      <td>2</td>\n",
       "      <td>71841.0</td>\n",
       "      <td>4981.0</td>\n",
       "      <td>5479.1</td>\n",
       "      <td>Santiago</td>\n",
       "      <td>19116209.0</td>\n",
       "      <td>3.170000e+11</td>\n",
       "      <td>16580.0</td>\n",
       "    </tr>\n",
       "    <tr>\n",
       "      <th>1</th>\n",
       "      <td>Fernanda</td>\n",
       "      <td>Vargas</td>\n",
       "      <td>39</td>\n",
       "      <td>Chile</td>\n",
       "      <td>Sí</td>\n",
       "      <td>Amazon</td>\n",
       "      <td>AI Software Engineer</td>\n",
       "      <td>2</td>\n",
       "      <td>142115.0</td>\n",
       "      <td>1252.0</td>\n",
       "      <td>1377.2</td>\n",
       "      <td>Santiago</td>\n",
       "      <td>19116209.0</td>\n",
       "      <td>3.170000e+11</td>\n",
       "      <td>16580.0</td>\n",
       "    </tr>\n",
       "    <tr>\n",
       "      <th>2</th>\n",
       "      <td>Fernanda</td>\n",
       "      <td>Ramírez</td>\n",
       "      <td>30</td>\n",
       "      <td>Colombia</td>\n",
       "      <td>No</td>\n",
       "      <td>Facebook</td>\n",
       "      <td>Machine Learning Engineer</td>\n",
       "      <td>2</td>\n",
       "      <td>92278.0</td>\n",
       "      <td>5262.0</td>\n",
       "      <td>5788.2</td>\n",
       "      <td>Bogotá</td>\n",
       "      <td>51874024.0</td>\n",
       "      <td>3.430000e+11</td>\n",
       "      <td>6611.0</td>\n",
       "    </tr>\n",
       "    <tr>\n",
       "      <th>3</th>\n",
       "      <td>José</td>\n",
       "      <td>Gómez</td>\n",
       "      <td>35</td>\n",
       "      <td>Chile</td>\n",
       "      <td>Sí</td>\n",
       "      <td>Mercado Libre</td>\n",
       "      <td>Python Developer</td>\n",
       "      <td>12</td>\n",
       "      <td>97130.0</td>\n",
       "      <td>3671.0</td>\n",
       "      <td>4038.1</td>\n",
       "      <td>Santiago</td>\n",
       "      <td>19116209.0</td>\n",
       "      <td>3.170000e+11</td>\n",
       "      <td>16580.0</td>\n",
       "    </tr>\n",
       "    <tr>\n",
       "      <th>4</th>\n",
       "      <td>Ana</td>\n",
       "      <td>Pérez</td>\n",
       "      <td>32</td>\n",
       "      <td>Panamá</td>\n",
       "      <td>No</td>\n",
       "      <td>Amazon</td>\n",
       "      <td>Project Manager</td>\n",
       "      <td>2</td>\n",
       "      <td>61413.0</td>\n",
       "      <td>10190.0</td>\n",
       "      <td>11209.0</td>\n",
       "      <td>Ciudad de Panamá</td>\n",
       "      <td>4468000.0</td>\n",
       "      <td>7.600000e+10</td>\n",
       "      <td>16995.0</td>\n",
       "    </tr>\n",
       "  </tbody>\n",
       "</table>\n",
       "</div>"
      ],
      "text/plain": [
       "     nombre apellido  edad      pais educacion_universitaria  \\\n",
       "0      José    López    36     Chile                      Sí   \n",
       "1  Fernanda   Vargas    39     Chile                      Sí   \n",
       "2  Fernanda  Ramírez    30  Colombia                      No   \n",
       "3      José    Gómez    35     Chile                      Sí   \n",
       "4       Ana    Pérez    32    Panamá                      No   \n",
       "\n",
       "  nombre_de_la_empresa                      cargo  anos_en_la_empresa  \\\n",
       "0        Mercado Libre           Python Developer                   2   \n",
       "1               Amazon       AI Software Engineer                   2   \n",
       "2             Facebook  Machine Learning Engineer                   2   \n",
       "3        Mercado Libre           Python Developer                  12   \n",
       "4               Amazon            Project Manager                   2   \n",
       "\n",
       "   sueldo_anual_dolares  bono_anual_euros  bono_anual_dolares  \\\n",
       "0               71841.0            4981.0              5479.1   \n",
       "1              142115.0            1252.0              1377.2   \n",
       "2               92278.0            5262.0              5788.2   \n",
       "3               97130.0            3671.0              4038.1   \n",
       "4               61413.0           10190.0             11209.0   \n",
       "\n",
       "            capital  cantidad_de_habitantes           PIB  ingreso_per_capita  \n",
       "0          Santiago              19116209.0  3.170000e+11             16580.0  \n",
       "1          Santiago              19116209.0  3.170000e+11             16580.0  \n",
       "2            Bogotá              51874024.0  3.430000e+11              6611.0  \n",
       "3          Santiago              19116209.0  3.170000e+11             16580.0  \n",
       "4  Ciudad de Panamá               4468000.0  7.600000e+10             16995.0  "
      ]
     },
     "execution_count": 77,
     "metadata": {},
     "output_type": "execute_result"
    }
   ],
   "source": [
    "df_salarios_pais.head()"
   ]
  },
  {
   "cell_type": "markdown",
   "id": "9cc04972",
   "metadata": {},
   "source": [
    "---\n",
    "## 8 · Crear columnas derivadas\n"
   ]
  },
  {
   "cell_type": "markdown",
   "id": "b99e0a21",
   "metadata": {},
   "source": [
    "### 💰 Métrica de compensación total  \n",
    "Creamos `compensacion_total` sumando el salario anual (`sueldo_anual_dolares`)  \n",
    "y el bono anual convertido a dólares (`bono_anual_dolares`).  \n",
    "Esta columna refleja cuánto percibe realmente cada empleado en un año,  \n",
    "facilitando análisis comparativos por país, cargo o empresa."
   ]
  },
  {
   "cell_type": "code",
   "execution_count": 78,
   "id": "460817ed",
   "metadata": {},
   "outputs": [],
   "source": [
    "# crear compensacion total suamndo salario anualdolares y bono anual dolares\n",
    "df_salarios_pais[\"compensacion_total_dolares\"] = (\n",
    "    df_salarios_pais[\"sueldo_anual_dolares\"] + df_salarios_pais[\"bono_anual_dolares\"]\n",
    ")"
   ]
  },
  {
   "cell_type": "code",
   "execution_count": 79,
   "id": "72249791",
   "metadata": {},
   "outputs": [
    {
     "data": {
      "text/html": [
       "<div>\n",
       "<style scoped>\n",
       "    .dataframe tbody tr th:only-of-type {\n",
       "        vertical-align: middle;\n",
       "    }\n",
       "\n",
       "    .dataframe tbody tr th {\n",
       "        vertical-align: top;\n",
       "    }\n",
       "\n",
       "    .dataframe thead th {\n",
       "        text-align: right;\n",
       "    }\n",
       "</style>\n",
       "<table border=\"1\" class=\"dataframe\">\n",
       "  <thead>\n",
       "    <tr style=\"text-align: right;\">\n",
       "      <th></th>\n",
       "      <th>nombre</th>\n",
       "      <th>apellido</th>\n",
       "      <th>edad</th>\n",
       "      <th>pais</th>\n",
       "      <th>educacion_universitaria</th>\n",
       "      <th>nombre_de_la_empresa</th>\n",
       "      <th>cargo</th>\n",
       "      <th>anos_en_la_empresa</th>\n",
       "      <th>sueldo_anual_dolares</th>\n",
       "      <th>bono_anual_euros</th>\n",
       "      <th>bono_anual_dolares</th>\n",
       "      <th>capital</th>\n",
       "      <th>cantidad_de_habitantes</th>\n",
       "      <th>PIB</th>\n",
       "      <th>ingreso_per_capita</th>\n",
       "      <th>compensacion_total_dolares</th>\n",
       "    </tr>\n",
       "  </thead>\n",
       "  <tbody>\n",
       "    <tr>\n",
       "      <th>0</th>\n",
       "      <td>José</td>\n",
       "      <td>López</td>\n",
       "      <td>36</td>\n",
       "      <td>Chile</td>\n",
       "      <td>Sí</td>\n",
       "      <td>Mercado Libre</td>\n",
       "      <td>Python Developer</td>\n",
       "      <td>2</td>\n",
       "      <td>71841.0</td>\n",
       "      <td>4981.0</td>\n",
       "      <td>5479.1</td>\n",
       "      <td>Santiago</td>\n",
       "      <td>19116209.0</td>\n",
       "      <td>3.170000e+11</td>\n",
       "      <td>16580.0</td>\n",
       "      <td>77320.1</td>\n",
       "    </tr>\n",
       "    <tr>\n",
       "      <th>1</th>\n",
       "      <td>Fernanda</td>\n",
       "      <td>Vargas</td>\n",
       "      <td>39</td>\n",
       "      <td>Chile</td>\n",
       "      <td>Sí</td>\n",
       "      <td>Amazon</td>\n",
       "      <td>AI Software Engineer</td>\n",
       "      <td>2</td>\n",
       "      <td>142115.0</td>\n",
       "      <td>1252.0</td>\n",
       "      <td>1377.2</td>\n",
       "      <td>Santiago</td>\n",
       "      <td>19116209.0</td>\n",
       "      <td>3.170000e+11</td>\n",
       "      <td>16580.0</td>\n",
       "      <td>143492.2</td>\n",
       "    </tr>\n",
       "    <tr>\n",
       "      <th>2</th>\n",
       "      <td>Fernanda</td>\n",
       "      <td>Ramírez</td>\n",
       "      <td>30</td>\n",
       "      <td>Colombia</td>\n",
       "      <td>No</td>\n",
       "      <td>Facebook</td>\n",
       "      <td>Machine Learning Engineer</td>\n",
       "      <td>2</td>\n",
       "      <td>92278.0</td>\n",
       "      <td>5262.0</td>\n",
       "      <td>5788.2</td>\n",
       "      <td>Bogotá</td>\n",
       "      <td>51874024.0</td>\n",
       "      <td>3.430000e+11</td>\n",
       "      <td>6611.0</td>\n",
       "      <td>98066.2</td>\n",
       "    </tr>\n",
       "    <tr>\n",
       "      <th>3</th>\n",
       "      <td>José</td>\n",
       "      <td>Gómez</td>\n",
       "      <td>35</td>\n",
       "      <td>Chile</td>\n",
       "      <td>Sí</td>\n",
       "      <td>Mercado Libre</td>\n",
       "      <td>Python Developer</td>\n",
       "      <td>12</td>\n",
       "      <td>97130.0</td>\n",
       "      <td>3671.0</td>\n",
       "      <td>4038.1</td>\n",
       "      <td>Santiago</td>\n",
       "      <td>19116209.0</td>\n",
       "      <td>3.170000e+11</td>\n",
       "      <td>16580.0</td>\n",
       "      <td>101168.1</td>\n",
       "    </tr>\n",
       "    <tr>\n",
       "      <th>4</th>\n",
       "      <td>Ana</td>\n",
       "      <td>Pérez</td>\n",
       "      <td>32</td>\n",
       "      <td>Panamá</td>\n",
       "      <td>No</td>\n",
       "      <td>Amazon</td>\n",
       "      <td>Project Manager</td>\n",
       "      <td>2</td>\n",
       "      <td>61413.0</td>\n",
       "      <td>10190.0</td>\n",
       "      <td>11209.0</td>\n",
       "      <td>Ciudad de Panamá</td>\n",
       "      <td>4468000.0</td>\n",
       "      <td>7.600000e+10</td>\n",
       "      <td>16995.0</td>\n",
       "      <td>72622.0</td>\n",
       "    </tr>\n",
       "  </tbody>\n",
       "</table>\n",
       "</div>"
      ],
      "text/plain": [
       "     nombre apellido  edad      pais educacion_universitaria  \\\n",
       "0      José    López    36     Chile                      Sí   \n",
       "1  Fernanda   Vargas    39     Chile                      Sí   \n",
       "2  Fernanda  Ramírez    30  Colombia                      No   \n",
       "3      José    Gómez    35     Chile                      Sí   \n",
       "4       Ana    Pérez    32    Panamá                      No   \n",
       "\n",
       "  nombre_de_la_empresa                      cargo  anos_en_la_empresa  \\\n",
       "0        Mercado Libre           Python Developer                   2   \n",
       "1               Amazon       AI Software Engineer                   2   \n",
       "2             Facebook  Machine Learning Engineer                   2   \n",
       "3        Mercado Libre           Python Developer                  12   \n",
       "4               Amazon            Project Manager                   2   \n",
       "\n",
       "   sueldo_anual_dolares  bono_anual_euros  bono_anual_dolares  \\\n",
       "0               71841.0            4981.0              5479.1   \n",
       "1              142115.0            1252.0              1377.2   \n",
       "2               92278.0            5262.0              5788.2   \n",
       "3               97130.0            3671.0              4038.1   \n",
       "4               61413.0           10190.0             11209.0   \n",
       "\n",
       "            capital  cantidad_de_habitantes           PIB  ingreso_per_capita  \\\n",
       "0          Santiago              19116209.0  3.170000e+11             16580.0   \n",
       "1          Santiago              19116209.0  3.170000e+11             16580.0   \n",
       "2            Bogotá              51874024.0  3.430000e+11              6611.0   \n",
       "3          Santiago              19116209.0  3.170000e+11             16580.0   \n",
       "4  Ciudad de Panamá               4468000.0  7.600000e+10             16995.0   \n",
       "\n",
       "   compensacion_total_dolares  \n",
       "0                     77320.1  \n",
       "1                    143492.2  \n",
       "2                     98066.2  \n",
       "3                    101168.1  \n",
       "4                     72622.0  "
      ]
     },
     "execution_count": 79,
     "metadata": {},
     "output_type": "execute_result"
    }
   ],
   "source": [
    "df_salarios_pais.head()"
   ]
  },
  {
   "cell_type": "markdown",
   "id": "16906503",
   "metadata": {},
   "source": [
    "### 🏆 Clasificación de senioridad  \n",
    "Creamos la columna `senioridad` con `np.where`:\n",
    "\n",
    "* **Condición** → `anos_en_la_empresa > 5`  \n",
    "  - Si el empleado lleva **más de 5 años**, se le etiqueta como **\"Senior\"**.  \n",
    "  - En caso contrario, se marca como **\"Junior\"**.\n",
    "\n",
    "Así obtenemos una variable categórica que nos ayudará a comparar\n",
    "compensaciones y otros indicadores entre niveles de experiencia."
   ]
  },
  {
   "cell_type": "code",
   "execution_count": 81,
   "id": "06bc72bd",
   "metadata": {},
   "outputs": [],
   "source": [
    "# crear columna de senioridad con np.where, condicion años en empresa > 5, es senior, sino es junior\n",
    "df_salarios_pais[\"senioridad\"] = np.where(\n",
    "    df_salarios_pais[\"anos_en_la_empresa\"] > 5,\n",
    "    \"Senior\",\n",
    "    \"Junior\"\n",
    ")"
   ]
  },
  {
   "cell_type": "code",
   "execution_count": 83,
   "id": "cea38323",
   "metadata": {},
   "outputs": [
    {
     "data": {
      "text/html": [
       "<div>\n",
       "<style scoped>\n",
       "    .dataframe tbody tr th:only-of-type {\n",
       "        vertical-align: middle;\n",
       "    }\n",
       "\n",
       "    .dataframe tbody tr th {\n",
       "        vertical-align: top;\n",
       "    }\n",
       "\n",
       "    .dataframe thead th {\n",
       "        text-align: right;\n",
       "    }\n",
       "</style>\n",
       "<table border=\"1\" class=\"dataframe\">\n",
       "  <thead>\n",
       "    <tr style=\"text-align: right;\">\n",
       "      <th></th>\n",
       "      <th>nombre</th>\n",
       "      <th>apellido</th>\n",
       "      <th>anos_en_la_empresa</th>\n",
       "      <th>compensacion_total_dolares</th>\n",
       "      <th>senioridad</th>\n",
       "    </tr>\n",
       "  </thead>\n",
       "  <tbody>\n",
       "    <tr>\n",
       "      <th>0</th>\n",
       "      <td>José</td>\n",
       "      <td>López</td>\n",
       "      <td>2</td>\n",
       "      <td>77320.1</td>\n",
       "      <td>Junior</td>\n",
       "    </tr>\n",
       "    <tr>\n",
       "      <th>1</th>\n",
       "      <td>Fernanda</td>\n",
       "      <td>Vargas</td>\n",
       "      <td>2</td>\n",
       "      <td>143492.2</td>\n",
       "      <td>Junior</td>\n",
       "    </tr>\n",
       "    <tr>\n",
       "      <th>2</th>\n",
       "      <td>Fernanda</td>\n",
       "      <td>Ramírez</td>\n",
       "      <td>2</td>\n",
       "      <td>98066.2</td>\n",
       "      <td>Junior</td>\n",
       "    </tr>\n",
       "    <tr>\n",
       "      <th>3</th>\n",
       "      <td>José</td>\n",
       "      <td>Gómez</td>\n",
       "      <td>12</td>\n",
       "      <td>101168.1</td>\n",
       "      <td>Senior</td>\n",
       "    </tr>\n",
       "    <tr>\n",
       "      <th>4</th>\n",
       "      <td>Ana</td>\n",
       "      <td>Pérez</td>\n",
       "      <td>2</td>\n",
       "      <td>72622.0</td>\n",
       "      <td>Junior</td>\n",
       "    </tr>\n",
       "  </tbody>\n",
       "</table>\n",
       "</div>"
      ],
      "text/plain": [
       "     nombre apellido  anos_en_la_empresa  compensacion_total_dolares  \\\n",
       "0      José    López                   2                     77320.1   \n",
       "1  Fernanda   Vargas                   2                    143492.2   \n",
       "2  Fernanda  Ramírez                   2                     98066.2   \n",
       "3      José    Gómez                  12                    101168.1   \n",
       "4       Ana    Pérez                   2                     72622.0   \n",
       "\n",
       "  senioridad  \n",
       "0     Junior  \n",
       "1     Junior  \n",
       "2     Junior  \n",
       "3     Senior  \n",
       "4     Junior  "
      ]
     },
     "execution_count": 83,
     "metadata": {},
     "output_type": "execute_result"
    }
   ],
   "source": [
    "df_salarios_pais[['nombre', 'apellido', 'anos_en_la_empresa','compensacion_total_dolares', 'senioridad']].head(10)"
   ]
  },
  {
   "cell_type": "markdown",
   "id": "367430d7",
   "metadata": {},
   "source": [
    "### 🔎 Revisión de valores nulos por columna  \n",
    "`df_salarios_pais.isna().sum()` muestra cuántos `NaN` hay en cada columna  \n",
    "tras el merge. Los resultados indican que los registros de **Costa Rica**  \n",
    "aún presentan nulos en `capital`, `PIB`, `cantidad_de_habitantes` e  \n",
    "`ingreso_per_capita`. Conviene imputar o investigar estos campos antes de  \n",
    "continuar con el análisis para evitar sesgos o errores en cálculos agregados."
   ]
  },
  {
   "cell_type": "code",
   "execution_count": 84,
   "id": "2f186d73",
   "metadata": {},
   "outputs": [
    {
     "data": {
      "text/plain": [
       "nombre                        0\n",
       "apellido                      0\n",
       "edad                          0\n",
       "pais                          0\n",
       "educacion_universitaria       0\n",
       "nombre_de_la_empresa          0\n",
       "cargo                         0\n",
       "anos_en_la_empresa            0\n",
       "sueldo_anual_dolares          0\n",
       "bono_anual_euros              0\n",
       "bono_anual_dolares            0\n",
       "capital                       0\n",
       "cantidad_de_habitantes        0\n",
       "PIB                           0\n",
       "ingreso_per_capita            0\n",
       "compensacion_total_dolares    0\n",
       "senioridad                    0\n",
       "dtype: int64"
      ]
     },
     "execution_count": 84,
     "metadata": {},
     "output_type": "execute_result"
    }
   ],
   "source": [
    "df_salarios_pais.isna().sum()"
   ]
  },
  {
   "cell_type": "code",
   "execution_count": 85,
   "id": "f6a6cb11",
   "metadata": {},
   "outputs": [
    {
     "data": {
      "text/html": [
       "<div>\n",
       "<style scoped>\n",
       "    .dataframe tbody tr th:only-of-type {\n",
       "        vertical-align: middle;\n",
       "    }\n",
       "\n",
       "    .dataframe tbody tr th {\n",
       "        vertical-align: top;\n",
       "    }\n",
       "\n",
       "    .dataframe thead th {\n",
       "        text-align: right;\n",
       "    }\n",
       "</style>\n",
       "<table border=\"1\" class=\"dataframe\">\n",
       "  <thead>\n",
       "    <tr style=\"text-align: right;\">\n",
       "      <th></th>\n",
       "      <th>nombre</th>\n",
       "      <th>apellido</th>\n",
       "      <th>edad</th>\n",
       "      <th>pais</th>\n",
       "      <th>educacion_universitaria</th>\n",
       "      <th>nombre_de_la_empresa</th>\n",
       "      <th>cargo</th>\n",
       "      <th>anos_en_la_empresa</th>\n",
       "      <th>sueldo_anual_dolares</th>\n",
       "      <th>bono_anual_euros</th>\n",
       "      <th>bono_anual_dolares</th>\n",
       "      <th>capital</th>\n",
       "      <th>cantidad_de_habitantes</th>\n",
       "      <th>PIB</th>\n",
       "      <th>ingreso_per_capita</th>\n",
       "      <th>compensacion_total_dolares</th>\n",
       "      <th>senioridad</th>\n",
       "    </tr>\n",
       "  </thead>\n",
       "  <tbody>\n",
       "  </tbody>\n",
       "</table>\n",
       "</div>"
      ],
      "text/plain": [
       "Empty DataFrame\n",
       "Columns: [nombre, apellido, edad, pais, educacion_universitaria, nombre_de_la_empresa, cargo, anos_en_la_empresa, sueldo_anual_dolares, bono_anual_euros, bono_anual_dolares, capital, cantidad_de_habitantes, PIB, ingreso_per_capita, compensacion_total_dolares, senioridad]\n",
       "Index: []"
      ]
     },
     "execution_count": 85,
     "metadata": {},
     "output_type": "execute_result"
    }
   ],
   "source": [
    "df_salarios_pais[df_salarios_pais['pais'] == 'Costa Rica']"
   ]
  },
  {
   "cell_type": "markdown",
   "id": "ca09b203",
   "metadata": {},
   "source": [
    "### 🔍 Filtrar filas de Costa Rica  \n",
    "Creamos `mask_cr` para identificar las filas donde `pais == \"Costa Rica\"` y,  \n",
    "con `loc`, mostramos únicamente esos registros. Así podemos inspeccionar  \n",
    "qué columnas siguen con `NaN` y decidir cómo imputarlas o ajustarlas."
   ]
  },
  {
   "cell_type": "code",
   "execution_count": 86,
   "id": "60760505",
   "metadata": {},
   "outputs": [
    {
     "data": {
      "text/html": [
       "<div>\n",
       "<style scoped>\n",
       "    .dataframe tbody tr th:only-of-type {\n",
       "        vertical-align: middle;\n",
       "    }\n",
       "\n",
       "    .dataframe tbody tr th {\n",
       "        vertical-align: top;\n",
       "    }\n",
       "\n",
       "    .dataframe thead th {\n",
       "        text-align: right;\n",
       "    }\n",
       "</style>\n",
       "<table border=\"1\" class=\"dataframe\">\n",
       "  <thead>\n",
       "    <tr style=\"text-align: right;\">\n",
       "      <th></th>\n",
       "      <th>nombre</th>\n",
       "      <th>apellido</th>\n",
       "      <th>edad</th>\n",
       "      <th>pais</th>\n",
       "      <th>educacion_universitaria</th>\n",
       "      <th>nombre_de_la_empresa</th>\n",
       "      <th>cargo</th>\n",
       "      <th>anos_en_la_empresa</th>\n",
       "      <th>sueldo_anual_dolares</th>\n",
       "      <th>bono_anual_euros</th>\n",
       "      <th>bono_anual_dolares</th>\n",
       "      <th>capital</th>\n",
       "      <th>cantidad_de_habitantes</th>\n",
       "      <th>PIB</th>\n",
       "      <th>ingreso_per_capita</th>\n",
       "      <th>compensacion_total_dolares</th>\n",
       "      <th>senioridad</th>\n",
       "    </tr>\n",
       "  </thead>\n",
       "  <tbody>\n",
       "  </tbody>\n",
       "</table>\n",
       "</div>"
      ],
      "text/plain": [
       "Empty DataFrame\n",
       "Columns: [nombre, apellido, edad, pais, educacion_universitaria, nombre_de_la_empresa, cargo, anos_en_la_empresa, sueldo_anual_dolares, bono_anual_euros, bono_anual_dolares, capital, cantidad_de_habitantes, PIB, ingreso_per_capita, compensacion_total_dolares, senioridad]\n",
       "Index: []"
      ]
     },
     "execution_count": 86,
     "metadata": {},
     "output_type": "execute_result"
    }
   ],
   "source": [
    "mask_cr = df_salarios_pais[\"pais\"] == \"Costa Rica\"\n",
    "df_salarios_pais.loc[mask_cr]"
   ]
  },
  {
   "cell_type": "markdown",
   "id": "ae4d49a8",
   "metadata": {},
   "source": [
    "### 📝 Diccionario con datos oficiales de Costa Rica  \n",
    "Definimos `datos_cr` con los valores verificados para imputar en las filas  \n",
    "de Costa Rica:\n",
    "\n",
    "* **capital:** San José  \n",
    "* **cantidad_de_habitantes:** 5 150 000  \n",
    "* **PIB:** 86 500 000 000 USD  \n",
    "* **ingreso_per_capita:** 14 319 USD\n",
    "\n",
    "Estos números reemplazarán los `NaN` correspondientes en el DataFrame."
   ]
  },
  {
   "cell_type": "code",
   "execution_count": 87,
   "id": "1cc70e55",
   "metadata": {},
   "outputs": [],
   "source": [
    "datos_cr = {\n",
    "    \"capital\": \"San José\",\n",
    "    \"cantidad_de_habitantes\": 5150000,\n",
    "    \"PIB\": 86500000000,\n",
    "    \"ingreso_per_capita\": 14319\n",
    "}"
   ]
  },
  {
   "cell_type": "markdown",
   "id": "1b773a7b",
   "metadata": {},
   "source": [
    "### 🛠️ Imputar valores faltantes para Costa Rica  \n",
    "Recorremos `datos_cr` y, para cada columna:\n",
    "\n",
    "1. **Ubicamos** únicamente las filas de Costa Rica (`mask_cr`).  \n",
    "2. **`fillna(valor)`** reemplaza solo los `NaN` con el dato oficial correspondiente.  \n",
    "3. Asignamos el resultado de vuelta a la misma columna, dejando intactos los\n",
    "   registros de otros países.\n",
    "\n",
    "De este modo, Costa Rica queda completa sin alterar los valores ya correctos."
   ]
  },
  {
   "cell_type": "code",
   "execution_count": null,
   "id": "ef436538",
   "metadata": {},
   "outputs": [],
   "source": [
    "for columna, valor in datos_cr.items():\n",
    "    df_salarios_pais.loc[mask_cr, columna] = df_salarios_pais.loc[mask_cr, columna].fillna(valor)"
   ]
  },
  {
   "cell_type": "code",
   "execution_count": 89,
   "id": "c58d8ada",
   "metadata": {},
   "outputs": [
    {
     "data": {
      "text/html": [
       "<div>\n",
       "<style scoped>\n",
       "    .dataframe tbody tr th:only-of-type {\n",
       "        vertical-align: middle;\n",
       "    }\n",
       "\n",
       "    .dataframe tbody tr th {\n",
       "        vertical-align: top;\n",
       "    }\n",
       "\n",
       "    .dataframe thead th {\n",
       "        text-align: right;\n",
       "    }\n",
       "</style>\n",
       "<table border=\"1\" class=\"dataframe\">\n",
       "  <thead>\n",
       "    <tr style=\"text-align: right;\">\n",
       "      <th></th>\n",
       "      <th>nombre</th>\n",
       "      <th>apellido</th>\n",
       "      <th>edad</th>\n",
       "      <th>pais</th>\n",
       "      <th>educacion_universitaria</th>\n",
       "      <th>nombre_de_la_empresa</th>\n",
       "      <th>cargo</th>\n",
       "      <th>anos_en_la_empresa</th>\n",
       "      <th>sueldo_anual_dolares</th>\n",
       "      <th>bono_anual_euros</th>\n",
       "      <th>bono_anual_dolares</th>\n",
       "      <th>capital</th>\n",
       "      <th>cantidad_de_habitantes</th>\n",
       "      <th>PIB</th>\n",
       "      <th>ingreso_per_capita</th>\n",
       "      <th>compensacion_total_dolares</th>\n",
       "      <th>senioridad</th>\n",
       "    </tr>\n",
       "  </thead>\n",
       "  <tbody>\n",
       "  </tbody>\n",
       "</table>\n",
       "</div>"
      ],
      "text/plain": [
       "Empty DataFrame\n",
       "Columns: [nombre, apellido, edad, pais, educacion_universitaria, nombre_de_la_empresa, cargo, anos_en_la_empresa, sueldo_anual_dolares, bono_anual_euros, bono_anual_dolares, capital, cantidad_de_habitantes, PIB, ingreso_per_capita, compensacion_total_dolares, senioridad]\n",
       "Index: []"
      ]
     },
     "execution_count": 89,
     "metadata": {},
     "output_type": "execute_result"
    }
   ],
   "source": [
    "df_salarios_pais.loc[mask_cr]"
   ]
  },
  {
   "cell_type": "markdown",
   "id": "425242aa",
   "metadata": {},
   "source": [
    "### ✅ Verificación final de nulos  \n",
    "Ejecutamos `df_salarios_pais.isnull().sum()` para confirmar que **todas las  \n",
    "columnas ahora muestran 0 valores faltantes**. Nuestro DataFrame está listo  \n",
    "para pasar al Análisis Exploratorio de Datos sin riesgos de errores por `NaN`."
   ]
  },
  {
   "cell_type": "code",
   "execution_count": 90,
   "id": "3e26081e",
   "metadata": {},
   "outputs": [
    {
     "data": {
      "text/plain": [
       "nombre                     0\n",
       "apellido                   0\n",
       "edad                       0\n",
       "pais                       0\n",
       "educacion_universitaria    0\n",
       "nombre_de_la_empresa       0\n",
       "cargo                      0\n",
       "anos_en_la_empresa         0\n",
       "sueldo_anual_dolares       0\n",
       "bono_anual_euros           0\n",
       "bono_anual_dolares         0\n",
       "dtype: int64"
      ]
     },
     "execution_count": 90,
     "metadata": {},
     "output_type": "execute_result"
    }
   ],
   "source": [
    "df_salarios.isnull().sum()"
   ]
  },
  {
   "cell_type": "code",
   "execution_count": 91,
   "id": "d85003a0",
   "metadata": {},
   "outputs": [
    {
     "name": "stdout",
     "output_type": "stream",
     "text": [
      "<class 'pandas.core.frame.DataFrame'>\n",
      "RangeIndex: 5 entries, 0 to 4\n",
      "Data columns (total 17 columns):\n",
      " #   Column                      Non-Null Count  Dtype  \n",
      "---  ------                      --------------  -----  \n",
      " 0   nombre                      5 non-null      object \n",
      " 1   apellido                    5 non-null      object \n",
      " 2   edad                        5 non-null      int64  \n",
      " 3   pais                        5 non-null      object \n",
      " 4   educacion_universitaria     5 non-null      object \n",
      " 5   nombre_de_la_empresa        5 non-null      object \n",
      " 6   cargo                       5 non-null      object \n",
      " 7   anos_en_la_empresa          5 non-null      int64  \n",
      " 8   sueldo_anual_dolares        5 non-null      float64\n",
      " 9   bono_anual_euros            5 non-null      float64\n",
      " 10  bono_anual_dolares          5 non-null      float64\n",
      " 11  capital                     5 non-null      object \n",
      " 12  cantidad_de_habitantes      5 non-null      float64\n",
      " 13  PIB                         5 non-null      float64\n",
      " 14  ingreso_per_capita          5 non-null      float64\n",
      " 15  compensacion_total_dolares  5 non-null      float64\n",
      " 16  senioridad                  5 non-null      object \n",
      "dtypes: float64(7), int64(2), object(8)\n",
      "memory usage: 812.0+ bytes\n"
     ]
    }
   ],
   "source": [
    "df_salarios_pais.info()"
   ]
  },
  {
   "cell_type": "markdown",
   "id": "a88fa036",
   "metadata": {},
   "source": [
    "---\n",
    "## 9 · Exportar dataset limpio\n"
   ]
  },
  {
   "cell_type": "code",
   "execution_count": 92,
   "id": "d57676b9",
   "metadata": {},
   "outputs": [],
   "source": [
    "from cursos.analisis_datos.utils.paths import DATA_PROCESSED_DIR"
   ]
  },
  {
   "cell_type": "code",
   "execution_count": 93,
   "id": "88f478c0",
   "metadata": {},
   "outputs": [
    {
     "name": "stdout",
     "output_type": "stream",
     "text": [
      "Ruta del archivo salarios_paises: D:\\Isaac Escobar\\Documents\\Dev\\pydatapanama-cursos\\cursos\\analisis_datos\\data\\processed\\salarios_pais.csv\n",
      "existe archivo salarios_pais: False\n"
     ]
    }
   ],
   "source": [
    "salarios_pais_path = DATA_PROCESSED_DIR / \"salarios_pais.csv\"\n",
    "salarios_pais_path = str(salarios_pais_path)\n",
    "\n",
    "print(f\"Ruta del archivo salarios_paises: {salarios_pais_path}\")\n",
    "print(f\"existe archivo salarios_pais: {Path(salarios_pais_path).exists()}\")"
   ]
  },
  {
   "cell_type": "markdown",
   "id": "c3b1e1af",
   "metadata": {},
   "source": [
    "### 💾 Exportar dataset limpio  \n",
    "`to_csv(..., index=False, sep=',', encoding='utf-8')` guarda `df_salarios_pais` como un CSV en la ruta definida por `salarios_pais_path`, sin incluir la columna de índice y usando codificación UTF-8.  \n",
    "La línea `print()` confirma en pantalla la ubicación del archivo generado, facilitando su localización para futuros análisis o compartición."
   ]
  },
  {
   "cell_type": "code",
   "execution_count": null,
   "id": "dfba0841",
   "metadata": {},
   "outputs": [],
   "source": [
    "df_salarios_pais.to_csv(\n",
    "    path_or_buf=salarios_pais_path,\n",
    "    index=False,\n",
    "    sep=',',\n",
    "    encoding='utf-8'\n",
    ")"
   ]
  },
  {
   "cell_type": "code",
   "execution_count": 95,
   "id": "b8d54da1",
   "metadata": {},
   "outputs": [
    {
     "name": "stdout",
     "output_type": "stream",
     "text": [
      " Dataset limpio exportado a D:\\Isaac Escobar\\Documents\\Dev\\pydatapanama-cursos\\cursos\\analisis_datos\\data\\processed\\salarios_pais.csv\n"
     ]
    }
   ],
   "source": [
    "print(f' Dataset limpio exportado a {salarios_pais_path}')"
   ]
  },
  {
   "cell_type": "code",
   "execution_count": 96,
   "id": "cc0fdebf",
   "metadata": {},
   "outputs": [
    {
     "name": "stdout",
     "output_type": "stream",
     "text": [
      "existe archivo salarios_pais: True\n"
     ]
    }
   ],
   "source": [
    "print(f\"existe archivo salarios_pais: {Path(salarios_pais_path).exists()}\")"
   ]
  },
  {
   "cell_type": "markdown",
   "id": "6b041cfd",
   "metadata": {},
   "source": [
    "---\n",
    "## 10 · Resumen \n",
    "En esta práctica aprendiste a:\n",
    "- Limpiar columnas con símbolos.\n",
    "- Detectar/llenar nulos y eliminar duplicados.\n",
    "- Realizar un **merge** y enriquecer tu información.\n",
    "- Crear métricas derivadas y exportar datos limpios.\n",
    "\n"
   ]
  },
  {
   "cell_type": "markdown",
   "id": "587adb7a",
   "metadata": {},
   "source": []
  }
 ],
 "metadata": {
  "kernelspec": {
   "display_name": ".venv",
   "language": "python",
   "name": "python3"
  },
  "language_info": {
   "codemirror_mode": {
    "name": "ipython",
    "version": 3
   },
   "file_extension": ".py",
   "mimetype": "text/x-python",
   "name": "python",
   "nbconvert_exporter": "python",
   "pygments_lexer": "ipython3",
   "version": "3.12.3"
  }
 },
 "nbformat": 4,
 "nbformat_minor": 5
}
