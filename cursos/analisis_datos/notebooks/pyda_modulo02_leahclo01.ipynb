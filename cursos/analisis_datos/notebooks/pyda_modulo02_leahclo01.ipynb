{
 "cells": [
  {
   "cell_type": "markdown",
   "id": "dbf2748c",
   "metadata": {},
   "source": [
    "# Módulo 2 – Limpieza y Transformación de Datos\n",
    "\n",
    "En esta sesión aprenderás a preparar tus datos antes de un análisis profundo. Trabajaremos con los datasets **`salarios.csv`** y **`paises.csv`** ubicados en `data/raw/`.\n"
   ]
  },
  {
   "cell_type": "markdown",
   "id": "49402359",
   "metadata": {},
   "source": [
    "##  Objetivos de la sesión\n",
    "- Detectar y manejar **valores nulos** y **duplicados**.\n",
    "- Limpiar columnas monetarias y convertir tipos de datos.\n",
    "- **Unir** (merge) datasets por claves comunes.\n",
    "- Crear **nuevas columnas** útiles para el análisis.\n",
    "- Exportar los datos limpios a `data/processed/`.\n"
   ]
  },
  {
   "cell_type": "markdown",
   "id": "95a4554a",
   "metadata": {},
   "source": [
    "## Recuerden la Estructura de un proyecto\n",
    "\n",
    "Una estructura recomendada puede ser:\n",
    "```\n",
    "project-name/\n",
    "├── assest/           # Imagenes, graficos (generalmente no se sube a github)\n",
    "├── data/             # Datos crudos y procesados\n",
    "    ├──── raw/   \n",
    "    ├──── processed/   --> Crear esta carpeta si no la tienen\n",
    "├── notebooks/        # Notebooks del proyecto\n",
    "├── utils/            # Funciones auxiliares\n",
    "├── docs/             # Documentación\n",
    "├── README.md         # Descripción general\n",
    "├── environment.yml   # Dependencias usando conda\n",
    "└── requirements.txt  # Dependencias usando pip"
   ]
  },
  {
   "cell_type": "markdown",
   "id": "18b480a0",
   "metadata": {},
   "source": [
    "---\n",
    "## 1 · Importar librerías y cargar datasets\n",
    "Comenzamos cargando Pandas y leyendo los archivos CSV desde la carpeta `data/raw/`.\n"
   ]
  },
  {
   "cell_type": "markdown",
   "id": "c8301873",
   "metadata": {},
   "source": [
    "### 📦 Librerías que usaremos\n",
    "Importamos módulos clave para:\n",
    "\n",
    "* **pandas / numpy** → manipulación numérica y tabular  \n",
    "* **matplotlib / seaborn** → gráficos rápidos (los usaremos más adelante)  \n",
    "* **pathlib** → manejar rutas de forma independiente del sistema operativo"
   ]
  },
  {
   "cell_type": "code",
   "execution_count": null,
   "id": "7eb3ef0d",
   "metadata": {},
   "outputs": [],
   "source": [
    "import pandas as pd\n",
    "import numpy as np\n",
    "import matplotlib.pyplot as plt\n",
    "import seaborn as sns\n",
    "from pathlib import Path"
   ]
  },
  {
   "cell_type": "markdown",
   "id": "3e6dfcf2",
   "metadata": {},
   "source": [
    "### 🔍 Ubicar el archivo de salarios\n",
    "Utilizamos la constante `DATA_RAW_DIR` (definida en `utils.paths`) para construir\n",
    "la ruta absoluta a **salarios.csv**.  \n",
    "Esto evita escribir paths “hard-codeados” y hace el notebook portable."
   ]
  },
  {
   "cell_type": "code",
   "execution_count": null,
   "id": "51a1b8d2",
   "metadata": {},
   "outputs": [],
   "source": [
    "#Importar la carpeta de datos raw desde paths\n",
    "from cursos.analisis_datos.utils.paths import DATA_RAW_DIR\n",
    "\n",
    "#definir un path o ruta con Path\n",
    "path_salarios = DATA_RAW_DIR / \"salarios.csv\"\n",
    "path_salarios = str(path_salarios)\n",
    "\n",
    "print(f\"Ruta del archivo salarios: {path_salarios}\")\n",
    "print(f\"existe archivo salarios: {Path(path_salarios).exists()}\")"
   ]
  },
  {
   "cell_type": "markdown",
   "id": "80053dfe",
   "metadata": {},
   "source": [
    "### 📥 Carga del dataset de salarios\n",
    "Leemos el archivo con `pd.read_csv()`.  \n",
    "* `sep=','` porque es un CSV estándar.  \n",
    "* `encoding='utf-8'` asegura que caracteres latinos/acentos se lean bien."
   ]
  },
  {
   "cell_type": "code",
   "execution_count": null,
   "id": "0dedb189",
   "metadata": {},
   "outputs": [],
   "source": [
    "df_salarios = pd.read_csv(filepath_or_buffer=path_salarios, sep=',', encoding='utf-8')"
   ]
  },
  {
   "cell_type": "code",
   "execution_count": null,
   "id": "03330506",
   "metadata": {},
   "outputs": [],
   "source": [
    "df_salarios.head(7)"
   ]
  },
  {
   "cell_type": "markdown",
   "id": "4000e935",
   "metadata": {},
   "source": [
    "---\n",
    "## 2 · Explorar la estructura del dataset\n",
    "### 2.1 Información general\n",
    "Revisamos tipos de datos, cantidad de filas/columnas y valores nulos.\n"
   ]
  },
  {
   "cell_type": "markdown",
   "id": "578d1755",
   "metadata": {},
   "source": [
    "### 🏷️ Inspección rápida del DataFrame\n",
    "`df.info()` resume:\n",
    "* Columnas y tipos (`object`, `int64`, etc.)  \n",
    "* Filas no-nulas por columna → detectamos valores faltantes (`pais`, `empresa`)  \n",
    "* Memoria ocupada"
   ]
  },
  {
   "cell_type": "code",
   "execution_count": null,
   "id": "4f8b17fb",
   "metadata": {},
   "outputs": [],
   "source": [
    "df_salarios.info()"
   ]
  },
  {
   "cell_type": "markdown",
   "id": "ddf6c9af",
   "metadata": {},
   "source": [
    "### 2.2 Estadísticas descriptivas rápidas\n"
   ]
  },
  {
   "cell_type": "markdown",
   "id": "5f75b2c2",
   "metadata": {},
   "source": [
    "### 📊 Estadísticas descriptivas\n",
    "`df.describe()` genera medidas (count, mean, std…) solo para columnas\n",
    "numéricas. Aquí vemos *edad* y *años en la empresa*.  \n",
    "Esto ayuda a detectar outliers y entender la dispersión."
   ]
  },
  {
   "cell_type": "code",
   "execution_count": null,
   "id": "cf91ba26",
   "metadata": {},
   "outputs": [],
   "source": [
    "df_salarios.describe()"
   ]
  },
  {
   "cell_type": "markdown",
   "id": "b7493791",
   "metadata": {},
   "source": [
    "---\n",
    "## 3 · Limpiar columnas monetarias\n",
    "Las columnas `sueldo_anual` y `bono_anual` tienen símbolos de moneda. Eliminamos `$` y `€` y convertimos a `float`.\n"
   ]
  },
  {
   "cell_type": "code",
   "execution_count": null,
   "id": "7a25c892",
   "metadata": {},
   "outputs": [],
   "source": [
    "df_salarios.head()"
   ]
  },
  {
   "cell_type": "markdown",
   "id": "a057efbf",
   "metadata": {},
   "source": [
    "Revisar las columnas `sueldo_anual` y `bono_anual` pues tienen los simbolos de moneda"
   ]
  },
  {
   "cell_type": "markdown",
   "id": "e71b5d58",
   "metadata": {},
   "source": [
    "### 💲 Columnas monetarias originales\n",
    "Previsualizamos `sueldo_anual` y `bono_anual` antes de limpiarlas.\n",
    "Observa que contienen símbolos (`$`, `€`) "
   ]
  },
  {
   "cell_type": "code",
   "execution_count": null,
   "id": "15ffed8e",
   "metadata": {},
   "outputs": [],
   "source": [
    "# escribe tu codigo aqui\n",
    "df_salarios[['sueldo_anual', 'bono_anual']]"
   ]
  },
  {
   "cell_type": "markdown",
   "id": "b550d1b8",
   "metadata": {},
   "source": [
    "Renombrar las columnas usando `.rename`\n",
    "\n",
    "```python\n",
    "columns={\n",
    "        \"sueldo_anual\": \"sueldo_anual_dolares\",\n",
    "        \"bono_anual\": \"bono_anual_euros\"\n",
    "    }\n",
    "```"
   ]
  },
  {
   "cell_type": "code",
   "execution_count": null,
   "id": "06435a86",
   "metadata": {},
   "outputs": [],
   "source": [
    "# escribe tu codigo aqui\n"
   ]
  },
  {
   "cell_type": "markdown",
   "id": "25c9dd43",
   "metadata": {},
   "source": [
    "Revisar si las columnas cambiaron de nombre con `.columns`"
   ]
  },
  {
   "cell_type": "code",
   "execution_count": null,
   "id": "c2456622",
   "metadata": {},
   "outputs": [],
   "source": [
    "# escribe tu codigo aqui\n"
   ]
  },
  {
   "cell_type": "markdown",
   "id": "ad6be8c2",
   "metadata": {},
   "source": [
    "Reemplazar el simbolo de dólar `$` por  `''` utilizando el método `.replace()` "
   ]
  },
  {
   "cell_type": "markdown",
   "id": "0d8b55fe",
   "metadata": {},
   "source": [
    "### ✂️ Eliminar símbolo de dólar\n",
    "`str.replace('$','')` quita el carácter pero **deja las comas**.\n",
    "Aún es tipo `object` (string); falta:\n",
    "1. eliminar comas,\n",
    "2. convertir a `float`."
   ]
  },
  {
   "cell_type": "code",
   "execution_count": null,
   "id": "b2f4927c",
   "metadata": {},
   "outputs": [],
   "source": [
    "# escribe tu codigo aqui\n"
   ]
  },
  {
   "cell_type": "markdown",
   "id": "1571b3b1",
   "metadata": {},
   "source": [
    "Cambiar el tipo de dato de sueldo_anual_dolares con `.astype(float)`"
   ]
  },
  {
   "cell_type": "markdown",
   "id": "799305d9",
   "metadata": {},
   "source": [
    "> **Nota:** se produce un `ValueError` porque todavía hay **celdas vacías**\n",
    "  (`''`) o valores con comas que impiden la conversión directa a `float`."
   ]
  },
  {
   "cell_type": "code",
   "execution_count": null,
   "id": "9fcd67f0",
   "metadata": {},
   "outputs": [],
   "source": [
    "\n",
    "df_salarios['sueldo_anual_dolares'] = df_salarios['sueldo_anual_dolares'].astype(float)"
   ]
  },
  {
   "cell_type": "markdown",
   "id": "aeb9629f",
   "metadata": {},
   "source": [
    "### Funcionó? o Cuál es el error?"
   ]
  },
  {
   "cell_type": "markdown",
   "id": "7d539374",
   "metadata": {},
   "source": [
    "##### Tu respuesta aqui"
   ]
  },
  {
   "cell_type": "markdown",
   "id": "2f59bc01",
   "metadata": {},
   "source": [
    "reemplazar las celdas vacias `''`"
   ]
  },
  {
   "cell_type": "markdown",
   "id": "20b274dc",
   "metadata": {},
   "source": [
    "### 🛠️ Reemplazar strings vacíos por `NaN`\n",
    "Usamos `.replace('', np.nan)` para que pandas los reconozca como faltantes\n",
    "y permita la conversión numérica en el siguiente paso."
   ]
  },
  {
   "cell_type": "code",
   "execution_count": null,
   "id": "45485a55",
   "metadata": {},
   "outputs": [],
   "source": [
    "# escribe tu codigo aqui\n"
   ]
  },
  {
   "cell_type": "markdown",
   "id": "f7968fdd",
   "metadata": {},
   "source": [
    "Cambiar el tipo de datos con `.astype(float)`"
   ]
  },
  {
   "cell_type": "markdown",
   "id": "a1426fda",
   "metadata": {},
   "source": [
    "### 🔄 Convertir a numérico\n",
    "Ahora que no hay símbolos ni strings vacíos, `astype(float)` funciona.\n",
    "El resultado es una columna `float64` lista para cálculos."
   ]
  },
  {
   "cell_type": "code",
   "execution_count": null,
   "id": "550641f0",
   "metadata": {},
   "outputs": [],
   "source": [
    "# escribe tu codigo aqui\n"
   ]
  },
  {
   "cell_type": "markdown",
   "id": "27760cc0",
   "metadata": {},
   "source": [
    "Revisar que valores de `sueldo_anual_dolares` tienen el valor `np.nan`"
   ]
  },
  {
   "cell_type": "markdown",
   "id": "eb705b2c",
   "metadata": {},
   "source": [
    "### 📌 Ver cuántos salarios quedaron como `NaN`\n",
    "Esto nos indica cuántos registros tendrán que imputarse\n",
    "o eliminarse en el siguiente bloque de limpieza."
   ]
  },
  {
   "cell_type": "code",
   "execution_count": null,
   "id": "ff8bf05e",
   "metadata": {},
   "outputs": [],
   "source": [
    "# escribe tu codigo aqui\n"
   ]
  },
  {
   "cell_type": "markdown",
   "id": "05c076b1",
   "metadata": {},
   "source": [
    "### 🔍 Inspeccionar filas con salario faltante\n",
    "Listamos las 7 filas donde `sueldo_anual_dolares` es `NaN`.\n",
    "Podremos decidir si:\n",
    "* imputar con la mediana por cargo/país,  \n",
    "* o eliminar si los valores son críticos."
   ]
  },
  {
   "cell_type": "code",
   "execution_count": null,
   "id": "e8ed96e2",
   "metadata": {},
   "outputs": [],
   "source": [
    "df_salarios[df_salarios['sueldo_anual_dolares'].isna()]"
   ]
  },
  {
   "cell_type": "markdown",
   "id": "7e5d655e",
   "metadata": {},
   "source": [
    "Ahora el mismo proceso con el símbolo de euros `€`"
   ]
  },
  {
   "cell_type": "code",
   "execution_count": null,
   "id": "ebc172ea",
   "metadata": {},
   "outputs": [],
   "source": [
    "df_salarios['bono_anual_euros'] = (df_salarios['bono_anual_euros'].str.replace('€', ''))"
   ]
  },
  {
   "cell_type": "code",
   "execution_count": null,
   "id": "61870172",
   "metadata": {},
   "outputs": [],
   "source": [
    "df_salarios['bono_anual_euros'] = (df_salarios['bono_anual_euros'].astype(float))"
   ]
  },
  {
   "cell_type": "code",
   "execution_count": null,
   "id": "54e11cb8",
   "metadata": {},
   "outputs": [],
   "source": [
    "df_salarios[df_salarios['bono_anual_euros'].isna()]"
   ]
  },
  {
   "cell_type": "code",
   "execution_count": null,
   "id": "8ebbd601",
   "metadata": {},
   "outputs": [],
   "source": [
    "df_salarios[['sueldo_anual_dolares', 'bono_anual_euros']].head()"
   ]
  },
  {
   "cell_type": "markdown",
   "id": "e927e970",
   "metadata": {},
   "source": [
    "---\n",
    "## 4 · Detección y manejo de valores nulos\n",
    "### 4.1 Contar nulos por columna\n"
   ]
  },
  {
   "cell_type": "code",
   "execution_count": null,
   "id": "6865a9e7",
   "metadata": {},
   "outputs": [],
   "source": [
    "df_salarios.isnull().sum()"
   ]
  },
  {
   "cell_type": "markdown",
   "id": "2cb30319",
   "metadata": {},
   "source": [
    "> **Estrategias comunes:**\n",
    "- **Eliminar** filas/columnas con muchos nulos (`dropna`).\n",
    "- **Imputar** con media/mediana/moda (`fillna`).\n",
    "- **Revisar** si los nulos tienen significado en tu análisis.\n"
   ]
  },
  {
   "cell_type": "markdown",
   "id": "6b277aed",
   "metadata": {},
   "source": [
    "Revisemos el caso de la columna `['pais']`"
   ]
  },
  {
   "cell_type": "code",
   "execution_count": null,
   "id": "66b5a10c",
   "metadata": {},
   "outputs": [],
   "source": [
    "# escribe tu codigo aqui"
   ]
  },
  {
   "cell_type": "code",
   "execution_count": null,
   "id": "e2a8ffc1",
   "metadata": {},
   "outputs": [],
   "source": [
    "df_salarios = df_salarios.dropna(subset=[\"pais\"])"
   ]
  },
  {
   "cell_type": "code",
   "execution_count": null,
   "id": "bce85e28",
   "metadata": {},
   "outputs": [],
   "source": [
    "df_salarios.isnull().sum()"
   ]
  },
  {
   "cell_type": "markdown",
   "id": "9cc5bb58",
   "metadata": {},
   "source": [
    "Ahora revisemos el caso de la columna `[\"nombre_de_la_empresa\"]`"
   ]
  },
  {
   "cell_type": "code",
   "execution_count": null,
   "id": "563811d0",
   "metadata": {},
   "outputs": [],
   "source": [
    "df_salarios[df_salarios[\"nombre_de_la_empresa\"].isna()]"
   ]
  },
  {
   "cell_type": "markdown",
   "id": "673e081b",
   "metadata": {},
   "source": [
    "No es necesario eliminar esos datos, pues podemos clasificarlos como `\"Empresa Desconocida\"`"
   ]
  },
  {
   "cell_type": "code",
   "execution_count": null,
   "id": "f408e2d3",
   "metadata": {},
   "outputs": [],
   "source": [
    "# escribe tu codigo aqui"
   ]
  },
  {
   "cell_type": "code",
   "execution_count": null,
   "id": "35e7dfe6",
   "metadata": {},
   "outputs": [],
   "source": [
    "df_salarios[df_salarios[\"nombre_de_la_empresa\"].isna()]"
   ]
  },
  {
   "cell_type": "code",
   "execution_count": null,
   "id": "fb90b04f",
   "metadata": {},
   "outputs": [],
   "source": [
    "df_salarios.isnull().sum()"
   ]
  },
  {
   "cell_type": "markdown",
   "id": "ae410494",
   "metadata": {},
   "source": [
    "Revisemos el caso de `[\"sueldo_anual_dolares\"]`"
   ]
  },
  {
   "cell_type": "code",
   "execution_count": null,
   "id": "7dd41090",
   "metadata": {},
   "outputs": [],
   "source": [
    "df_salarios[df_salarios[\"sueldo_anual_dolares\"].isna()]"
   ]
  },
  {
   "cell_type": "markdown",
   "id": "7ef745c4",
   "metadata": {},
   "source": [
    "Al no existir el registro de sueldos, la decision que tomamos fue eliminar esas filas con `dropna()`"
   ]
  },
  {
   "cell_type": "code",
   "execution_count": null,
   "id": "dbb6de2e",
   "metadata": {},
   "outputs": [],
   "source": [
    "df_salarios = df_salarios.dropna(subset=[\"sueldo_anual_dolares\"])"
   ]
  },
  {
   "cell_type": "code",
   "execution_count": null,
   "id": "6cee4921",
   "metadata": {},
   "outputs": [],
   "source": [
    "df_salarios.isnull().sum()"
   ]
  },
  {
   "cell_type": "markdown",
   "id": "8fec42e8",
   "metadata": {},
   "source": [
    "Ahora no tenemos valores nulos"
   ]
  },
  {
   "cell_type": "markdown",
   "id": "63263061",
   "metadata": {},
   "source": [
    "---\n",
    "## 5 · Detección y manejo de duplicados\n",
    "Buscamos registros exactos repetidos.\n"
   ]
  },
  {
   "cell_type": "code",
   "execution_count": null,
   "id": "5951e137",
   "metadata": {},
   "outputs": [],
   "source": [
    "duplicados = # escribe tu codigo aqui\n",
    "print(f'Duplicados encontrados: {duplicados.sum()}')"
   ]
  },
  {
   "cell_type": "code",
   "execution_count": null,
   "id": "dcd5bfa4",
   "metadata": {},
   "outputs": [],
   "source": [
    "df_salarios = df_salarios.drop_duplicates()"
   ]
  },
  {
   "cell_type": "code",
   "execution_count": null,
   "id": "56dd4365",
   "metadata": {},
   "outputs": [],
   "source": [
    "duplicados = df_salarios.duplicated()\n",
    "print(f'Duplicados encontrados: {duplicados.sum()}')"
   ]
  },
  {
   "cell_type": "code",
   "execution_count": null,
   "id": "3fcbb19d",
   "metadata": {},
   "outputs": [],
   "source": [
    "df_salarios.info()"
   ]
  },
  {
   "cell_type": "markdown",
   "id": "9759498d",
   "metadata": {},
   "source": [
    "### 🔢 Reiniciar índices\n",
    "`reset_index(drop=True)` crea un nuevo índice consecutivo (0 → n-1) y descarta el índice anterior.  \n",
    "Útil después de eliminar filas o reordenar el DataFrame para evitar huecos o duplicados en la numeración."
   ]
  },
  {
   "cell_type": "code",
   "execution_count": null,
   "id": "81e8e379",
   "metadata": {},
   "outputs": [],
   "source": [
    "df_salarios = df_salarios.reset_index(drop=True)"
   ]
  },
  {
   "cell_type": "code",
   "execution_count": null,
   "id": "bb2ec14f",
   "metadata": {},
   "outputs": [],
   "source": [
    "df_salarios.info()"
   ]
  },
  {
   "cell_type": "markdown",
   "id": "d9861486",
   "metadata": {},
   "source": [
    "### 💱 Conversión de Euros a Dólares  \n",
    "Definimos una **tasa de cambio fija** `TASA_EUR_USD = 1.10` (1 € → 1.10 US$)  \n",
    "y creamos la columna `bono_anual_dolares` multiplicando cada valor en  \n",
    "`bono_anual_euros` por esa tasa. Esta operación es vectorizada: se aplica  \n",
    "a toda la columna sin necesidad de bucles y deja ambos montos disponibles  \n",
    "para comparaciones o visualizaciones futuras."
   ]
  },
  {
   "cell_type": "code",
   "execution_count": null,
   "id": "26fb6eec",
   "metadata": {},
   "outputs": [],
   "source": [
    "df_salarios.head()"
   ]
  },
  {
   "cell_type": "code",
   "execution_count": null,
   "id": "671daeaa",
   "metadata": {},
   "outputs": [],
   "source": [
    "# 1 € ≈ 1.10 USD\n",
    "TASA_EUR_USD = 1.10"
   ]
  },
  {
   "cell_type": "code",
   "execution_count": null,
   "id": "cc15cf0a",
   "metadata": {},
   "outputs": [],
   "source": [
    "df_salarios[\"bono_anual_dolares\"] = (\n",
    "    df_salarios[\"bono_anual_euros\"] * TASA_EUR_USD\n",
    ")"
   ]
  },
  {
   "cell_type": "code",
   "execution_count": null,
   "id": "005a064e",
   "metadata": {},
   "outputs": [],
   "source": [
    "df_salarios[[\"bono_anual_euros\", \"bono_anual_dolares\"]]"
   ]
  },
  {
   "cell_type": "markdown",
   "id": "b6825b71",
   "metadata": {},
   "source": [
    "### 📏 Ajuste de precisión  \n",
    "Redondeamos `bono_anual_dolares` a **una cifra decimal** (`round(1)`) para  \n",
    "homogeneizar el formato de los valores monetarios y evitar “ruido” de  \n",
    "centavos insignificantes al presentar o agrupar los datos."
   ]
  },
  {
   "cell_type": "code",
   "execution_count": null,
   "id": "1dc1c07a",
   "metadata": {},
   "outputs": [],
   "source": [
    "# escribe tu codigo aqui"
   ]
  },
  {
   "cell_type": "code",
   "execution_count": null,
   "id": "1f23b51b",
   "metadata": {},
   "outputs": [],
   "source": [
    "df_salarios[[\"bono_anual_euros\", \"bono_anual_dolares\"]]"
   ]
  },
  {
   "cell_type": "code",
   "execution_count": null,
   "id": "8e692779",
   "metadata": {},
   "outputs": [],
   "source": [
    "df_salarios.info()"
   ]
  },
  {
   "cell_type": "markdown",
   "id": "97be8f12",
   "metadata": {},
   "source": [
    "## 6 · Cargar el dataframe de países\n"
   ]
  },
  {
   "cell_type": "code",
   "execution_count": null,
   "id": "34d3cb2b",
   "metadata": {},
   "outputs": [],
   "source": [
    "#definir un path o ruta con Path\n",
    "path_paises = DATA_RAW_DIR / \"paises.csv\"\n",
    "path_paises = str(path_paises)\n",
    "\n",
    "print(f\"Ruta del archivo paises: {path_paises}\")\n",
    "print(f\"existe archivo paises: {Path(path_paises).exists()}\")"
   ]
  },
  {
   "cell_type": "code",
   "execution_count": null,
   "id": "6afd91a3",
   "metadata": {},
   "outputs": [],
   "source": [
    "df_paises = pd.read_csv(filepath_or_buffer=path_paises, sep=',', encoding='utf-8')"
   ]
  },
  {
   "cell_type": "code",
   "execution_count": null,
   "id": "d584713b",
   "metadata": {},
   "outputs": [],
   "source": [
    "df_paises.head()"
   ]
  },
  {
   "cell_type": "code",
   "execution_count": null,
   "id": "8490de83",
   "metadata": {},
   "outputs": [],
   "source": [
    "df_paises['pais'].unique()"
   ]
  },
  {
   "cell_type": "code",
   "execution_count": null,
   "id": "3f440449",
   "metadata": {},
   "outputs": [],
   "source": [
    "df_paises['pais'].nunique()"
   ]
  },
  {
   "cell_type": "code",
   "execution_count": null,
   "id": "86b1f8e9",
   "metadata": {},
   "outputs": [],
   "source": [
    "df_salarios['pais'].unique()"
   ]
  },
  {
   "cell_type": "code",
   "execution_count": null,
   "id": "a1904267",
   "metadata": {},
   "outputs": [],
   "source": [
    "df_salarios['pais'].nunique()"
   ]
  },
  {
   "cell_type": "code",
   "execution_count": null,
   "id": "a6248682",
   "metadata": {},
   "outputs": [],
   "source": [
    "paises_en_df_paises = set(df_paises[\"pais\"])\n",
    "paises_en_df_paises"
   ]
  },
  {
   "cell_type": "code",
   "execution_count": null,
   "id": "72824395",
   "metadata": {},
   "outputs": [],
   "source": [
    "paises_en_df_salarios = set(df_salarios[\"pais\"])\n",
    "paises_en_df_salarios"
   ]
  },
  {
   "cell_type": "markdown",
   "id": "a9c25afa",
   "metadata": {},
   "source": [
    "### 🔍 Identificar discrepancias entre DataFrames\n",
    "\n",
    "1. **`paises_faltantes_en_df_paises`**  \n",
    "   Conjunto de países que **están en `df_paises` pero no aparecen** en `df_salarios`.\n",
    "\n",
    "2. **`paises_faltantes_en_df_salarios`**  \n",
    "   Conjunto inverso: países presentes en `df_salarios`, ausentes en `df_paises`.\n",
    "\n",
    "3. **`paises_faltantes`**  \n",
    "   Unión (`|`) de ambos conjuntos → lista global de **todos los países que no coinciden** entre los dos DataFrames.  \n",
    "   Útil para decidir si imputar, descartar o investigar la fuente de datos."
   ]
  },
  {
   "cell_type": "code",
   "execution_count": null,
   "id": "2514706f",
   "metadata": {},
   "outputs": [],
   "source": [
    "paises_faltantes_en_df_paises = paises_en_df_paises - paises_en_df_salarios\n",
    "paises_faltantes_en_df_paises"
   ]
  },
  {
   "cell_type": "code",
   "execution_count": null,
   "id": "82f9dae1",
   "metadata": {},
   "outputs": [],
   "source": [
    "paises_faltantes_en_df_salarios =  paises_en_df_salarios - paises_en_df_paises\n",
    "paises_faltantes_en_df_salarios"
   ]
  },
  {
   "cell_type": "code",
   "execution_count": null,
   "id": "7b46c41a",
   "metadata": {},
   "outputs": [],
   "source": [
    "paises_faltantes = paises_faltantes_en_df_paises | paises_faltantes_en_df_salarios\n",
    "paises_faltantes"
   ]
  },
  {
   "cell_type": "code",
   "execution_count": null,
   "id": "4bb70a9f",
   "metadata": {},
   "outputs": [],
   "source": [
    "df_paises[df_paises['pais'].isin(paises_faltantes)]"
   ]
  },
  {
   "cell_type": "markdown",
   "id": "c3532bfc",
   "metadata": {},
   "source": [
    "### 🗑️ Eliminar registros específicos  \n",
    "Usamos `drop(index=[1, 8, 9])` para remover las filas cuyo índice es 1, 8 y 9  \n",
    "(Brasil, Ecuador y Bolivia en este caso). Esto excluye esos países del  \n",
    "DataFrame `df_paises` antes de realizar uniones o análisis posteriores."
   ]
  },
  {
   "cell_type": "code",
   "execution_count": null,
   "id": "0d93f4a8",
   "metadata": {},
   "outputs": [],
   "source": [
    "# escribe tu codigo aqui"
   ]
  },
  {
   "cell_type": "code",
   "execution_count": null,
   "id": "b1ece248",
   "metadata": {},
   "outputs": [],
   "source": [
    "df_paises.reset_index(drop=True, inplace=True)"
   ]
  },
  {
   "cell_type": "code",
   "execution_count": null,
   "id": "560ca9f2",
   "metadata": {},
   "outputs": [],
   "source": [
    "df_paises"
   ]
  },
  {
   "cell_type": "markdown",
   "id": "8e281fe3",
   "metadata": {},
   "source": [
    "### 💲 Limpieza y conversión de columnas monetarias  \n",
    "Seleccionamos las columnas `PIB` e `ingreso_per_capita` y:\n",
    "\n",
    "1. **`replace({'\\\\$': '', ',': ''}, regex=True)`**  \n",
    "   - Elimina el símbolo de dólar (`$`) y las comas de miles (`,`).  \n",
    "   - `regex=True` permite usar patrones de expresión regular.\n",
    "\n",
    "2. **`astype(float)`**  \n",
    "   - Convierte las cadenas ya limpias a valores numéricos (`float64`).\n",
    "\n",
    "Resultado: ambas columnas quedan listas para cálculos y comparaciones\n",
    "estadísticas sin símbolos ni separadores."
   ]
  },
  {
   "cell_type": "code",
   "execution_count": null,
   "id": "0bbd29b3",
   "metadata": {},
   "outputs": [],
   "source": [
    "df_paises[[\"PIB\", \"ingreso_per_capita\"]] = (df_paises[[\"PIB\", \"ingreso_per_capita\"]].replace({'\\\\$': '', ',': ''}, regex=True).astype(float))"
   ]
  },
  {
   "cell_type": "code",
   "execution_count": null,
   "id": "c44dd838",
   "metadata": {},
   "outputs": [],
   "source": [
    "df_paises.head()"
   ]
  },
  {
   "cell_type": "code",
   "execution_count": null,
   "id": "157a3ff0",
   "metadata": {},
   "outputs": [],
   "source": [
    "df_paises.isnull().sum()"
   ]
  },
  {
   "cell_type": "markdown",
   "id": "ade95137",
   "metadata": {},
   "source": [
    "---\n",
    "## 7 · Unir datasets (`merge`)\n",
    "Unimos `df_salarios` con `df_paises` por la columna `pais` para enriquecer la información.\n"
   ]
  },
  {
   "cell_type": "code",
   "execution_count": null,
   "id": "a56915d4",
   "metadata": {},
   "outputs": [],
   "source": [
    "# escribe tu codigo aqui"
   ]
  },
  {
   "cell_type": "code",
   "execution_count": null,
   "id": "242c81e7",
   "metadata": {},
   "outputs": [],
   "source": [
    "df_salarios_pais.head()"
   ]
  },
  {
   "cell_type": "markdown",
   "id": "9cc04972",
   "metadata": {},
   "source": [
    "---\n",
    "## 8 · Crear columnas derivadas\n"
   ]
  },
  {
   "cell_type": "markdown",
   "id": "b99e0a21",
   "metadata": {},
   "source": [
    "### 💰 Métrica de compensación total  \n",
    "Creamos `compensacion_total` sumando el salario anual (`sueldo_anual_dolares`)  \n",
    "y el bono anual convertido a dólares (`bono_anual_dolares`).  \n",
    "Esta columna refleja cuánto percibe realmente cada empleado en un año,  \n",
    "facilitando análisis comparativos por país, cargo o empresa."
   ]
  },
  {
   "cell_type": "code",
   "execution_count": null,
   "id": "460817ed",
   "metadata": {},
   "outputs": [],
   "source": [
    "# escribe tu codigo aqui"
   ]
  },
  {
   "cell_type": "code",
   "execution_count": null,
   "id": "72249791",
   "metadata": {},
   "outputs": [],
   "source": [
    "df_salarios_pais.head()"
   ]
  },
  {
   "cell_type": "markdown",
   "id": "16906503",
   "metadata": {},
   "source": [
    "### 🏆 Clasificación de senioridad  \n",
    "Creamos la columna `senioridad` con `np.where`:\n",
    "\n",
    "* **Condición** → `anos_en_la_empresa > 5`  \n",
    "  - Si el empleado lleva **más de 5 años**, se le etiqueta como **\"Senior\"**.  \n",
    "  - En caso contrario, se marca como **\"Junior\"**.\n",
    "\n",
    "Así obtenemos una variable categórica que nos ayudará a comparar\n",
    "compensaciones y otros indicadores entre niveles de experiencia."
   ]
  },
  {
   "cell_type": "code",
   "execution_count": null,
   "id": "06bc72bd",
   "metadata": {},
   "outputs": [],
   "source": [
    "# escribe tu codigo aqui"
   ]
  },
  {
   "cell_type": "code",
   "execution_count": null,
   "id": "cea38323",
   "metadata": {},
   "outputs": [],
   "source": [
    "df_salarios_pais[['nombre', 'apellido', 'anos_en_la_empresa','compensacion_total', 'senioridad']].head(10)"
   ]
  },
  {
   "cell_type": "markdown",
   "id": "367430d7",
   "metadata": {},
   "source": [
    "### 🔎 Revisión de valores nulos por columna  \n",
    "`df_salarios_pais.isna().sum()` muestra cuántos `NaN` hay en cada columna  \n",
    "tras el merge. Los resultados indican que los registros de **Costa Rica**  \n",
    "aún presentan nulos en `capital`, `PIB`, `cantidad_de_habitantes` e  \n",
    "`ingreso_per_capita`. Conviene imputar o investigar estos campos antes de  \n",
    "continuar con el análisis para evitar sesgos o errores en cálculos agregados."
   ]
  },
  {
   "cell_type": "code",
   "execution_count": null,
   "id": "2f186d73",
   "metadata": {},
   "outputs": [],
   "source": [
    "df_salarios_pais.isna().sum()"
   ]
  },
  {
   "cell_type": "code",
   "execution_count": null,
   "id": "f6a6cb11",
   "metadata": {},
   "outputs": [],
   "source": [
    "df_salarios_pais[df_salarios_pais['pais'] == 'Costa Rica']"
   ]
  },
  {
   "cell_type": "markdown",
   "id": "ca09b203",
   "metadata": {},
   "source": [
    "### 🔍 Filtrar filas de Costa Rica  \n",
    "Creamos `mask_cr` para identificar las filas donde `pais == \"Costa Rica\"` y,  \n",
    "con `loc`, mostramos únicamente esos registros. Así podemos inspeccionar  \n",
    "qué columnas siguen con `NaN` y decidir cómo imputarlas o ajustarlas."
   ]
  },
  {
   "cell_type": "code",
   "execution_count": null,
   "id": "60760505",
   "metadata": {},
   "outputs": [],
   "source": [
    "mask_cr = df_salarios_pais[\"pais\"] == \"Costa Rica\"\n",
    "df_salarios_pais.loc[mask_cr]"
   ]
  },
  {
   "cell_type": "markdown",
   "id": "ae4d49a8",
   "metadata": {},
   "source": [
    "### 📝 Diccionario con datos oficiales de Costa Rica  \n",
    "Definimos `datos_cr` con los valores verificados para imputar en las filas  \n",
    "de Costa Rica:\n",
    "\n",
    "* **capital:** San José  \n",
    "* **cantidad_de_habitantes:** 5 150 000  \n",
    "* **PIB:** 86 500 000 000 USD  \n",
    "* **ingreso_per_capita:** 14 319 USD\n",
    "\n",
    "Estos números reemplazarán los `NaN` correspondientes en el DataFrame."
   ]
  },
  {
   "cell_type": "code",
   "execution_count": null,
   "id": "1cc70e55",
   "metadata": {},
   "outputs": [],
   "source": [
    "datos_cr = {\n",
    "    \"capital\": \"San José\",\n",
    "    \"cantidad_de_habitantes\": 5150000,\n",
    "    \"PIB\": 86500000000,\n",
    "    \"ingreso_per_capita\": 14319\n",
    "}"
   ]
  },
  {
   "cell_type": "markdown",
   "id": "1b773a7b",
   "metadata": {},
   "source": [
    "### 🛠️ Imputar valores faltantes para Costa Rica  \n",
    "Recorremos `datos_cr` y, para cada columna:\n",
    "\n",
    "1. **Ubicamos** únicamente las filas de Costa Rica (`mask_cr`).  \n",
    "2. **`fillna(valor)`** reemplaza solo los `NaN` con el dato oficial correspondiente.  \n",
    "3. Asignamos el resultado de vuelta a la misma columna, dejando intactos los\n",
    "   registros de otros países.\n",
    "\n",
    "De este modo, Costa Rica queda completa sin alterar los valores ya correctos."
   ]
  },
  {
   "cell_type": "code",
   "execution_count": null,
   "id": "ef436538",
   "metadata": {},
   "outputs": [],
   "source": [
    "# escribe tu codigo aqui"
   ]
  },
  {
   "cell_type": "code",
   "execution_count": null,
   "id": "c58d8ada",
   "metadata": {},
   "outputs": [],
   "source": [
    "df_salarios_pais.loc[mask_cr]"
   ]
  },
  {
   "cell_type": "markdown",
   "id": "425242aa",
   "metadata": {},
   "source": [
    "### ✅ Verificación final de nulos  \n",
    "Ejecutamos `df_salarios_pais.isnull().sum()` para confirmar que **todas las  \n",
    "columnas ahora muestran 0 valores faltantes**. Nuestro DataFrame está listo  \n",
    "para pasar al Análisis Exploratorio de Datos sin riesgos de errores por `NaN`."
   ]
  },
  {
   "cell_type": "code",
   "execution_count": null,
   "id": "3e26081e",
   "metadata": {},
   "outputs": [],
   "source": [
    "# escribe tu codigo aqui"
   ]
  },
  {
   "cell_type": "code",
   "execution_count": null,
   "id": "d85003a0",
   "metadata": {},
   "outputs": [],
   "source": [
    "df_salarios_pais.info()"
   ]
  },
  {
   "cell_type": "markdown",
   "id": "a88fa036",
   "metadata": {},
   "source": [
    "---\n",
    "## 9 · Exportar dataset limpio\n"
   ]
  },
  {
   "cell_type": "code",
   "execution_count": null,
   "id": "d57676b9",
   "metadata": {},
   "outputs": [],
   "source": [
    "from cursos.analisis_datos.utils.paths import DATA_PROCESSED_DIR"
   ]
  },
  {
   "cell_type": "code",
   "execution_count": null,
   "id": "88f478c0",
   "metadata": {},
   "outputs": [],
   "source": [
    "salarios_pais_path = DATA_PROCESSED_DIR / \"salarios_pais.csv\"\n",
    "salarios_pais_path = str(salarios_pais_path)\n",
    "\n",
    "print(f\"Ruta del archivo salarios_paises: {salarios_pais_path}\")\n",
    "print(f\"existe archivo salarios_pais: {Path(salarios_pais_path).exists()}\")"
   ]
  },
  {
   "cell_type": "markdown",
   "id": "c3b1e1af",
   "metadata": {},
   "source": [
    "### 💾 Exportar dataset limpio  \n",
    "`to_csv(..., index=False, sep=',', encoding='utf-8')` guarda `df_salarios_pais` como un CSV en la ruta definida por `salarios_pais_path`, sin incluir la columna de índice y usando codificación UTF-8.  \n",
    "La línea `print()` confirma en pantalla la ubicación del archivo generado, facilitando su localización para futuros análisis o compartición."
   ]
  },
  {
   "cell_type": "code",
   "execution_count": null,
   "id": "dfba0841",
   "metadata": {},
   "outputs": [],
   "source": [
    "# escribe tu codigo aqui"
   ]
  },
  {
   "cell_type": "code",
   "execution_count": null,
   "id": "b8d54da1",
   "metadata": {},
   "outputs": [],
   "source": [
    "print(f' Dataset limpio exportado a {salarios_pais_path}')"
   ]
  },
  {
   "cell_type": "code",
   "execution_count": null,
   "id": "cc0fdebf",
   "metadata": {},
   "outputs": [],
   "source": [
    "print(f\"existe archivo salarios_pais: {Path(salarios_pais_path).exists()}\")"
   ]
  },
  {
   "cell_type": "markdown",
   "id": "6b041cfd",
   "metadata": {},
   "source": [
    "---\n",
    "## 10 · Resumen \n",
    "En esta práctica aprendiste a:\n",
    "- Limpiar columnas con símbolos.\n",
    "- Detectar/llenar nulos y eliminar duplicados.\n",
    "- Realizar un **merge** y enriquecer tu información.\n",
    "- Crear métricas derivadas y exportar datos limpios.\n",
    "\n"
   ]
  },
  {
   "cell_type": "markdown",
   "id": "587adb7a",
   "metadata": {},
   "source": []
  }
 ],
 "metadata": {
  "kernelspec": {
   "display_name": "pyda-py311",
   "language": "python",
   "name": "python3"
  },
  "language_info": {
   "codemirror_mode": {
    "name": "ipython",
    "version": 3
   },
   "file_extension": ".py",
   "mimetype": "text/x-python",
   "name": "python",
   "nbconvert_exporter": "python",
   "pygments_lexer": "ipython3",
   "version": "3.11.13"
  }
 },
 "nbformat": 4,
 "nbformat_minor": 5
}
