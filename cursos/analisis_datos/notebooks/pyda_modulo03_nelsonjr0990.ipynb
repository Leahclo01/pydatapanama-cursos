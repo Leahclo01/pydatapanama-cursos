{
 "cells": [
  {
   "cell_type": "markdown",
   "id": "7106da10",
   "metadata": {},
   "source": [
    "# 📊 Módulo 3 – Análisis Exploratorio de Datos (EDA)\n",
    "\n",
    "En este notebook exploraremos el dataset `salarios_pais.csv` con **Pandas**, **Matplotlib** y **Seaborn**.\n",
    "\n",
    "## 🎯 Objetivos\n",
    "- Comprender qué es el EDA y por qué es fundamental.\n",
    "- Identificar patrones, tendencias y outliers.\n",
    "- Usar el tipo de gráfico más adecuado según la pregunta.\n",
    "- Comunicar hallazgos con visualizaciones claras."
   ]
  },
  {
   "cell_type": "markdown",
   "id": "a0ebd9d0",
   "metadata": {},
   "source": [
    "## Recuerden la Estructura de un proyecto\n",
    "\n",
    "Una estructura recomendada puede ser:\n",
    "```\n",
    "project-name/\n",
    "├── assest/           # Imagenes, graficos (generalmente no se sube a github)\n",
    "├── data/             # Datos crudos y procesados\n",
    "    ├──── raw/   \n",
    "    ├──── processed/   --> Datos limpios\n",
    "├── notebooks/        # Notebooks del proyecto\n",
    "├── utils/            # Funciones auxiliares\n",
    "├── docs/             # Documentación\n",
    "├── README.md         # Descripción general\n",
    "├── environment.yml   # Dependencias usando conda\n",
    "└── requirements.txt  # Dependencias usando pip"
   ]
  },
  {
   "cell_type": "markdown",
   "id": "cbf00b16",
   "metadata": {},
   "source": [
    "---\n",
    "## 0 · Setup\n",
    "Cargamos librerías y configuramos Seaborn para que los gráficos se vean con un estilo agradable.\n"
   ]
  },
  {
   "cell_type": "code",
   "execution_count": null,
   "id": "c0365528",
   "metadata": {},
   "outputs": [],
   "source": [
    "import pandas as pd\n",
    "import numpy as np\n",
    "import matplotlib.pyplot as plt\n",
    "import seaborn as sns\n",
    "from pathlib import Path"
   ]
  },
  {
   "cell_type": "markdown",
   "id": "7a0b7207",
   "metadata": {},
   "source": [
    "### 0.1 · Carga del dataset transformado\n",
    "Asegúrate de que `salarios_pais.csv` se encuentra en la ruta `data/processed/`.\n"
   ]
  },
  {
   "cell_type": "code",
   "execution_count": null,
   "id": "d32d3574",
   "metadata": {},
   "outputs": [],
   "source": [
    "#Importar la carpeta de datos raw desde paths\n",
    "from cursos.analisis_datos.utils.paths import DATA_PROCESSED_DIR\n",
    "\n",
    "#definir un path o ruta con Path\n",
    "path_salarios_pais = DATA_PROCESSED_DIR / \"salarios_pais.csv\"\n",
    "path_salarios_pais = str(path_salarios_pais)\n",
    "\n",
    "print(f\"Ruta del archivo salarios_pais: {path_salarios_pais}\")\n",
    "print(f\"existe archivo salarios_pais: {Path(path_salarios_pais).exists()}\")"
   ]
  },
  {
   "cell_type": "code",
   "execution_count": null,
   "id": "cb518b4f",
   "metadata": {},
   "outputs": [],
   "source": [
    "df_salarios_pais = pd.read_csv(filepath_or_buffer=path_salarios_pais, sep=',', encoding='utf-8')\n",
    "df_salarios_pais.head()"
   ]
  },
  {
   "cell_type": "markdown",
   "id": "b69af7c0",
   "metadata": {},
   "source": [
    "---\n",
    "## 1 · Revisión general\n",
    "Antes de graficar, entendamos la estructura de los datos.\n"
   ]
  },
  {
   "cell_type": "code",
   "execution_count": null,
   "id": "b0cc4993",
   "metadata": {},
   "outputs": [],
   "source": [
    "df_salarios_pais.info()"
   ]
  },
  {
   "cell_type": "code",
   "execution_count": null,
   "id": "a7058d10",
   "metadata": {},
   "outputs": [],
   "source": [
    "df_salarios_pais.describe().T.head(10)"
   ]
  },
  {
   "cell_type": "markdown",
   "id": "f781b316",
   "metadata": {},
   "source": [
    "---\n",
    "## 2 · Análisis Univariado (una variable)\n",
    "### ¿Qué gráfico usar?\n",
    "| Objetivo | Variable | Tipo de gráfico |\n",
    "|----------|----------|-----------------|\n",
    "| Distribución de valores | Numérica | **Histograma** (frecuencia) |\n",
    "| Detección de outliers | Numérica | **Boxplot** / **Violinplot** |\n",
    "| Frecuencia de categorías | Categórica | **Bar plot** |\n"
   ]
  },
  {
   "cell_type": "markdown",
   "id": "cdbf493f",
   "metadata": {},
   "source": [
    "### 📈 ¿Qué es el análisis univariado?\n",
    "\n",
    "El **análisis univariado** examina **una sola variable** para entender su comportamiento sin considerar otras. Permite:\n",
    "\n",
    "- Conocer **distribución** y **tendencia central** (media, mediana, moda).  \n",
    "- Detectar **outliers** y asimetrías.  \n",
    "- Resumir **dispersión** (rango, varianza, IQR).\n",
    "\n",
    "Se usa al inicio de cualquier proyecto para obtener un panorama general de cada variable.  \n",
    "**Gráficos típicos:** histograma, boxplot, barplot (si es categórica) y tablas de frecuencia."
   ]
  },
  {
   "cell_type": "markdown",
   "id": "200b12a6",
   "metadata": {},
   "source": [
    "### 2.1 · Histograma – `total_compensacion`\n",
    "Los histogramas nos permiten ver la forma de la distribución (asimetría, valores extremos)."
   ]
  },
  {
   "cell_type": "markdown",
   "id": "98403cb9",
   "metadata": {},
   "source": [
    "> **Explicación:**  \n",
    "> Genera un **histograma** de la columna `compensacion_total` con 30 bins para ver la frecuencia de salarios y, además, dibuja una **curva KDE** (línea suave) que muestra la densidad estimada de la distribución. Luego agrega título y etiqueta del eje X antes de mostrar el gráfico."
   ]
  },
  {
   "cell_type": "code",
   "execution_count": 2,
   "id": "a1a8e324",
   "metadata": {},
   "outputs": [],
   "source": [
    "# ── Ejercicio ────────────────────────────────────────────────────────────\n",
    "# 1. Traza un histograma de la columna 'compensacion_total'.\n",
    "# 2. Usa 30 bins para ver el detalle de la distribución\n",
    "#    y activa la curva KDE (Kernel Density Estimate) para\n",
    "#    superponer una línea suave que indique la densidad.\n",
    "# 3. Añade un título y etiqueta del eje X para hacer\n",
    "#    el gráfico auto-explicativo.\n",
    "# 4. Llama a plt.show() para renderizarlo."
   ]
  },
  {
   "cell_type": "markdown",
   "id": "8286c23a",
   "metadata": {},
   "source": [
    "### 2.2 · Boxplot – Detectar outliers por cargo\n",
    "Los **boxplots** resumen la mediana, el rango intercuartílico y muestran posibles valores atípicos."
   ]
  },
  {
   "cell_type": "markdown",
   "id": "8e684027",
   "metadata": {},
   "source": [
    "**📦 ¿Cuándo usar un boxplot?**  \n",
    "Utilízalo cuando necesites resumir la **distribución de una variable numérica** y:\n",
    "\n",
    "* Comparar **múltiples grupos** (eje X categórico vs eje Y numérico).  \n",
    "* Detectar **outliers** fácilmente (puntos fuera de los bigotes).  \n",
    "* Visualizar la **mediana** y la **dispersión** (rango intercuartílico).  \n",
    "\n",
    "Ideal para contraste rápido entre cargos, países, experimentos A/B, etc."
   ]
  },
  {
   "cell_type": "markdown",
   "id": "1a602884",
   "metadata": {},
   "source": [
    "**🔍 Cómo leer un boxplot**\n",
    "\n",
    "- **Caja (Box)**  \n",
    "  Delimita el **rango intercuartílico (IQR)**: del Q1 (25 %) al Q3 (75 %) de los datos.\n",
    "\n",
    "- **Línea central**  \n",
    "  Marca la **mediana (Q2 / 50 %)**: el valor que divide la distribución en dos mitades.\n",
    "\n",
    "- **Extremos (“bigotes”)**  \n",
    "  Se extienden hasta el valor más bajo y más alto **dentro de 1.5 × IQR**.  \n",
    "  Puntos más allá se dibujan como **outliers** individuales."
   ]
  },
  {
   "cell_type": "code",
   "execution_count": 1,
   "id": "36eaf73e",
   "metadata": {},
   "outputs": [],
   "source": [
    "# ── Ejercicio ────────────────────────────────────────────────────────────\n",
    "# 1. Crea un boxplot que compare la ‘compensacion_total’ entre cargos.\n",
    "# 2. Usa un canvas amplio (12×6) para que las etiquetas no se amontonen.\n",
    "# 3. Rota los nombres de los cargos 45 ° y alinéalos a la derecha\n",
    "#    para que queden legibles bajo cada boxplot.\n",
    "# 4. Añade título y etiqueta del eje Y (USD).\n",
    "# 5. Finaliza con plt.show() para visualizar el gráfico."
   ]
  },
  {
   "cell_type": "markdown",
   "id": "4967b732",
   "metadata": {},
   "source": [
    "---\n",
    "## 3 · Análisis Bivariado\n",
    "Ahora buscamos **relaciones** entre dos variables.\n",
    "\n",
    "| Objetivo | Var. 1 | Var. 2 | Gráfico sugerido |\n",
    "|----------|--------|--------|------------------|\n",
    "| Relación lineal | Numérica | Numérica | **Scatter** |\n",
    "| Comparar distribuciones | Categórica | Numérica | **Box / Violin** |\n",
    "| Media de grupos | Categórica | Numérica | **Barplot** (con `est=np.mean`) |\n"
   ]
  },
  {
   "cell_type": "markdown",
   "id": "70f18df3",
   "metadata": {},
   "source": [
    "### 🔗 ¿Qué es el análisis bivariado?\n",
    "\n",
    "El **análisis bivariado** estudia la **relación entre dos variables** a la vez (X vs Y).  \n",
    "Se usa para responder preguntas como:\n",
    "\n",
    "* ¿Existe correlación entre años de experiencia y salario?  \n",
    "* ¿Cómo varía el ingreso promedio por país?  \n",
    "* ¿La categoría A tiene mayor tasa de conversión que B?\n",
    "\n",
    "Usa **scatterplots, box/violin plots, barplots o tablas de contingencia** según si las variables son numéricas o categóricas.  \n",
    "Empléalo cuando quieras identificar patrones, dependencias o diferencias entre dos dimensiones clave de tu dataset."
   ]
  },
  {
   "cell_type": "markdown",
   "id": "18bb86ff",
   "metadata": {},
   "source": [
    "### 3.1 · Scatter – `anos_en_la_empresa` vs. `total_compensacion`\n"
   ]
  },
  {
   "cell_type": "markdown",
   "id": "7e03c43f",
   "metadata": {},
   "source": [
    "### 🔵 ¿Qué es un *scatterplot*?\n",
    "\n",
    "Un **scatterplot** (diagrama de dispersión) representa dos variables numéricas\n",
    "mediante puntos en un plano cartesiano:\n",
    "\n",
    "* **Eje X** → variable independiente  \n",
    "* **Eje Y** → variable dependiente\n",
    "\n",
    "Cada punto corresponde a una observación (fila).  \n",
    "Permite visualizar la **relación** entre ambas variables y detectar patrones.\n",
    "\n",
    "---\n",
    "\n",
    "#### 🕒 ¿Cuándo usarlo?\n",
    "\n",
    "| Objetivo | Ejemplo |\n",
    "|----------|---------|\n",
    "| **Correlación** (¿suben/junto o bajan?) | Años de experiencia vs salario |\n",
    "| **Tendencia lineal / no lineal** | Temperatura vs consumo eléctrico |\n",
    "| **Densidad de puntos** | Clientes vs compras en distintas horas |\n",
    "| **Outliers** | Ventas atípicas en un mes específico |\n",
    "| **Comparar grupos** <br>(con `hue`, `style`, `size`) | Senioridad coloreada por categoría |\n",
    "\n",
    "> 🔑 Ideal cuando **ambas variables son cuantitativas** y deseas ver la forma\n",
    "  de su relación antes de aplicar un modelo o cálculo estadístico."
   ]
  },
  {
   "cell_type": "code",
   "execution_count": 3,
   "id": "932d6277",
   "metadata": {},
   "outputs": [],
   "source": [
    "# ── Ejercicio ────────────────────────────────────────────────────────────\n",
    "# 1. Dibuja un scatterplot para analizar la relación entre:\n",
    "#    - X: años en la empresa\n",
    "#    - Y: compensación total\n",
    "# 2. Colorea los puntos por nivel de 'senioridad' con el parámetro hue\n",
    "#    para distinguir rápidamente Juniors y Seniors.\n",
    "# 3. Coloca la leyenda fuera del área de datos usando bbox_to_anchor‐\n",
    "#    (1.02,1) y loc='upper left', de modo que no tape ningún punto.\n",
    "# 4. Añade título y etiquetas de ejes con unidades.\n",
    "# 5. Aplica tight_layout() para ajustar los márgenes antes de mostrar."
   ]
  },
  {
   "cell_type": "markdown",
   "id": "5d2c68f2",
   "metadata": {},
   "source": [
    "### 3.2 · Barplot – Compensación media por país\n",
    "`est=np.min` nos da el mínimo por grupo."
   ]
  },
  {
   "cell_type": "markdown",
   "id": "e85cc98a",
   "metadata": {},
   "source": [
    "### 📊 ¿Qué muestra este barplot?\n",
    "\n",
    "Cada barra representa la **compensación total mínima** (o el estadístico elegido con `estimator`, p. ej. `np.mean`, `np.min`, `np.max`) para un país.  \n",
    "La altura indica el valor del estadístico y las líneas verticales (error bars) señalan la **incertidumbre**—por defecto, el intervalo de confianza del 95 % calculado por Seaborn.\n",
    "\n",
    "---\n",
    "\n",
    "#### 🕒 ¿Cuándo usar un *barplot*?\n",
    "\n",
    "| Situación | Ejemplo |\n",
    "|-----------|---------|\n",
    "| **Comparar una métrica agregada** entre categorías discretas | Salario medio por país, ventas promedio por trimestre |\n",
    "| **Visualizar mínimos / máximos** por grupo (usando `estimator=np.min` o `np.max`) | Mínimo tiempo de respuesta por equipo |\n",
    "| Mostrar **tendencias claras y ordenadas** cuando los grupos no son demasiados y los valores se agregan de modo sencillo | Tasa de conversión por canal de marketing |\n",
    "\n",
    "\n",
    "\n",
    "> Un barplot es apropiado cuando quieres una **comparación rápida y legible** de un estadístico (media, mediana, etc.) calculado a partir de muchas observaciones dentro de cada categoría."
   ]
  },
  {
   "cell_type": "code",
   "execution_count": 4,
   "id": "fcf1a8e1",
   "metadata": {},
   "outputs": [],
   "source": [
    "# ── Ejercicio ────────────────────────────────────────────────────────────\n",
    "# 1. Crea un barplot que muestre la **compensación mínima** por país\n",
    "#    (usa estimator=np.min). Ideal para comparar pisos salariales.\n",
    "# 2. Incluye barras de error con un intervalo de confianza del 95 %\n",
    "#    mediante errorbar=('ci', 95).\n",
    "# 3. Ajusta la figura a 12×6 y rota las etiquetas de los países 45 °\n",
    "#    para que no se solapen.\n",
    "# 4. Añade un título descriptivo y etiqueta del eje Y indicando que se\n",
    "#    trata de valores mínimos en USD.\n",
    "# 5. Finaliza con plt.show()."
   ]
  },
  {
   "cell_type": "markdown",
   "id": "d0e2d8af",
   "metadata": {},
   "source": [
    "---\n",
    "## 4 · Análisis de correlación\n",
    "La matriz de correlación nos ayuda a detectar relaciones lineales entre variables numéricas. Un **heatmap** lo hace más visual."
   ]
  },
  {
   "cell_type": "markdown",
   "id": "2ebd8b40",
   "metadata": {},
   "source": [
    "### 🔥 ¿Cuándo usar una matriz de correlación y su heatmap?\n",
    "\n",
    "| Herramienta | ¿Qué es? | ¿Cuándo te ayuda? |\n",
    "|-------------|----------|-------------------|\n",
    "| **Matriz de correlación (`df.corr()`)** | Tabla numérica que muestra la **fuerza y dirección** (−1 ⇢ 1) de la relación lineal entre pares de variables cuantitativas. | *Diagnóstico rápido* de:  <br>• **Multicolinealidad** antes de un modelo (variables muy correlacionadas inflan la varianza).<br>• Selección de *features*: descartar las que aportan información redundante.<br>• Descubrir relaciones inesperadas para hipótesis futuras. |\n",
    "| **Heatmap de correlación (`sns.heatmap(corr)`)** | Representación visual en la que los valores de la matriz se codifican con una paleta de colores (rojo/azul, etc.). | *Comunicación e insight visual*: <br>• Detectar **patrones** y **bloques** de variables correlacionadas de un vistazo.<br>• Presentar hallazgos a personas no técnicas (más intuitivo que la tabla numérica).<br>• Focalizar la atención en correlaciones fuertes o anómalas. |\n",
    "\n",
    "💡 **Recomendado** al inicio del EDA, justo después de limpiar y convertir a numérico, para orientar qué variables explorar más a fondo y evitar sorpresas al modelar."
   ]
  },
  {
   "cell_type": "code",
   "execution_count": 5,
   "id": "f4a1cd8f",
   "metadata": {},
   "outputs": [],
   "source": [
    "# ── Ejercicio ────────────────────────────────────────────────────────────\n",
    "# 1. Selecciona sólo las columnas numéricas con `select_dtypes`.\n",
    "# 2. Calcula la matriz de correlación (`corr()`) para ver qué tan\n",
    "#    relacionadas están las variables entre sí (−1 a 1).\n",
    "# 3. Dibuja un heatmap con:\n",
    "#    • `annot=True`   → escribe el valor numérico en cada celda.\n",
    "#    • `cmap='coolwarm'` → paleta rojo–azul que resalta positivos y negativos.\n",
    "#    • `fmt='.2f'`    → muestra los números con 2 decimales.\n",
    "# 4. Ajusta la figura a 10×8 y añade un título descriptivo.\n",
    "# 5. Llama a plt.show() para visualizar la matriz de correlación."
   ]
  },
  {
   "cell_type": "markdown",
   "id": "02803359",
   "metadata": {},
   "source": [
    "> **Interpretación rápida:** Valores cercanos a 1 o -1 indican correlación fuerte. Aquí podemos investigar por qué ciertas variables están altamente correlacionadas y si es lógico según el negocio."
   ]
  },
  {
   "cell_type": "markdown",
   "id": "b1dcbfc9",
   "metadata": {},
   "source": [
    "---\n",
    "## 5 · Pairplot rápido (opcional, pesado en datasets grandes)\n",
    "Muestra todas las combinaciones numéricas en una sola figura. Útil para detectar relaciones de forma rápida."
   ]
  },
  {
   "cell_type": "markdown",
   "id": "72d24283",
   "metadata": {},
   "source": [
    "### 🔄 ¿Cuándo usar un *pairplot*?\n",
    "\n",
    "Un **pairplot** (Seaborn `sns.pairplot`) genera, en una sola figura, todas las combinaciones posibles de **gráficos bivariados** entre un conjunto de variables numéricas, junto con sus distribuciones univariadas en la diagonal.\n",
    "\n",
    "#### 🕑 Cuándo es útil\n",
    "\n",
    "| Escenario | Por qué te ayuda |\n",
    "|-----------|-----------------|\n",
    "| **EDA rápido en datasets pequeños/medianos** | Visualizas correlaciones, clusters y outliers sin escribir múltiples líneas de código. |\n",
    "| **Comparar varias variables simultáneamente** | Ves de un vistazo qué pares muestran relación lineal o no, y cómo es cada distribución. |\n",
    "| **Proyecto exploratorio o presentación preliminar** | Ideal para “mapear” el terreno antes de profundizar con análisis específicos. |\n",
    "\n",
    "#### 💡 Buenas prácticas\n",
    "\n",
    "- ⚠️ **No para datasets grandes**: cada extra variable aumenta combinaciones cuadráticamente; puede volverse muy pesado.  \n",
    "- ✅ Limita el número de variables (4-6) seleccionando solo las más relevantes.  \n",
    "- 🎨 Usa `hue` para colorear por categoría y ver cómo los grupos se separan en varias dimensiones.\n",
    "\n",
    "> En resumen, emplea un *pairplot* como un “panel diagnóstico” inicial para descubrir patrones globales antes de elegir gráficos o tests estadísticos más específicos."
   ]
  },
  {
   "cell_type": "code",
   "execution_count": 6,
   "id": "bdab1f60",
   "metadata": {},
   "outputs": [],
   "source": [
    "# ── Ejercicio ────────────────────────────────────────────────────────────\n",
    "# 1. Genera un *pairplot* con Seaborn para las cuatro variables numéricas\n",
    "#    seleccionadas: compensación total, años en la empresa, salario anual\n",
    "#    y bono anual.\n",
    "# 2. En cada parte inferior de la matriz verás un scatter: relación\n",
    "#    bivariada entre pares de variables.\n",
    "# 3. En la diagonal (`diag_kind='kde'`) se dibuja la densidad KDE de cada\n",
    "#    variable (en lugar de un histograma) para que la forma de la\n",
    "#    distribución sea más suave.\n",
    "# 4. Este gráfico permite detectar de un vistazo correlaciones lineales,\n",
    "#    clusters y outliers entre todas las combinaciones de variables."
   ]
  },
  {
   "cell_type": "markdown",
   "id": "b2a4272e",
   "metadata": {},
   "source": [
    "---\n",
    "## 6 🎨 Buenas prácticas al graficar con Matplotlib / Seaborn\n",
    "\n",
    "### 1 · Anatomía de una figura"
   ]
  },
  {
   "cell_type": "raw",
   "id": "160831ed",
   "metadata": {
    "vscode": {
     "languageId": "raw"
    }
   },
   "source": [
    "┌──────────────────────────────── F igure ────────────────────────────────┐\n",
    "│                                                                         │\n",
    "│   ┌───────── A x e s ───────────────┐                                   │\n",
    "│   │                                 │                                   │\n",
    "│   │   ▴  Y-label                    │                                   │\n",
    "│   │   │                               Title                             │\n",
    "│   │   │           ◂ plot area ▸      │                                   │\n",
    "│   │   │                               Legend                            │\n",
    "│   │   └─────────────────────────────► X-label                           │\n",
    "│   └─────────────────────────────────┘                                   │\n",
    "│                                                                         │\n",
    "└─────────────────────────────────────────────────────────────────────────┘"
   ]
  },
  {
   "cell_type": "markdown",
   "id": "b186b3cd",
   "metadata": {},
   "source": [
    "\t•\tFigure – el lienzo general; puede contener uno o varios ejes.\n",
    "\t•\tAxes – área donde se dibuja un gráfico individual (subplots).\n",
    "\t•\tAxis – los ejes x y y dentro de cada Axes.\n",
    "\t•\tTítulo, etiquetas, leyenda, grid – elementos que añaden contexto.\n",
    "\n",
    "👉 Regla de oro: ajusta cada elemento conscientemente; evita configuraciones por defecto si dificultan la lectura."
   ]
  },
  {
   "cell_type": "markdown",
   "id": "5a1dde12",
   "metadata": {},
   "source": [
    "### 🕒 ¿Cuándo usar este patrón?\n",
    "*\tSerie temporal: temperatura vs tiempo, ventas diarias, etc.\n",
    "*\tFunción matemática: visualizar forma y ruido de una ecuación.\n",
    "*\tDemostración de principios: explicar ruido estadístico o suavizado."
   ]
  },
  {
   "cell_type": "code",
   "execution_count": null,
   "id": "234bcfd5",
   "metadata": {},
   "outputs": [],
   "source": [
    "# Ejemplo de datos\n",
    "x = np.linspace(0, 10, 50)\n",
    "y = np.sin(x) + np.random.normal(0, .2, size=len(x))\n",
    "\n",
    "# 1) Crea figura y eje\n",
    "fig, ax = plt.subplots(figsize=(8, 4))\n",
    "\n",
    "# 2) Grafica en ese eje\n",
    "ax.plot(x, y, marker='o', linestyle='-', color='teal', label='Serie A')\n",
    "\n",
    "# 3) Personaliza\n",
    "ax.set_title('Ejemplo de línea con ruido')\n",
    "ax.set_xlabel('Tiempo (s)')\n",
    "ax.set_ylabel('Valor (u)')\n",
    "ax.legend()\n",
    "ax.grid(True)\n",
    "ax.legend()\n",
    "plt.tight_layout();           \n",
    "plt.show()"
   ]
  },
  {
   "cell_type": "markdown",
   "id": "d985a533",
   "metadata": {},
   "source": [
    "**🗂️ ¿Cuándo usar subplots lado a lado?**\n",
    "\n",
    "- Cuando necesitas **comparar dos vistas** de la misma variable (p. ej. distribución vs evolución temporal) sin ocupar varias figuras.\n",
    "- Para **reportes o dashboards**: ahorras espacio y mantienes la narrativa en una sola imagen.\n",
    "- Ideal en el EDA para ver la **forma global** (histograma) y el **comportamiento secuencial** (línea temporal) al mismo tiempo."
   ]
  },
  {
   "cell_type": "code",
   "execution_count": null,
   "id": "894fe840",
   "metadata": {},
   "outputs": [],
   "source": [
    "fig, axs = plt.subplots(nrows=1, ncols=2, figsize=(12, 4))\n",
    "\n",
    "# Histograma\n",
    "sns.histplot(y, bins=15, ax=axs[0], color='steelblue')\n",
    "axs[0].set_title('Distribución de Y')\n",
    "\n",
    "# Serie temporal\n",
    "axs[1].plot(x, y, color='darkorange')\n",
    "axs[1].set_title('Serie temporal')\n",
    "\n",
    "for ax in axs:\n",
    "    ax.set_xlabel('Tiempo (s)')\n",
    "    ax.set_ylabel('Valor (u)')\n",
    "    ax.grid(alpha=0.3)\n",
    "\n",
    "plt.suptitle('Ejemplo de figure con dos subplots', fontsize=14, y=1.05)\n",
    "plt.tight_layout()\n",
    "plt.show()"
   ]
  },
  {
   "cell_type": "markdown",
   "id": "28fec8b0",
   "metadata": {},
   "source": [
    "**🔵 ¿Cuándo usar este tipo de scatterplot múltiple?**\n",
    "\n",
    "- Para visualizar la **relación entre dos variables numéricas** (`total_bill` vs `tip`) mientras se **segmenta por dos factores categóricos**:\n",
    "  - Color (`hue=\"sex\"`) diferencia hombres y mujeres.\n",
    "  - Marcador (`style=\"smoker\"`) distingue fumadores de no fumadores.\n",
    "\n",
    "Útil cuando quieres detectar patrones o diferencias en grupos combinando tanto color como forma en un solo gráfico, manteniendo la leyenda fuera del área de datos para no tapar puntos."
   ]
  },
  {
   "cell_type": "code",
   "execution_count": null,
   "id": "3e728963",
   "metadata": {},
   "outputs": [],
   "source": [
    "tips = sns.load_dataset(\"tips\")\n",
    "\n",
    "fig, ax = plt.subplots(figsize=(6, 4))\n",
    "sns.scatterplot(data=tips, x=\"total_bill\", y=\"tip\",\n",
    "                hue=\"sex\", style=\"smoker\",\n",
    "                palette={\"Male\": \"#1f77b4\", \"Female\": \"#e377c2\"},\n",
    "                ax=ax)\n",
    "\n",
    "ax.set_title('Propina vs Total de la cuenta')\n",
    "sns.move_legend(ax, \"upper left\", bbox_to_anchor=(1,1))  # fuera del plot\n",
    "plt.tight_layout()\n",
    "plt.show()"
   ]
  },
  {
   "cell_type": "markdown",
   "id": "4f938fdb",
   "metadata": {},
   "source": [
    "✅ Checklist de buenas prácticas\n",
    "1.\tDefine figura y ejes explícitos (fig, ax)\n",
    "2.\tAjusta título, ejes y unidades; no dejes “Total” sin aclarar qué es.\n",
    "3.\tColoca la leyenda fuera si estorba los datos.\n",
    "4.\tElige colores accesibles y consistentes.\n",
    "5.\tUsa tight_layout() o constrained_layout=True para evitar cortes.\n",
    "6.\tExporta en alta resolución (dpi=300) si lo usarás en informes impresos.\n",
    "7.\tSimplifica: quita elementos innecesarios y deja que la historia resalte."
   ]
  },
  {
   "cell_type": "markdown",
   "id": "778582c1",
   "metadata": {},
   "source": [
    "---\n",
    "## 7 · Conclusiones del Módulo 3\n",
    "- Seleccionamos el gráfico según la variable y la pregunta.\n",
    "- Detectamos outliers y correlaciones para orientar análisis futuros.\n",
    "- Comunicar insights con visualizaciones claras es tan importante como el cálculo en sí.\n",
    "\n",
    "➡️ Próximo módulo: **responder preguntas de negocio** usando las transformaciones y visualizaciones aprendidas.\n"
   ]
  }
 ],
 "metadata": {
  "kernelspec": {
   "display_name": "pyda-py311",
   "language": "python",
   "name": "python3"
  },
  "language_info": {
   "codemirror_mode": {
    "name": "ipython",
    "version": 3
   },
   "file_extension": ".py",
   "mimetype": "text/x-python",
   "name": "python",
   "nbconvert_exporter": "python",
   "pygments_lexer": "ipython3",
   "version": "3.11.0"
  }
 },
 "nbformat": 4,
 "nbformat_minor": 5
}
